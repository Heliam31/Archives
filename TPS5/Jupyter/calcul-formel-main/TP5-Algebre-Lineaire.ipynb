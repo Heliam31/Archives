{
 "cells": [
  {
   "cell_type": "code",
   "execution_count": null,
   "metadata": {},
   "outputs": [],
   "source": []
  },
  {
   "cell_type": "markdown",
   "metadata": {
    "deletable": false,
    "editable": false,
    "run_control": {
     "frozen": true
    }
   },
   "source": [
    "\n",
    "# TP Matrices et Vecteurs: un peu d'algèbre linéaire\n",
    "\n",
    "Durant cette séance nous nous intéressons à la manipulation de matrices et de vecteurs et nous aborderons des concepts généraux en algèbre linéaire.\n",
    "\n",
    "## Introduction\n",
    "\n",
    "### Matrices\n",
    "Tout d'abord notons que la création d'une matrice $A$ de dimension $m \\times n$ en Sage s'obtient par la commande \n",
    "\n",
    "`A=matrix(m,n,[[ligne1],[ligne2],...,lignem]])`\n",
    "\n",
    "ou m est le nombre de ligne et n le nombre d'éléments dans une ligne (autrement dit n est le nombre de colonne). Par défaut, les éléments de cette matrice seront considérés dans le domaine de définition des éléments passé dans les lignes. Si m et n sont spécifiés on peut simplement donner une seule liste de valeurs (pas besoin de liste de liste)."
   ]
  },
  {
   "cell_type": "code",
   "execution_count": null,
   "metadata": {},
   "outputs": [],
   "source": []
  },
  {
   "cell_type": "markdown",
   "metadata": {
    "deletable": false,
    "editable": false,
    "run_control": {
     "frozen": true
    }
   },
   "source": [
    "- si les éléments sont différents, la coercion de type la plus englobante sera utilisée\n",
    "- si on souhaite un type particulier, on spécifit le domaine des définitions des éléments comme premier argument"
   ]
  },
  {
   "cell_type": "code",
   "execution_count": null,
   "metadata": {},
   "outputs": [],
   "source": []
  },
  {
   "cell_type": "markdown",
   "metadata": {
    "deletable": false,
    "editable": false,
    "run_control": {
     "frozen": true
    }
   },
   "source": [
    "### Vecteurs\n",
    "Cela marche de manière identique pour les vecteurs avec la commande\n",
    "\n",
    "`vector([e1,e2,...,em])`\n",
    "\n",
    "Les vecteurs ne sont pas orientés, ils sont à la fois ligne et colonnes, le choix se fera selon le contexte. \n",
    "Si l'on souhaite créer des vecteurs d'une certaine dimension il faudra toujours donner le domaine de définition des coefficients.\n",
    "\n",
    "`vector(DD, [e1,e2,...,em])` ou `vector(DD,m)`\n",
    "\n",
    "Si l'on souhaite orienter un vecteur, il suffira de créer une matrice à 1 ligne ou 1 colonne. "
   ]
  },
  {
   "cell_type": "code",
   "execution_count": null,
   "metadata": {},
   "outputs": [],
   "source": []
  },
  {
   "cell_type": "markdown",
   "metadata": {
    "deletable": false,
    "editable": false,
    "run_control": {
     "frozen": true
    }
   },
   "source": [
    "## Multiplication\n",
    "\n",
    "L'operateur `*` permet de faire la multiplication des matrices et des vecteurs comme suit:\n",
    "- un vecteur ligne avec un matrice: `v*A`\n",
    "- une matrice avec un vecteur colonne: `A*v`\n",
    "- un vecteur ligne avec un vecteur colonne (produit scalaire): `v1*v2`\n",
    "- un vecteur colonne avec un vecteur ligne (produit ouvert): `v2*v1`\n",
    "- un vecteur ou une matrice avec un scalaire : `a*A` ou `a*v` \n",
    "\n",
    "### Question\n",
    "À partir des matrices et des vecteurs suivants donner tous les produits possibles et afficher le domaine parmi (`ZZ`,`QQ`,`SR`) dans lequel a été effectué le calcul\n",
    "$$\n",
    "A=\\begin{pmatrix} 1&2&3\\\\4&5&6\\end{pmatrix}, B=\\begin{pmatrix} 3&6&9\\\\1&2&4\\\\1&2&3\\end{pmatrix}, u=\\begin{pmatrix} 1&x&x^2 \\end{pmatrix}, v=\\begin{pmatrix} 8\\\\5 \\\\ 7/3\\end{pmatrix}\n",
    "$$\n"
   ]
  },
  {
   "cell_type": "code",
   "execution_count": 1,
   "metadata": {},
   "outputs": [
    {
     "name": "stdout",
     "output_type": "stream",
     "text": [
      "A x B\n"
     ]
    },
    {
     "data": {
      "text/html": [
       "<html><script type=\"math/tex; mode=display\">\\newcommand{\\Bold}[1]{\\mathbf{#1}}\\left(\\begin{array}{rrr}\n",
       "8 & 16 & 26 \\\\\n",
       "23 & 46 & 74\n",
       "\\end{array}\\right)</script></html>"
      ],
      "text/plain": [
       "[ 8 16 26]\n",
       "[23 46 74]"
      ]
     },
     "metadata": {},
     "output_type": "display_data"
    },
    {
     "data": {
      "text/html": [
       "<html><script type=\"math/tex; mode=display\">\\newcommand{\\Bold}[1]{\\mathbf{#1}}\\verb|type:| \\verb|<class|\\phantom{\\verb!x!}\\verb|'sage.rings.integer.Integer'>|</script></html>"
      ],
      "text/plain": [
       "'type: ' <class 'sage.rings.integer.Integer'>"
      ]
     },
     "metadata": {},
     "output_type": "display_data"
    },
    {
     "name": "stdout",
     "output_type": "stream",
     "text": [
      "A x u\n"
     ]
    },
    {
     "data": {
      "text/html": [
       "<html><script type=\"math/tex; mode=display\">\\newcommand{\\Bold}[1]{\\mathbf{#1}}\\left(3 \\, x^{2} + 2 \\, x + 1,\\,6 \\, x^{2} + 5 \\, x + 4\\right)</script></html>"
      ],
      "text/plain": [
       "(3*x^2 + 2*x + 1, 6*x^2 + 5*x + 4)"
      ]
     },
     "metadata": {},
     "output_type": "display_data"
    },
    {
     "data": {
      "text/html": [
       "<html><script type=\"math/tex; mode=display\">\\newcommand{\\Bold}[1]{\\mathbf{#1}}\\verb|type:| \\verb|<class|\\phantom{\\verb!x!}\\verb|'sage.symbolic.expression.Expression'>|</script></html>"
      ],
      "text/plain": [
       "'type: ' <class 'sage.symbolic.expression.Expression'>"
      ]
     },
     "metadata": {},
     "output_type": "display_data"
    },
    {
     "name": "stdout",
     "output_type": "stream",
     "text": [
      "A x v\n"
     ]
    },
    {
     "data": {
      "text/html": [
       "<html><script type=\"math/tex; mode=display\">\\newcommand{\\Bold}[1]{\\mathbf{#1}}\\left(\\begin{array}{r}\n",
       "25 \\\\\n",
       "71\n",
       "\\end{array}\\right)</script></html>"
      ],
      "text/plain": [
       "[25]\n",
       "[71]"
      ]
     },
     "metadata": {},
     "output_type": "display_data"
    },
    {
     "data": {
      "text/html": [
       "<html><script type=\"math/tex; mode=display\">\\newcommand{\\Bold}[1]{\\mathbf{#1}}\\verb|type:| \\verb|<class|\\phantom{\\verb!x!}\\verb|'sage.rings.rational.Rational'>|</script></html>"
      ],
      "text/plain": [
       "'type: ' <class 'sage.rings.rational.Rational'>"
      ]
     },
     "metadata": {},
     "output_type": "display_data"
    },
    {
     "name": "stdout",
     "output_type": "stream",
     "text": [
      "B x u\n"
     ]
    },
    {
     "data": {
      "text/html": [
       "<html><script type=\"math/tex; mode=display\">\\newcommand{\\Bold}[1]{\\mathbf{#1}}\\left(9 \\, x^{2} + 6 \\, x + 3,\\,4 \\, x^{2} + 2 \\, x + 1,\\,3 \\, x^{2} + 2 \\, x + 1\\right)</script></html>"
      ],
      "text/plain": [
       "(9*x^2 + 6*x + 3, 4*x^2 + 2*x + 1, 3*x^2 + 2*x + 1)"
      ]
     },
     "metadata": {},
     "output_type": "display_data"
    },
    {
     "data": {
      "text/html": [
       "<html><script type=\"math/tex; mode=display\">\\newcommand{\\Bold}[1]{\\mathbf{#1}}\\verb|type:| \\verb|<class|\\phantom{\\verb!x!}\\verb|'sage.symbolic.expression.Expression'>|</script></html>"
      ],
      "text/plain": [
       "'type: ' <class 'sage.symbolic.expression.Expression'>"
      ]
     },
     "metadata": {},
     "output_type": "display_data"
    },
    {
     "name": "stdout",
     "output_type": "stream",
     "text": [
      "B x v\n"
     ]
    },
    {
     "data": {
      "text/html": [
       "<html><script type=\"math/tex; mode=display\">\\newcommand{\\Bold}[1]{\\mathbf{#1}}\\left(\\begin{array}{r}\n",
       "75 \\\\\n",
       "\\frac{82}{3} \\\\\n",
       "25\n",
       "\\end{array}\\right)</script></html>"
      ],
      "text/plain": [
       "[  75]\n",
       "[82/3]\n",
       "[  25]"
      ]
     },
     "metadata": {},
     "output_type": "display_data"
    },
    {
     "data": {
      "text/html": [
       "<html><script type=\"math/tex; mode=display\">\\newcommand{\\Bold}[1]{\\mathbf{#1}}\\verb|type:| \\verb|<class|\\phantom{\\verb!x!}\\verb|'sage.rings.rational.Rational'>|</script></html>"
      ],
      "text/plain": [
       "'type: ' <class 'sage.rings.rational.Rational'>"
      ]
     },
     "metadata": {},
     "output_type": "display_data"
    },
    {
     "name": "stdout",
     "output_type": "stream",
     "text": [
      "u x v\n"
     ]
    },
    {
     "data": {
      "text/html": [
       "<html><script type=\"math/tex; mode=display\">\\newcommand{\\Bold}[1]{\\mathbf{#1}}\\left(\\frac{7}{3} \\, x^{2} + 5 \\, x + 8\\right)</script></html>"
      ],
      "text/plain": [
       "(7/3*x^2 + 5*x + 8)"
      ]
     },
     "metadata": {},
     "output_type": "display_data"
    },
    {
     "data": {
      "text/html": [
       "<html><script type=\"math/tex; mode=display\">\\newcommand{\\Bold}[1]{\\mathbf{#1}}\\verb|type:| \\verb|<class|\\phantom{\\verb!x!}\\verb|'sage.symbolic.expression.Expression'>|</script></html>"
      ],
      "text/plain": [
       "'type: ' <class 'sage.symbolic.expression.Expression'>"
      ]
     },
     "metadata": {},
     "output_type": "display_data"
    }
   ],
   "source": [
    "var('x')\n",
    "A=matrix(2,3,[[1,2,3],[4,5,6]])\n",
    "B=matrix(3,3,[[3,6,9],[1,2,4],[1,2,3]])\n",
    "u=vector(SR,[1,x,x**2])\n",
    "v=matrix(3,1,[[8],[5],[7/3]])\n",
    "l = [(A, \"A\"), (B, \"B\"), (u, \"u\"), (v, \"v\")]\n",
    "def prodEtType(l):\n",
    "    l2 = []\n",
    "    for m in l:\n",
    "        for m2 in l:\n",
    "            if m != m2 and ((m, m2) not in l2) and ((m2, m) not in l2):\n",
    "                l2.append((m, m2))\n",
    "    for prod in l2:\n",
    "        nom1 = prod[0][1]\n",
    "        nom2 = prod[1][1]\n",
    "        obj1 = prod[0][0]\n",
    "        obj2 = prod[1][0]\n",
    "        mul = obj1*obj2\n",
    "        print(nom1 + \" x \" + nom2)\n",
    "        show(mul)\n",
    "        try:\n",
    "            show(\"type: \", type(mul[0][0]))\n",
    "        except:\n",
    "            show(\"type: \", type(mul[0]))\n",
    "    \n",
    "prodEtType(l)"
   ]
  },
  {
   "cell_type": "markdown",
   "metadata": {
    "deletable": false,
    "editable": false,
    "run_control": {
     "frozen": true
    }
   },
   "source": [
    "## Combinaison linéaire de vecteurs\n",
    "\n",
    "Si on considère un ensemble de vecteurs colonnes $v_1,\\dots,v_m$ tous de dimension $n$, et un ensemble de scalaires $\\alpha_1,\\dots, \\alpha_m$, le calcul de la combinaison linéaire\n",
    "$$\n",
    "u = \\alpha_1v_1+\\alpha_2v_2+\\dots+\\alpha_mv_m\n",
    "$$\n",
    "est équivalent au calcul du produit d'une matrice $A$ de $n$ lignes et $m$ colonnes par un vecteur colonne de dimension $m$\n",
    "$$\n",
    "u=\n",
    "\\begin{pmatrix}\n",
    " &&&\\\\\n",
    " v_1 & v_2 & \\dots& v_m\\\\\n",
    " &&&\\\\\\\n",
    "\\end{pmatrix}\n",
    "\\begin{pmatrix}\n",
    "\\alpha_1 \\\\ \\alpha_2 \\\\ \\vdots \\\\\\alpha_m\n",
    "\\end{pmatrix}\n",
    "$$"
   ]
  },
  {
   "cell_type": "markdown",
   "metadata": {
    "deletable": false,
    "editable": false,
    "run_control": {
     "frozen": true
    }
   },
   "source": [
    "### Question\n",
    "\n",
    "Calculer la combinaison linéaire suivante :\n",
    "$$\n",
    "3 * \\begin{pmatrix} 1 \\\\ 2 \\\\ 3 \\end{pmatrix} +\n",
    "4 * \\begin{pmatrix} 2 \\\\ 3 \\\\ 4 \\end{pmatrix} +\n",
    "5 * \\begin{pmatrix} 3 \\\\ 4 \\\\ 5 \\end{pmatrix} \n",
    "$$\n",
    "en construisant la matrice $A$ et le vecteur colonne $v_1$ adéquat puis en faisant le produit $A\\times v_1$. \n",
    "\n",
    "Vous ferez le même calcul en construisant la matrice $B$ adéquate et le vecteur ligne $v_2$ en faisant le produit $v_2\\times B$. \n",
    "\n",
    "Vérifiez que $v_1$ et $v_2$ contienne bien les mêmes valeurs mais qu'ils ne sont pas identiques."
   ]
  },
  {
   "cell_type": "code",
   "execution_count": 2,
   "metadata": {},
   "outputs": [
    {
     "data": {
      "text/html": [
       "<html><script type=\"math/tex; mode=display\">\\newcommand{\\Bold}[1]{\\mathbf{#1}}\\left(26,\\,38,\\,50\\right)</script></html>"
      ],
      "text/plain": [
       "(26, 38, 50)"
      ]
     },
     "metadata": {},
     "output_type": "display_data"
    },
    {
     "data": {
      "text/html": [
       "<html><script type=\"math/tex; mode=display\">\\newcommand{\\Bold}[1]{\\mathbf{#1}}\\left(\\begin{array}{rrr}\n",
       "26 & 38 & 50\n",
       "\\end{array}\\right)</script></html>"
      ],
      "text/plain": [
       "[26 38 50]"
      ]
     },
     "metadata": {},
     "output_type": "display_data"
    }
   ],
   "source": [
    "A=matrix(3,3,[[1,2,3],[2,3,4],[3,4,5]])\n",
    "v1=vector([3,4,5])\n",
    "show(A*v1)\n",
    "B=matrix(3,3,[[1,2,3],[2,3,4],[3,4,5]])\n",
    "v2=matrix(1,3,[[3,4,5]])\n",
    "show(v2*B)"
   ]
  },
  {
   "cell_type": "markdown",
   "metadata": {
    "deletable": false,
    "editable": false,
    "run_control": {
     "frozen": true
    }
   },
   "source": [
    "### Transposition de matrice/vecteur\n",
    "\n",
    "Les vecteurs $v_1$ et $v_2$ de la question précédente ne sont pas identique car  ils sont orientés différemment: un est en ligne alors que l'autre est en colonne. On dit qu'ils sont transposé l'un de l'autres.\n",
    "\n",
    "L'opération de tranposition d'un vecteur est donc le changement d'orientation. Cette notion s'étend aux matrices en considérant qu'une matrice est une collection de vecteurs (soit en ligne, soit en colonne, les deux chois sont possibles). Par conséquent la tranposition d'une matrice consiste à transposer les vecteurs la consistuant.\n",
    "\n",
    "$$\n",
    "A=\n",
    "\\begin{pmatrix}\n",
    " &&&\\\\\n",
    " v_1 & v_2 & \\dots& v_m\\\\\n",
    " &&&\\\\\\\n",
    "\\end{pmatrix}\n",
    " \\rightarrow\n",
    " A^T= \\begin{pmatrix}\n",
    " v_1^T \\\\ v_2^T \\\\ \\vdots \\\\ v_m^T\\\\\n",
    "\\end{pmatrix}\n",
    "$$"
   ]
  },
  {
   "cell_type": "markdown",
   "metadata": {
    "deletable": false,
    "editable": false,
    "run_control": {
     "frozen": true
    }
   },
   "source": [
    "### Question\n",
    "\n",
    "Essayer de trouver une propriété sur la transposition d'un produit en utilisant le fait que le vecteur $Av_1$ et $v_2B$ sont transposés l'un de l'autre. Si vous ne trouvez pas regarder sur Wikipédia."
   ]
  },
  {
   "cell_type": "markdown",
   "metadata": {
    "deletable": false,
    "editable": false,
    "run_control": {
     "frozen": true
    }
   },
   "source": [
    "Réponse: (A*B)^T == B^T *A^T"
   ]
  },
  {
   "cell_type": "markdown",
   "metadata": {
    "deletable": false,
    "editable": false,
    "run_control": {
     "frozen": true
    }
   },
   "source": [
    "## Résolution de systèmes d'équations linéaires\n",
    "\n",
    "La résolution d´équation linéaire est une des opérations fondamentale en algèbre linéaire, et cela s'exprime facilement via la notion de produit matrice-vecteur. En effet, si l'on pose le système d'équation suivant:\n",
    "\\begin{equation}\n",
    "\\begin{cases}\n",
    "6x+5y-z=3\\\\\n",
    "2x-5+7z=-8\\\\\n",
    "x+y+z=3\n",
    "\\end{cases}\n",
    "\\end{equation}\n",
    "on peut ré-éxprimer ce problème sous forme matricielle:\n",
    "$$\n",
    "\\begin{pmatrix}\n",
    "6 & 5 & -1\\\\\n",
    "2 & -5 & 7\\\\\n",
    "1 & 1 & 1 \\\\\n",
    "\\end{pmatrix}\n",
    "\\begin{pmatrix}x\\\\y\\\\z\\end{pmatrix}\n",
    "= \\begin{pmatrix} 3\\\\-8\\\\3 \\end{pmatrix}\n",
    "$$\n",
    "\n",
    "Pour résoudre un système d'équation linéaire donnéer par l'équation matricielle $Ax=b$,  il suffit d'appeler la méthode `A.solve_right(b)`. Si l'on souhaite résoudre à gauche $xA=b$, on appelle `A.solve_left(b)`."
   ]
  },
  {
   "cell_type": "markdown",
   "metadata": {
    "deletable": false,
    "editable": false,
    "run_control": {
     "frozen": true
    }
   },
   "source": [
    "### Question\n",
    "\n",
    "Trouver une solution au système donnée ci-dessus.\n",
    "- en cherchant une solution dans les rationnels\n",
    "- en redéfinissant le système sur le corps finis $GF(5)$. Attention, lisez bien les messages obtenus, surtout la dernière ligne."
   ]
  },
  {
   "cell_type": "code",
   "execution_count": 3,
   "metadata": {},
   "outputs": [
    {
     "data": {
      "text/plain": [
       "[ -17/9]\n",
       "[173/54]\n",
       "[ 91/54]"
      ]
     },
     "execution_count": 3,
     "metadata": {},
     "output_type": "execute_result"
    }
   ],
   "source": [
    "A = matrix(3,3,[[6,5,-1],[2,-5,7],[1,1,1]])\n",
    "b = matrix(3,1,[[3],[-8],[3]])\n",
    "A.solve_right(b)"
   ]
  },
  {
   "cell_type": "code",
   "execution_count": 4,
   "metadata": {},
   "outputs": [
    {
     "data": {
      "text/plain": [
       "[2]\n",
       "[2]\n",
       "[4]"
      ]
     },
     "execution_count": 4,
     "metadata": {},
     "output_type": "execute_result"
    }
   ],
   "source": [
    "A = matrix(GF(5),3,3,[[6,5,-1],[2,-5,7],[1,1,1]])\n",
    "b = matrix(GF(5),3,1,[[3],[-8],[3]])\n",
    "A.solve_right(b)"
   ]
  },
  {
   "cell_type": "markdown",
   "metadata": {
    "deletable": false,
    "editable": false,
    "run_control": {
     "frozen": true
    }
   },
   "source": [
    "### Question\n",
    "\n",
    "En utilisant la méthode `solve_right` des matrices trouver l'équation des droites $y=\\alpha x + \\beta $ qui passe par les points:\n",
    "- $(0,0)$ et $(3,5)$\n",
    "- $(-1,2)$ et $(7,-3)$\n",
    "\n",
    "Vous chercherez $\\alpha$ et $\\beta$ dans les rationnels et vous vérifierez vos résultats en utilisant la fonction plot sur l'intervalle $[-10,10]$."
   ]
  },
  {
   "cell_type": "code",
   "execution_count": 2,
   "metadata": {},
   "outputs": [
    {
     "data": {
      "image/png": "[encoded data removed]",
      "text/plain": [
       "Graphics object consisting of 2 graphics primitives"
      ]
     },
     "metadata": {},
     "output_type": "display_data"
    }
   ],
   "source": [
    "var('x')\n",
    "A = matrix(2,2,[[0,1],[3,1]])\n",
    "b = matrix(2,1,[[0],[5]])\n",
    "sol=A.solve_right(b)\n",
    "a1 = sol[0][0]\n",
    "b1 = sol[1][0]\n",
    "f1(x)=a1*x+b1\n",
    "\n",
    "A = matrix(2,2,[[-1,1],[7,1]])\n",
    "b = matrix(2,1,[[2],[-3]])\n",
    "sol=A.solve_right(b)\n",
    "a2 = sol[0][0]\n",
    "b2 = sol[1][0]\n",
    "f2(x)=a2*x+b2\n",
    "\n",
    "p = plot(f1, (-10, 10), color=\"blue\")\n",
    "p+= plot(f2, (-10, 10), color=\"green\")\n",
    "show(p)"
   ]
  },
  {
   "cell_type": "markdown",
   "metadata": {
    "deletable": false,
    "editable": false,
    "run_control": {
     "frozen": true
    }
   },
   "source": [
    "### Interpolation de polynômes\n",
    "\n",
    "De manière plus générale, si on se donne un ensemble de $d$ points $(x_i,y_i)$ deux à deux distinct et que l'on cherche l'unique polynôme $P(x)=p_0+p_1x+p_2x^2+\\dots + p_{d-1}x^{d-1}$ qui passe par tout ces points, cela se ramène comme précédemment à une résolution de système linéaire.\n",
    "\n",
    "En effet, on peut poser le système linéaire suivant pour trouver les coefficient $p_i$ de $P(x)$.\n",
    "$$\n",
    "\\begin{pmatrix}\n",
    "1 & x_1 & x_1^2 & x_1^3 & \\dots & x_1^{d-1} \\\\\n",
    "1 & x_2 & x_2^2 & x_2^3 & \\dots & x_2^{d-1} \\\\\n",
    "\\vdots & \\vdots & \\vdots & \\vdots& \\ddots & \\vdots\\\\\n",
    "1 & x_d & x_d^2 & x_d^3 & \\dots & x_d^{d-1} \\\\\n",
    "\\end{pmatrix}\n",
    "\\begin{pmatrix}\n",
    "p_0 \\\\p_1 \\\\ p_2 \\\\ \\vdots \\\\ p_{d-1} \n",
    "\\end{pmatrix}\n",
    "= \n",
    "\\begin{pmatrix}\n",
    "y_1 \\\\y_2 \\\\ y_3 \\\\ \\vdots \\\\ y_{d} \n",
    "\\end{pmatrix}\n",
    "$$"
   ]
  },
  {
   "cell_type": "markdown",
   "metadata": {
    "deletable": false,
    "editable": false,
    "run_control": {
     "frozen": true
    }
   },
   "source": [
    "### Question\n",
    "\n",
    "Trouver le polynômes de degrès 4 à coefficient rationnels qui passe par les points suivants:\n",
    "$$(-2,3),(-1,7),(0,4),(3,1),(5,5)$$\n",
    "\n",
    "Vous afficherez les points ainsi que la fonction $f(x)$ correspondant au polynôme pour $x \\in [-3,7]$.\n",
    "Vou afficherez également le polynôme."
   ]
  },
  {
   "cell_type": "code",
   "execution_count": 6,
   "metadata": {},
   "outputs": [
    {
     "data": {
      "image/png": "[encoded data removed]",
      "text/plain": [
       "Graphics object consisting of 6 graphics primitives"
      ]
     },
     "metadata": {},
     "output_type": "display_data"
    }
   ],
   "source": [
    "l = [-2, -1, 0, 3, 5]\n",
    "l2 = []\n",
    "for el in l:\n",
    "    l2.append([1, el, el**2, el**3, el**4])\n",
    "A = matrix(5,5,l2)\n",
    "b = matrix(5,1,[[3],[7],[4],[1],[5]])\n",
    "sol = A.solve_right(b)\n",
    "var('x')\n",
    "f(x) = sol[0][0] + sol[1][0]*x + sol[2][0]*x**2 + sol[3][0]*x**3 + sol[4][0]*x**4\n",
    "p = plot(f, (-3, 7))\n",
    "p += point2d([-2,3], color=\"red\", size=20)\n",
    "p += point2d([-1,7], color=\"red\", size=20)\n",
    "p += point2d([0,4], color=\"red\", size=20)\n",
    "p += point2d([3,1], color=\"red\", size=20)\n",
    "p += point2d([5,5], color=\"red\", size=20)\n",
    "show(p)"
   ]
  },
  {
   "cell_type": "markdown",
   "metadata": {
    "deletable": false,
    "editable": false,
    "run_control": {
     "frozen": true
    }
   },
   "source": [
    "## Méthode des moindres carrés\n",
    "\n",
    "\n",
    "Si l'on considère le système d'équation linéaires données par l'égalité matricielle $Ax=b$ avec $A$ une matrice constituée de $m$ lignes et de $n<m$ colonnes. Il n'existe pas de manière générale une solution $x$ à cette égalité. Toutefois, on s'intéresse à trouver un vecteur $x$ tel que $Ax$ soit au plus proche de $b$. Pour cela on va utiliser la norme Euclidienne des vecteurs : soit $v=[v_1 v_2 \\dots v_n]$ alors sa norme Euclidienne est  $|| v||_2 = \\sqrt{v*v}=\\sqrt{v_1^2+v_2^2+\\dots+v_n^2}$.\n",
    "\n",
    "Ainsi notre problème se ramène à trouver le vecteur $x$ qui minimise $|| Ax-b||_2$.\n",
    "\n",
    "Si la matrice $A$ a de bonnes propriétés (de rang maximal), alors la solution $x$ peut se calculer avec la résolution d'un autre système linéaire $Hx=c$ avec :\n",
    "- $H=A^TA$\n",
    "- $c=A^Tb$"
   ]
  },
  {
   "cell_type": "markdown",
   "metadata": {
    "deletable": false,
    "editable": false,
    "run_control": {
     "frozen": true
    }
   },
   "source": [
    "### Question\n",
    "\n",
    "En reprenant notre exemple précédent sur le calcul d'une droite  le problème revient à trouver l'équation d'un droite $y=\\alpha x+\\beta$ qui passe par plus que 2 points. Bien entendu si les points ne sont pas alignés, il n'y a pas de solution. La méthode des moindres carrées permet ici de trouver l'équation d'une droite qui minimise l'écart entre la droite et les points.\n",
    "\n",
    "Trouver quelle est la droite qui est la plus proche des points suivants:\n",
    "$(-10, -37), (-6, -7), (-2, -21), (2, 9), (6, 3)$\n",
    "Vous afficherez les points ainsi que la droite trouvée.\n"
   ]
  },
  {
   "cell_type": "code",
   "execution_count": 7,
   "metadata": {},
   "outputs": [
    {
     "data": {
      "image/png": "[encoded data removed]",
      "text/plain": [
       "Graphics object consisting of 6 graphics primitives"
      ]
     },
     "metadata": {},
     "output_type": "display_data"
    }
   ],
   "source": [
    "A=matrix(5,2,[[-10,1],[-6,1],[-2,1],[2,1],[6,1]])\n",
    "b=matrix(5,1,[[-37],[-7],[-21],[9],[3]])\n",
    "H = A.T*A\n",
    "c = A.T*b\n",
    "sol = H.solve_right(c)\n",
    "var('x')\n",
    "f(x) = sol[0][0]*x + sol[1][0]\n",
    "p = plot(f, (-11, 7))\n",
    "p += point2d([-10,-37], color=\"red\", size=20)\n",
    "p += point2d([-6,-7], color=\"red\", size=20)\n",
    "p += point2d([-2,-21], color=\"red\", size=20)\n",
    "p += point2d([2,9], color=\"red\", size=20)\n",
    "p += point2d([6,3], color=\"red\", size=20)\n",
    "show(p)"
   ]
  },
  {
   "cell_type": "code",
   "execution_count": null,
   "metadata": {},
   "outputs": [],
   "source": []
  },
  {
   "cell_type": "markdown",
   "metadata": {
    "deletable": false,
    "editable": false,
    "run_control": {
     "frozen": true
    }
   },
   "source": [
    "### Question\n",
    "\n",
    "Faite la même chose pour trouver un polynôme de degrès 3 qui est le plus proche des points suivants:\n",
    "$(-2,3),(-1,7),(0,4),(3,1),(4,4),(5,5)$\n",
    "\n",
    "Comme précémment vous afficherez les points ainsi que la fonction  𝑓(𝑥)  correspondant au polynôme pour  $𝑥∈[−3,7]$."
   ]
  },
  {
   "cell_type": "code",
   "execution_count": 8,
   "metadata": {},
   "outputs": [
    {
     "data": {
      "image/png": "[encoded data removed]",
      "text/plain": [
       "Graphics object consisting of 7 graphics primitives"
      ]
     },
     "metadata": {},
     "output_type": "display_data"
    }
   ],
   "source": [
    "l = [-2, -1, 0, 3, 4, 5]\n",
    "l2 = []\n",
    "for el in l:\n",
    "    l2.append([1, el, el**2, el**3])\n",
    "A = matrix(6,4,l2)\n",
    "b = matrix(6,1,[[3],[7],[4],[1],[4],[5]])\n",
    "H = A.T*A\n",
    "c = A.T*b\n",
    "sol = H.solve_right(c)\n",
    "var('x')\n",
    "f(x) = sol[0][0] + sol[1][0]*x + sol[2][0]*x**2 + sol[3][0]*x**3\n",
    "p = plot(f, (-3, 7))\n",
    "p += point2d([-2,3], color=\"red\", size=20)\n",
    "p += point2d([-1,7], color=\"red\", size=20)\n",
    "p += point2d([0,4], color=\"red\", size=20)\n",
    "p += point2d([3,1], color=\"red\", size=20)\n",
    "p += point2d([4,4], color=\"red\", size=20)\n",
    "p += point2d([5,5], color=\"red\", size=20)\n",
    "show(p)"
   ]
  },
  {
   "cell_type": "code",
   "execution_count": null,
   "metadata": {},
   "outputs": [],
   "source": []
  },
  {
   "cell_type": "markdown",
   "metadata": {
    "deletable": false,
    "editable": false,
    "run_control": {
     "frozen": true
    }
   },
   "source": [
    "## Réécriture d'un vecteur à partir d'autres vecteurs.\n",
    "Étant donné un ensemble de vecteur $v_1,\\dots,v_n$ on peut se poser la question de savoir si il est possible d'écrire un autre vecteur $u$ à partir de combinaison linéaire des vecteurs $v_i$. \n"
   ]
  },
  {
   "cell_type": "markdown",
   "metadata": {
    "deletable": false,
    "editable": false,
    "run_control": {
     "frozen": true
    }
   },
   "source": [
    "### question\n",
    "On considére les vecteurs à coefficients dans le corps finis à 3 éléments (`GF(3)` en Sage est équivalement aux entiers modulo 3) donnés ci-dessous\n",
    "$$\n",
    "v_1=\\begin{pmatrix} 0 \\\\ 1 \\\\2 \\end{pmatrix},\n",
    "v_2=\\begin{pmatrix} 1 \\\\ 0 \\\\1 \\end{pmatrix},\n",
    "v_3=\\begin{pmatrix} 1 \\\\ 1 \\\\1 \\end{pmatrix}\n",
    "$$\n",
    "\n",
    "Construisez la liste des vecteurs qui peuvent s'écrire comme combinaison linéaire de $v_1,v_2,v_3$, câd tous les vecteurs $\\alpha_1 v_1 +\\alpha_2  v_2 + \\alpha_3 v_3$ avec $\\alpha_1,\\alpha_2,\\alpha_3$ des scalaires dans $\\{0,1,2\\}$. Attention, les calculs doivent se faire modulo 3 et il faut éviter les doublons. Combien de vecteurs trouvez vous ?\n"
   ]
  },
  {
   "cell_type": "code",
   "execution_count": 9,
   "metadata": {},
   "outputs": [
    {
     "data": {
      "text/html": [
       "<html><script type=\"math/tex; mode=display\">\\newcommand{\\Bold}[1]{\\mathbf{#1}}\\left(0,\\,1,\\,1\\right) \\left(2,\\,1,\\,2\\right)</script></html>"
      ],
      "text/plain": [
       "(0, 1, 1) (2, 1, 2)"
      ]
     },
     "metadata": {},
     "output_type": "display_data"
    },
    {
     "data": {
      "text/html": [
       "<html><script type=\"math/tex; mode=display\">\\newcommand{\\Bold}[1]{\\mathbf{#1}}\\left[\\left(0,\\,0,\\,0\\right), \\left(1,\\,1,\\,1\\right), \\left(2,\\,2,\\,2\\right), \\left(1,\\,0,\\,1\\right), \\left(2,\\,1,\\,2\\right), \\left(0,\\,2,\\,0\\right), \\left(2,\\,0,\\,2\\right), \\left(0,\\,1,\\,0\\right), \\left(1,\\,2,\\,1\\right), \\left(0,\\,1,\\,2\\right), \\left(1,\\,2,\\,0\\right), \\left(2,\\,0,\\,1\\right), \\left(1,\\,1,\\,0\\right), \\left(2,\\,2,\\,1\\right), \\left(0,\\,0,\\,2\\right), \\left(2,\\,1,\\,1\\right), \\left(0,\\,2,\\,2\\right), \\left(1,\\,0,\\,0\\right), \\left(0,\\,2,\\,1\\right), \\left(1,\\,0,\\,2\\right), \\left(2,\\,1,\\,0\\right), \\left(1,\\,2,\\,2\\right), \\left(2,\\,0,\\,0\\right), \\left(0,\\,1,\\,1\\right), \\left(2,\\,2,\\,0\\right), \\left(0,\\,0,\\,1\\right), \\left(1,\\,1,\\,2\\right)\\right]</script></html>"
      ],
      "text/plain": [
       "[(0, 0, 0),\n",
       " (1, 1, 1),\n",
       " (2, 2, 2),\n",
       " (1, 0, 1),\n",
       " (2, 1, 2),\n",
       " (0, 2, 0),\n",
       " (2, 0, 2),\n",
       " (0, 1, 0),\n",
       " (1, 2, 1),\n",
       " (0, 1, 2),\n",
       " (1, 2, 0),\n",
       " (2, 0, 1),\n",
       " (1, 1, 0),\n",
       " (2, 2, 1),\n",
       " (0, 0, 2),\n",
       " (2, 1, 1),\n",
       " (0, 2, 2),\n",
       " (1, 0, 0),\n",
       " (0, 2, 1),\n",
       " (1, 0, 2),\n",
       " (2, 1, 0),\n",
       " (1, 2, 2),\n",
       " (2, 0, 0),\n",
       " (0, 1, 1),\n",
       " (2, 2, 0),\n",
       " (0, 0, 1),\n",
       " (1, 1, 2)]"
      ]
     },
     "metadata": {},
     "output_type": "display_data"
    }
   ],
   "source": [
    "A=matrix(GF(3),3,3,[[0,1,1],[1,0,1],[2,1,1]])\n",
    "scl = [0,1,2]\n",
    "comb = []\n",
    "res = []\n",
    "for a1 in scl:\n",
    "    for a2 in scl:\n",
    "        for a3 in scl:\n",
    "            B=vector(GF(3),[a1,a2,a3])\n",
    "            if A*B not in res:\n",
    "                res.append(A*B)\n",
    "                comb.append(B)\n",
    "show(comb[4], res[4])\n",
    "show(res)\n",
    "#27 pas de doublons? \n",
    "A1 = A"
   ]
  },
  {
   "cell_type": "markdown",
   "metadata": {
    "deletable": false,
    "editable": false,
    "run_control": {
     "frozen": true
    }
   },
   "source": [
    "### question\n",
    "Faite la même chose avec en remplacant le vecteur $v_3$ par le vecteur $v_4=\\begin{pmatrix} 1 \\\\ 1 \\\\0 \\end{pmatrix}$. \n",
    "- Que remarquez vous ? \n",
    "- Essayer de donner une explication à partir des valeurs de $v_1,v_2$ et $v_4$"
   ]
  },
  {
   "cell_type": "code",
   "execution_count": 10,
   "metadata": {},
   "outputs": [
    {
     "data": {
      "text/html": [
       "<html><script type=\"math/tex; mode=display\">\\newcommand{\\Bold}[1]{\\mathbf{#1}}9</script></html>"
      ],
      "text/plain": [
       "9"
      ]
     },
     "metadata": {},
     "output_type": "display_data"
    },
    {
     "data": {
      "text/html": [
       "<html><script type=\"math/tex; mode=display\">\\newcommand{\\Bold}[1]{\\mathbf{#1}}\\left[\\left(0,\\,0,\\,0\\right), \\left(1,\\,1,\\,0\\right), \\left(2,\\,2,\\,0\\right), \\left(1,\\,0,\\,1\\right), \\left(2,\\,1,\\,1\\right), \\left(0,\\,2,\\,1\\right), \\left(2,\\,0,\\,2\\right), \\left(0,\\,1,\\,2\\right), \\left(1,\\,2,\\,2\\right)\\right]</script></html>"
      ],
      "text/plain": [
       "[(0, 0, 0),\n",
       " (1, 1, 0),\n",
       " (2, 2, 0),\n",
       " (1, 0, 1),\n",
       " (2, 1, 1),\n",
       " (0, 2, 1),\n",
       " (2, 0, 2),\n",
       " (0, 1, 2),\n",
       " (1, 2, 2)]"
      ]
     },
     "metadata": {},
     "output_type": "display_data"
    }
   ],
   "source": [
    "A=matrix(GF(3),3,3,[[0,1,1],[1,0,1],[2,1,0]])\n",
    "scl = [0,1,2]\n",
    "comb = []\n",
    "res = []\n",
    "for a1 in scl:\n",
    "    for a2 in scl:\n",
    "        for a3 in scl:\n",
    "            B=vector(GF(3),[a1,a2,a3])\n",
    "            if A*B not in res:\n",
    "                res.append(A*B)\n",
    "                comb.append(B)\n",
    "show(len(res))\n",
    "show(res)\n",
    "A2=A"
   ]
  },
  {
   "cell_type": "code",
   "execution_count": 11,
   "metadata": {},
   "outputs": [],
   "source": [
    "#explication: 0 en diagonale ? rang plus petit: rang 2 pour la seconde matrice"
   ]
  },
  {
   "cell_type": "markdown",
   "metadata": {
    "deletable": false,
    "editable": false,
    "run_control": {
     "frozen": true
    }
   },
   "source": [
    "Vous venez d'entrevoir la notion de dimension d'un espace vectoriel, c'est à dire le nombre minimal de vecteurs permettant de définir cet espace. Autrement dit, la taille d'une famille libre de cet espace. Cette information est accessible en construisant la matrice constituées des vecteurs données et en calculant son rang: `A.rank()` ou `A` est une matrice."
   ]
  },
  {
   "cell_type": "markdown",
   "metadata": {
    "deletable": false,
    "editable": false,
    "run_control": {
     "frozen": true
    }
   },
   "source": [
    "### Question \n",
    "Construisez les matrices $A_1$ et $A_2$ à partir des vecteurs $v_1,v_2,v_3$ et $v_4$ données précédemment.\n",
    "Les lignes de $A_1$ correspondent à $v_1,v_2,v_3$ et celles de $A_2$ à $v_1,v_2,v_4$. \n",
    "Retrouver le nombre de vecteurs des questions précédentes à partit du rang de ces matrices.\n"
   ]
  },
  {
   "cell_type": "code",
   "execution_count": 12,
   "metadata": {},
   "outputs": [
    {
     "data": {
      "text/html": [
       "<html><script type=\"math/tex; mode=display\">\\newcommand{\\Bold}[1]{\\mathbf{#1}}\\verb|rang|\\phantom{\\verb!x!}\\verb|A1:| 3</script></html>"
      ],
      "text/plain": [
       "'rang A1: ' 3"
      ]
     },
     "metadata": {},
     "output_type": "display_data"
    },
    {
     "data": {
      "text/html": [
       "<html><script type=\"math/tex; mode=display\">\\newcommand{\\Bold}[1]{\\mathbf{#1}}\\verb|rang|\\phantom{\\verb!x!}\\verb|A2:| 2</script></html>"
      ],
      "text/plain": [
       "'rang A2: ' 2"
      ]
     },
     "metadata": {},
     "output_type": "display_data"
    }
   ],
   "source": [
    "show(\"rang A1: \", A1.rank())\n",
    "show(\"rang A2: \", A2.rank())"
   ]
  },
  {
   "cell_type": "markdown",
   "metadata": {
    "deletable": false,
    "editable": false,
    "run_control": {
     "frozen": true
    }
   },
   "source": [
    "Pour déduire la dépendance entre les vecteurs, on peut s'appuyer sur la méthode 'right_kernel()' qui pour une matrice donnée $A \\in \\mathbb{K}^{m \\times n}$ retourne l'espace des vecteurs de $\\mathbb{K}^n$ qui annule cette matrice par multiplication à droite. C'est à dire \n",
    "\n",
    "$$\n",
    "\\operatorname{kernel}(A) =v \\in \\mathbb{K}^n \\mbox{ tel que } Av = 0 \\in \\mathbb{K}^m\n",
    "$$\n",
    "\n",
    "Attention, cet espace de vecteur est considéré par Sage comme un objet algébrique. Il faut donc utiliser la méthode 'basis_matrix()' pour récupérer une matrice définissant une base de cet espace."
   ]
  },
  {
   "cell_type": "markdown",
   "metadata": {
    "deletable": false,
    "editable": false,
    "run_control": {
     "frozen": true
    }
   },
   "source": [
    "### Question\n",
    "Retrouvez la combinaison linéaire entre $v_1,v_2$ et $v_4$ trouver précédemment. Vous utiliserez `print` pour afficher l'égalité."
   ]
  },
  {
   "cell_type": "code",
   "execution_count": 13,
   "metadata": {},
   "outputs": [
    {
     "data": {
      "text/html": [
       "<html><script type=\"math/tex; mode=display\">\\newcommand{\\Bold}[1]{\\mathbf{#1}}\\left(\\begin{array}{rrr}\n",
       "0 & 1 & 1 \\\\\n",
       "1 & 0 & 1 \\\\\n",
       "2 & 1 & 0\n",
       "\\end{array}\\right) . \\left(\\begin{array}{r}\n",
       "1 \\\\\n",
       "1 \\\\\n",
       "2\n",
       "\\end{array}\\right) \\verb|=| \\left(\\begin{array}{r}\n",
       "0 \\\\\n",
       "0 \\\\\n",
       "0\n",
       "\\end{array}\\right)</script></html>"
      ],
      "text/plain": [
       "[0 1 1]\n",
       "[1 0 1]\n",
       "[2 1 0] '.' [1]\n",
       "[1]\n",
       "[2] '=' [0]\n",
       "[0]\n",
       "[0]"
      ]
     },
     "metadata": {},
     "output_type": "display_data"
    }
   ],
   "source": [
    "v = A2.right_kernel().basis_matrix()\n",
    "show(A2,\".\",v.T,\"=\",A2*v.T)"
   ]
  },
  {
   "cell_type": "markdown",
   "metadata": {
    "deletable": false,
    "editable": false,
    "run_control": {
     "frozen": true
    }
   },
   "source": [
    "## Méthode d'élimination de Gauss\n",
    "Bien évidemment, la méthode de calcul exhaustif  employée précédemment ne peut être utilisée si l'on considère un domaine de calul de taille infini comme les entiers ou les rationnels, ou même avec une espace fini de grande taille comme les flottants double précision. En effet, la complexité est exponentielle en le nombre de vecteurs.\n",
    "\n",
    "La méthode d'élimination de Gauss, aussi appelée pivot de Gauss, est une solution algorithmique qui permet de rester dans une complexité polynomiale pour calculer la dépendance linéaire de vecteurs. L'idée est très simple: l'objectif est de rendre certaines entrées d'un vecteur à 0 en faisant des combinaisons linéaire 2 à 2.\n",
    "\n",
    "Par exemple, avec $v_1=[1,2,3]$ et $v_2=[1,4,5]$ à coefficient dans les entiers, on a $v_1-v_2=[0 -2 -2]$. Par construction, on sait que  l'ensemble des combinaisons linéaires de $v_1,v_2$ est équivalent à celui de $v_1,v_1-v_2$ ou $v_1-v_2, v_2$.\n",
    "Comme $v_1-v_2$ a un zero dans sa 1ère composante et que ce n'est pas le cas de $v_1$ ou $v_2$ alors il est linéairement indépendant de $v_1$ et $v_2$.\n",
    "\n",
    "Le procédé de l'élimination de Gauss consite donc à ajouter à un vecteur $v$ un multiple d'un autre vecteur $u$, tel qu'une composante du nouveau vecteur soit nul. L'élimination de Gauss est l'algorithme qui est utilisé par la fonction `basis_matrix()`. Nous allons découvrir comment fonctionne cet algorithme."
   ]
  },
  {
   "cell_type": "markdown",
   "metadata": {
    "deletable": false,
    "editable": false,
    "run_control": {
     "frozen": true
    }
   },
   "source": [
    "### Question\n",
    "Écrire une fonction `combineVect(u,v,i)` qui prend en entrée deux vecteur $u$ et $v$ de même dimension $n$ tel que $i<n$ et $u[i]\\neq 0$. Cette fonction retourne un nouveau vecteur $r=v+\\alpha u$ tel que l'entrée en position $i$ du vecteur $r$ soit nulle.  \n",
    "\n",
    "Vous testerez votre fonction sur les lignes de la matrice $A$ suivante définie sur $\\mathbb{Q}$:\n",
    "\n",
    "$$A=\n",
    "\\begin{pmatrix}\n",
    "2/3 & 1 & 5 \\\\\n",
    "1 & 1/5 & 8 \\\\\n",
    "5 & 1/2 & 3/4\n",
    "\\end{pmatrix}.\n",
    "$$\n",
    "Votre objectif est de modifier la matrice pour mettre des zero sous la diagonale. \n",
    "En notant $l_0, l_1$ et $l_2$ les lignes de la matrice A, on va devoir:\n",
    "- ajouter un multiple de $l_0$ à $l_1$ et $l_2$ pour mettre un 0 dans leur 1ère composante\n",
    "- ajouter un multiple de $l_1$ à $l_2$ pour mettre un 0 dans sa 2ème composante\n",
    "\n",
    "*Aide: on récupère une copie de la ligne i avec la méthode `A.row(i)`*"
   ]
  },
  {
   "cell_type": "code",
   "execution_count": 123,
   "metadata": {},
   "outputs": [
    {
     "data": {
      "text/html": [
       "<html><script type=\"math/tex; mode=display\">\\newcommand{\\Bold}[1]{\\mathbf{#1}}\\left(\\begin{array}{rrr}\n",
       "\\frac{2}{3} & 1 & 5 \\\\\n",
       "0 & -\\frac{13}{10} & \\frac{1}{2} \\\\\n",
       "0 & 0 & -\\frac{2051}{52}\n",
       "\\end{array}\\right)</script></html>"
      ],
      "text/plain": [
       "[     2/3        1        5]\n",
       "[       0   -13/10      1/2]\n",
       "[       0        0 -2051/52]"
      ]
     },
     "metadata": {},
     "output_type": "display_data"
    }
   ],
   "source": [
    "def combineVect(u,v,i):\n",
    "    a = u[i]\n",
    "    b = v[i]\n",
    "    if a != 0:\n",
    "        return v + (-b/a)*u\n",
    "    return u\n",
    "A = matrix(QQ,3,3,[[2/3,1,5],[1,1/5,8],[5,1/2,3/4]])\n",
    "l0 = A.row(0)\n",
    "l1 = A.row(1)\n",
    "l2 = A.row(2)\n",
    "l12 = combineVect(l0,l1,0)\n",
    "l22 = combineVect(l0,l2,0)\n",
    "l23 = combineVect(l12,l22,1)\n",
    "Amod = matrix(QQ,3,3,[l0,l12,l23])\n",
    "show(Amod)"
   ]
  },
  {
   "cell_type": "markdown",
   "metadata": {
    "deletable": false,
    "editable": false,
    "run_control": {
     "frozen": true
    }
   },
   "source": [
    "De manière plus générale, pour savoir si un vecteur $u$ peut s'écrire comme une combinaison linéaire d'autres vecteur $v_1, \\dots, v_m$, il suffit de construire la matrice\n",
    "\n",
    "$$\n",
    "A=\n",
    "\\begin{pmatrix}\n",
    "&&v_1&&\\\\\n",
    "&&v_2&&\\\\\n",
    "&&\\vdots&&\\\\\n",
    "&&v_m&&\\\\\n",
    "&&u&&\n",
    "\\end{pmatrix}\n",
    "$$\n",
    "est d'essayer de mettre des zero sous la diagonale comme précédemment. Si après ce procédé la dernière ligne de $A$ est nulle alors $u$ peut s'écrire comme une combinaison linéaire des $v_i$."
   ]
  },
  {
   "cell_type": "markdown",
   "metadata": {
    "deletable": false,
    "editable": false,
    "run_control": {
     "frozen": true
    }
   },
   "source": [
    "### Question\n",
    "Écrire un  fonction `dependanceLineaire([v1,...,vm,u])` qui teste si le vecteur $u$ peut s'écrire comme une combinaison linéaire des vecteurs $v_i$. Autrement dit, la fonction cherche une dépendance linéaire entre le dernier vecteur de la liste et tous les autres\n",
    "\n",
    "Pour écrire votre fonction, vous proposerez une généralisation du calcul fait à la question précédente.\n",
    "\n",
    "Vous testerez votre fonction avec la liste $L= [v_3,v_2, v_1,u]$ pour $u=[2,1,2]$."
   ]
  },
  {
   "cell_type": "code",
   "execution_count": 15,
   "metadata": {},
   "outputs": [],
   "source": [
    "def dependanceLineaire(lVect):\n",
    "    i = 1\n",
    "    while i<len(lVect) and lVect[i][i-1] == 0:\n",
    "        i+=1\n",
    "    if i == len(lVect):\n",
    "        u = lVect[-1]\n",
    "        #print(lVect)\n",
    "        for el in u:\n",
    "            if el != 0:\n",
    "                return False\n",
    "        return True\n",
    "    i -= 1\n",
    "    vc = lVect[i]\n",
    "    for j in range(i+1,len(lVect)):\n",
    "        lVect[j] = combineVect(vc, lVect[j], i)\n",
    "    return dependanceLineaire(lVect)"
   ]
  },
  {
   "cell_type": "code",
   "execution_count": 16,
   "metadata": {},
   "outputs": [
    {
     "data": {
      "text/plain": [
       "True"
      ]
     },
     "execution_count": 16,
     "metadata": {},
     "output_type": "execute_result"
    }
   ],
   "source": [
    "v3 = vector([1,1,1])\n",
    "v2 = vector([1,0,1])\n",
    "v1 = vector([0,1,2])\n",
    "u = vector([2,1,2])\n",
    "L = [v3, v2, v1, u]\n",
    "dependanceLineaire(L)"
   ]
  },
  {
   "cell_type": "markdown",
   "metadata": {
    "deletable": false,
    "editable": false,
    "run_control": {
     "frozen": true
    }
   },
   "source": [
    "Tester votre fonction en inversant l'ordre des éléments de la liste: $L= [v_1,v_2, v_3, u]$. *Attention, il est normal que votre fonction ne marche pas.*"
   ]
  },
  {
   "cell_type": "code",
   "execution_count": 17,
   "metadata": {},
   "outputs": [],
   "source": [
    "L = [v1, v2, v3, u]\n",
    "#dependanceLineaire(L)\n",
    "#div par 0"
   ]
  },
  {
   "cell_type": "markdown",
   "metadata": {
    "deletable": false,
    "editable": false,
    "run_control": {
     "frozen": true
    }
   },
   "source": [
    "Votre fonction ne marche plus car il n'est pas garantie que lors l'appel à la fonction `combineVect` l'entrée $A[i,i]$ sur la diagonale de la matrice soit non nulle. Lorsque ce problème arrive, il suffit de trouver une ligne $j>i$ de la matrice $A$ telle que $A[j,i]\\neq 0$ et d'échanger ces deux lignes. La fonction `A.swap_rows(i,j)` vous permettra de faire cette échange. Si il n'y aucune ligne à échanger cela signifie que toutes les i-ème composantes sont toutes nulles et qu'on peut donc changer de composante qu'on doit mettre à 0. Attention, on n'échanche pas avec la dernière ligne qui correspond à $u$."
   ]
  },
  {
   "cell_type": "markdown",
   "metadata": {
    "deletable": false,
    "editable": false,
    "run_control": {
     "frozen": true
    }
   },
   "source": [
    "### Question\n",
    "Écrire une nouvelle fonction `dependanceLineaire([v1,...,vm,u])` qui prenne en compte ces échanges de lignes. Vous la testerez sur l'exemple précédent qui ne fonctionnait pas (votre fonction doit retourner `true` pour cet exemple). "
   ]
  },
  {
   "cell_type": "code",
   "execution_count": 18,
   "metadata": {},
   "outputs": [],
   "source": [
    "def dependanceLineaire2(lVect):\n",
    "    i = 1\n",
    "    continuer = True\n",
    "    while i<len(lVect) and continuer:\n",
    "        j = 0\n",
    "        while j<i and lVect[i][j] == 0:\n",
    "            j += 1\n",
    "        if j == i:\n",
    "            i+=1\n",
    "        else:\n",
    "            continuer = False\n",
    "    if i == len(lVect):\n",
    "        u = lVect[-1]\n",
    "        print(lVect)\n",
    "        for el in u:\n",
    "            if el != 0:\n",
    "                return False\n",
    "        return True\n",
    "    i -= 1\n",
    "    vc = lVect[i]\n",
    "    if vc[i] == 0:\n",
    "        j = i+1\n",
    "        while j < len(lVect)-1 and lVect[j][i] == 0:\n",
    "            j += 1\n",
    "        if j < len(lVect)-1:\n",
    "            lVect[i] = lVect[j]\n",
    "            lVect[j] = vc\n",
    "        return dependanceLineaire2(lVect)\n",
    "    for j in range(i+1,len(lVect)):\n",
    "        lVect[j] = combineVect(vc, lVect[j], i)\n",
    "    return dependanceLineaire2(lVect)\n",
    "#c'est parti en cacahuètes\n",
    "#on recommence\n",
    "def dependanceLineaire3(lVect):\n",
    "    i = 1\n",
    "    while i<len(lVect) and lVect[i][i-1] == 0:\n",
    "        i+=1\n",
    "    if i == len(lVect):\n",
    "        print(\"fin:\",lVect)\n",
    "        u = lVect[-1]\n",
    "        for el in u:\n",
    "            if el != 0:\n",
    "                return False\n",
    "        return True\n",
    "    i -= 1\n",
    "    vc = lVect[i]\n",
    "    print(\"lvect:\", lVect)\n",
    "    print(\"vc:\", vc)\n",
    "    if vc[i] == 0:\n",
    "        j = i+1\n",
    "        while j < len(lVect)-1 and lVect[j][i] == 0:\n",
    "            j += 1\n",
    "        print(\"preswap:\",lVect)\n",
    "        if j < len(lVect)-1:\n",
    "            lVect[i] = lVect[j]\n",
    "            lVect[j] = vc\n",
    "            print(\"swap:\",lVect)\n",
    "            vc = lVect[i]\n",
    "        else:\n",
    "            return dependanceLineaire3(lVect)\n",
    "    print(\"i:\", i)\n",
    "    for j in range(i+1,len(lVect)):\n",
    "        print(\"change\",j,lVect[j])\n",
    "        lVect[j] = combineVect(vc, lVect[j], i)\n",
    "        print(\"change\",j,lVect[j])\n",
    "    return dependanceLineaire3(lVect)"
   ]
  },
  {
   "cell_type": "code",
   "execution_count": 19,
   "metadata": {},
   "outputs": [
    {
     "name": "stdout",
     "output_type": "stream",
     "text": [
      "lvect: [(0, 1, 2), (1, 0, 1), (1, 1, 1), (2, 1, 2)]\n",
      "vc: (0, 1, 2)\n",
      "preswap: [(0, 1, 2), (1, 0, 1), (1, 1, 1), (2, 1, 2)]\n",
      "swap: [(1, 0, 1), (0, 1, 2), (1, 1, 1), (2, 1, 2)]\n",
      "i: 0\n",
      "change 1 (0, 1, 2)\n",
      "change 1 (0, 1, 2)\n",
      "change 2 (1, 1, 1)\n",
      "change 2 (0, 1, 0)\n",
      "change 3 (2, 1, 2)\n",
      "change 3 (0, 1, 0)\n",
      "lvect: [(1, 0, 1), (0, 1, 2), (0, 1, 0), (0, 1, 0)]\n",
      "vc: (0, 1, 2)\n",
      "i: 1\n",
      "change 2 (0, 1, 0)\n",
      "change 2 (0, 0, -2)\n",
      "change 3 (0, 1, 0)\n",
      "change 3 (0, 0, -2)\n",
      "lvect: [(1, 0, 1), (0, 1, 2), (0, 0, -2), (0, 0, -2)]\n",
      "vc: (0, 0, -2)\n",
      "i: 2\n",
      "change 3 (0, 0, -2)\n",
      "change 3 (0, 0, 0)\n",
      "fin: [(1, 0, 1), (0, 1, 2), (0, 0, -2), (0, 0, 0)]\n"
     ]
    },
    {
     "data": {
      "text/plain": [
       "True"
      ]
     },
     "execution_count": 19,
     "metadata": {},
     "output_type": "execute_result"
    }
   ],
   "source": [
    "dependanceLineaire3([v1,v2,v3,u])"
   ]
  },
  {
   "cell_type": "markdown",
   "metadata": {
    "deletable": false,
    "editable": false,
    "run_control": {
     "frozen": true
    }
   },
   "source": [
    "### Question\n",
    "Tester votre nouvelle fonction sur la liste $L= [v_4,v_2, v_1, u]$. Votre fonction doit retourner `false` pour cet exemple)."
   ]
  },
  {
   "cell_type": "code",
   "execution_count": 20,
   "metadata": {},
   "outputs": [
    {
     "name": "stdout",
     "output_type": "stream",
     "text": [
      "lvect: [(1, 1, 0), (1, 0, 1), (0, 1, 2), (2, 1, 2)]\n",
      "vc: (1, 1, 0)\n",
      "i: 0\n",
      "change 1 (1, 0, 1)\n",
      "change 1 (0, -1, 1)\n",
      "change 2 (0, 1, 2)\n",
      "change 2 (0, 1, 2)\n",
      "change 3 (2, 1, 2)\n",
      "change 3 (0, -1, 2)\n",
      "lvect: [(1, 1, 0), (0, -1, 1), (0, 1, 2), (0, -1, 2)]\n",
      "vc: (0, -1, 1)\n",
      "i: 1\n",
      "change 2 (0, 1, 2)\n",
      "change 2 (0, 0, 3)\n",
      "change 3 (0, -1, 2)\n",
      "change 3 (0, 0, 1)\n",
      "lvect: [(1, 1, 0), (0, -1, 1), (0, 0, 3), (0, 0, 1)]\n",
      "vc: (0, 0, 3)\n",
      "i: 2\n",
      "change 3 (0, 0, 1)\n",
      "change 3 (0, 0, 0)\n",
      "fin: [(1, 1, 0), (0, -1, 1), (0, 0, 3), (0, 0, 0)]\n"
     ]
    },
    {
     "data": {
      "text/plain": [
       "True"
      ]
     },
     "execution_count": 20,
     "metadata": {},
     "output_type": "execute_result"
    }
   ],
   "source": [
    "v4 = vector([1,1,0])\n",
    "dependanceLineaire3([v4,v2,v1,u])"
   ]
  },
  {
   "cell_type": "markdown",
   "metadata": {
    "deletable": false,
    "editable": false,
    "run_control": {
     "frozen": true
    }
   },
   "source": [
    "On souhaite maintenant trouver les valeurs de la combinaison linéaire\n",
    "permettant de réécrire un vecteur $u$ en fonction des vecteurs $[v_1,\\dots,v_m]$, lorsque cela est possible, câd $u= \\alpha_1 v_1+\\alpha_2 v2 + \\dots + \\alpha_m v_m$.\n",
    "\n",
    "Pour cela il va falloir conserver toutes les réécriture des lignes qui sont faites avec les appels à la fonction `combineVect`. En effet, à chaque étape `i` on a calculé $u=u+\\alpha_i v_i$ tel que $u[i]$ soit nul mais les vecteur $v_i$ ont eux aussi été modifiés de telle sorte que  $v_i= v_i+\\sum_{k<i} \\beta_k v_k$. Il faut donc pouvoir conserver la ré-écriture de tous les $v_i$. Une facon simple de conserver ces réécritures est de faire le calcul sur la matrice augmentée à droite par une matrice identité de taille $m+1$.\n",
    "\n",
    "$$\n",
    "A=\n",
    "\\begin{pmatrix}\n",
    "&&v_1&& 1&&&&\\\\\n",
    "&&v_2&& &1&&&\\\\\n",
    "&&\\vdots&&&&\\ddots&&\\\\\n",
    "&&v_m&& &&&1&\\\\\n",
    "&&u&& &&&&1\n",
    "\\end{pmatrix}\n",
    "$$\n",
    "\n",
    "Si on applique notre méthode pour mettre des zéro sous la diagonale, la matrice identité conservera toutes les réécriture des vecteurs. En particulier, la dernière ligne permettra de trouver facilement les coefficients $\\alpha_i$ demandés."
   ]
  },
  {
   "cell_type": "markdown",
   "metadata": {
    "deletable": false,
    "editable": false,
    "run_control": {
     "frozen": true
    }
   },
   "source": [
    "### Question\n",
    "Proposer une nouvelle fonction `findDependanceLineaire(u,[v1,...,vm])` qui retourne le vecteur $[\\alpha_1,\\dots,\\alpha_m]$ tel que $u=\\alpha_1v_1+\\dots+\\alpha_mv_m$. Si il n'y pas de dépendance linéaire vous renverrez `None`.\n",
    "\n",
    "Vous vérifierez votre réponse pour $L= [v_3,v_2, v_1,u]$ et $L= [v_4,v_2, v_1,u]$"
   ]
  },
  {
   "cell_type": "code",
   "execution_count": 21,
   "metadata": {},
   "outputs": [],
   "source": [
    "def dependanceLineaire4(lVect):\n",
    "    i = 1\n",
    "    while i<len(lVect) and lVect[i][i-1] == 0:\n",
    "        i+=1\n",
    "    if i == len(lVect):\n",
    "        return lVect\n",
    "    i -= 1\n",
    "    vc = lVect[i]\n",
    "    if vc[i] == 0:\n",
    "        j = i+1\n",
    "        while j < len(lVect)-1 and lVect[j][i] == 0:\n",
    "            j += 1\n",
    "        if j < len(lVect)-1:\n",
    "            lVect[i] = lVect[j]\n",
    "            lVect[j] = vc\n",
    "            vc = lVect[i]\n",
    "        else:\n",
    "            return dependanceLineaire4(lVect)\n",
    "    for j in range(i+1,len(lVect)):\n",
    "        lVect[j] = combineVect(vc, lVect[j], i)\n",
    "    return dependanceLineaire4(lVect)\n",
    "\n",
    "def findDependanceLineaire(u, lVect):\n",
    "    m = len(lVect)\n",
    "    lines = []\n",
    "    for i in range(m):\n",
    "        lines.append(vector([j for j in lVect[i]]+[0 if j!=i else 1 for j in range(m+1)]))\n",
    "    lines.append(vector([j for j in u]+[0 if j!=m else 1 for j in range(m+1)]))\n",
    "    print(lines)\n",
    "    dependanceLineaire4(lines)\n",
    "    print(lines)\n",
    "    u2 = lines[-1]\n",
    "    for i in range(len(u)):\n",
    "        if u2[i] != 0:\n",
    "            return None\n",
    "    res = []\n",
    "    for i in range(len(u), len(u)+m):\n",
    "        res.append(-u2[i])\n",
    "    return res"
   ]
  },
  {
   "cell_type": "code",
   "execution_count": 22,
   "metadata": {},
   "outputs": [
    {
     "name": "stdout",
     "output_type": "stream",
     "text": [
      "[(1, 1, 1, 1, 0, 0, 0), (1, 0, 1, 0, 1, 0, 0), (0, 1, 2, 0, 0, 1, 0), (2, 1, 2, 0, 0, 0, 1)]\n",
      "[(1, 1, 1, 1, 0, 0, 0), (0, -1, 0, -1, 1, 0, 0), (0, 0, 2, -1, 1, 1, 0), (0, 0, 0, -1, -1, 0, 1)]\n"
     ]
    },
    {
     "data": {
      "text/plain": [
       "[1, 1, 0]"
      ]
     },
     "execution_count": 22,
     "metadata": {},
     "output_type": "execute_result"
    }
   ],
   "source": [
    "findDependanceLineaire(u, [v3, v2, v1])"
   ]
  },
  {
   "cell_type": "code",
   "execution_count": 23,
   "metadata": {},
   "outputs": [
    {
     "name": "stdout",
     "output_type": "stream",
     "text": [
      "[(1, 1, 0, 1, 0, 0, 0), (1, 0, 1, 0, 1, 0, 0), (0, 1, 2, 0, 0, 1, 0), (2, 1, 2, 0, 0, 0, 1)]\n",
      "[(1, 1, 0, 1, 0, 0, 0), (0, -1, 1, -1, 1, 0, 0), (0, 0, 3, -1, 1, 1, 0), (0, 0, 0, -2/3, -4/3, -1/3, 1)]\n"
     ]
    },
    {
     "data": {
      "text/plain": [
       "[2/3, 4/3, 1/3]"
      ]
     },
     "execution_count": 23,
     "metadata": {},
     "output_type": "execute_result"
    }
   ],
   "source": [
    "findDependanceLineaire(u, [v4, v2, v1])"
   ]
  },
  {
   "cell_type": "code",
   "execution_count": null,
   "metadata": {},
   "outputs": [],
   "source": []
  },
  {
   "cell_type": "markdown",
   "metadata": {
    "deletable": false,
    "editable": false,
    "run_control": {
     "frozen": true
    }
   },
   "source": [
    "## Rang d'une matrice avec l'élimination de Gauss\n",
    "\n",
    "La méthode d'élimination de Gauss vu précédemment permet également d'inverser une matrice (quand elle est inversible). Attention, l'inverse d'une matrice $A$ n'existe que si $A$ est carrée et que toutes les lignes sont linéairement indépendantes. On retrouve encore la notion de rang. \n",
    "\n",
    "Le rang d'une matrice est le nombre minimal de lignes (ou de colonnes) qui permet de représenter la famille\n",
    "des vecteurs lignes (ou colonnes) définie par la matrice.\n"
   ]
  },
  {
   "cell_type": "markdown",
   "metadata": {
    "deletable": false,
    "editable": false,
    "run_control": {
     "frozen": true
    }
   },
   "source": [
    "### Question\n",
    "On peut facilement modifier la méthode de Gauss vu précédemment pour calculer le rang puisqu'il suffit encore une fois de mettre des zéros sous la diagonale. La différence est que maintenant on s'autorise à faire des échanges de lignes avec la dernière ligne. À l'issue de l'élimination, il suffit de compter le nombre de lignes non-nulles pour avoir le rang.\n",
    "\n",
    "Écrire une fonction `myRank(A)` qui calcule le rang de A en utilisant l'élimination de Gauss vu précédemment.\n"
   ]
  },
  {
   "cell_type": "code",
   "execution_count": 24,
   "metadata": {},
   "outputs": [],
   "source": [
    "def dependanceLineaire5(lVect):\n",
    "    i = 1\n",
    "    while i<len(lVect) and lVect[i][i-1] == 0:\n",
    "        i+=1\n",
    "    if i == len(lVect):\n",
    "        return lVect\n",
    "    i -= 1\n",
    "    vc = lVect[i]\n",
    "    if vc[i] == 0:\n",
    "        j = i+1\n",
    "        while j < len(lVect) and lVect[j][i] == 0:\n",
    "            j += 1\n",
    "        if j < len(lVect)-1:\n",
    "            lVect[i] = lVect[j]\n",
    "            lVect[j] = vc\n",
    "            vc = lVect[i]\n",
    "        else:\n",
    "            return dependanceLineaire5(lVect)\n",
    "    for j in range(i+1,len(lVect)):\n",
    "        lVect[j] = combineVect(vc, lVect[j], i)\n",
    "    return dependanceLineaire5(lVect)\n",
    "\n",
    "def myRank(A):\n",
    "    lines = []\n",
    "    for i in range(A.nrows()):\n",
    "        lines.append(vector(A.row(i)))\n",
    "    B = dependanceLineaire5(lines)\n",
    "    rang = 0\n",
    "    for l in B:\n",
    "        nonNul = False\n",
    "        for el in l:\n",
    "            if el != 0:\n",
    "                nonNul = True\n",
    "        if nonNul:\n",
    "            rang += 1\n",
    "    return rang"
   ]
  },
  {
   "cell_type": "code",
   "execution_count": 25,
   "metadata": {},
   "outputs": [
    {
     "name": "stdout",
     "output_type": "stream",
     "text": [
      "3\n",
      "2\n"
     ]
    }
   ],
   "source": [
    "print(myRank(A1))\n",
    "print(myRank(A2))"
   ]
  },
  {
   "cell_type": "markdown",
   "metadata": {
    "deletable": false,
    "editable": false,
    "run_control": {
     "frozen": true
    }
   },
   "source": [
    "### Question\n",
    "Construisez des matrices aléatoires rectangulaires de taille $m \\times n$ qui ne sont pas de rang maximal. Vous vérifierez que leur rang est $< \\operatorname{min}(m,n)$ et qu'il est identique à celui calculé par la methode `rank` de Sage.  **Aide:** pour construire une matrice $A$ de rang non maximal, il suffit de construire une matrice aléatoire $B$ de taille plus petite que A et de rajouter des lignes ou des colonnes qui seront des combinaisons linéaires des lignes (ou colonnes) de B. \n",
    "\n",
    "**Rappel:** lorsque'on multiplie deux matrices A et B, leur produit réprésente à la fois:\n",
    "- une combinaison linéaire des colonnes de A\n",
    "- une combinaison linéaire des lignes de B"
   ]
  },
  {
   "cell_type": "code",
   "execution_count": 106,
   "metadata": {},
   "outputs": [],
   "source": [
    "import random\n",
    "\n",
    "def matriceAleatoire(m,n,base=QQ):\n",
    "    B = []\n",
    "    for i in range(3):\n",
    "        B.append([random.randint(0,99) for j in range(n)])\n",
    "    B = matrix(base,3,n,B)\n",
    "    A = []\n",
    "    for i in range(m):\n",
    "        A.append([random.randint(0,99) for j in range(3)])\n",
    "    A = matrix(base,m,3,A)\n",
    "    return A*B\n",
    "\n",
    "for i in range(1000):\n",
    "    M = matriceAleatoire(8,16)\n",
    "    if M.rank() != myRank(M):\n",
    "        print(M)"
   ]
  },
  {
   "cell_type": "markdown",
   "metadata": {
    "deletable": false,
    "editable": false,
    "run_control": {
     "frozen": true
    }
   },
   "source": [
    "## Inversion d'une matrice par Gauss\n",
    "\n",
    "Pour inverser une matrice carré, nous allons reprendre la méthode d'élimination de Gauss utilisée pour trouver les combinaisons linéaires de vecteurs. Cette fois-ci on va augmenter la matrice à droite avec une matrice identité et on va essayer de mettre de zero au dessus et au-dessous de la diagonale et également mettre des 1 sur la diagonale.\n",
    "\n",
    "$$\n",
    "A=\n",
    "\\begin{pmatrix}\n",
    "* & * & * & * \\\\\n",
    "* & * & * & * \\\\\n",
    "* & * & * & * \\\\\n",
    "* & * & * & * \\\\\n",
    "\\end{pmatrix}\n",
    "\\Longrightarrow\n",
    "\\begin{pmatrix}A & I \\end{pmatrix} =\n",
    "\\begin{pmatrix}\n",
    "* & * & * & * & 1& & & \\\\\n",
    "* & * & * & * &  &1 & &\\\\\n",
    "* & * & * & * &  &  &1 &\\\\\n",
    "* & * & * & * &  &  & &1\\\\\n",
    "\\end{pmatrix}\n",
    "$$\n",
    "\n",
    "$$\n",
    "\\Longrightarrow\n",
    "Gauss(\n",
    "\\begin{pmatrix}A & I \\end{pmatrix}) =\n",
    "\\begin{pmatrix}\n",
    " 1& & & & * & * & * & * \\\\\n",
    "  &1 & & & * & * & * & * \\\\\n",
    "  &  &1 & & * & * & * & * \\\\\n",
    "  &  & &  1& * & * & * & * \\\\\n",
    "\\end{pmatrix}= \\begin{pmatrix}I & A^{-1} \\end{pmatrix} \n",
    "$$\n",
    "\n",
    "Comme précédemment, on utilisera la fonction `combineVect` pour modifier une ligne en lui ajoutant un multiple d'une autre pour mettre un zero à une certaine position. Pour mettre un 1 en position $(i,i)$ dans la matrice $A$, il suffit de multiplier la ligne $i$ de A par l'inverse de l'élément $A[i,i]$."
   ]
  },
  {
   "cell_type": "markdown",
   "metadata": {
    "deletable": false,
    "editable": false,
    "run_control": {
     "frozen": true
    }
   },
   "source": [
    "### Question\n",
    "\n",
    "Écrire la fonction `myInverse(A)` qui calculer l'inverse d'une matrice carrée. Attention, vous devrez vérifier en premier que la matrice est carré. Bien entendu, il faudra s'assurer que la matrice est bien inversible, mais l'élimination de Gauss nous permettra de le savoir. En effet, il suffira de vérifier qu'à la fin de l'algorithme vous obtenez bien la matrice identité sur la partie gauche de la matrice augmentée. Si telle est le cas, la matrice est inversible et son inverse est dans la partie droite de la matrice augmentée, sinon cela signifie que la matrice n'est pas inversible.\n"
   ]
  },
  {
   "cell_type": "code",
   "execution_count": 127,
   "metadata": {},
   "outputs": [
    {
     "data": {
      "text/plain": [
       "[  -33/293    15/293    60/293]\n",
       "[2355/2051  -210/293  -20/2051]\n",
       "[ -30/2051    40/293  -52/2051]"
      ]
     },
     "execution_count": 127,
     "metadata": {},
     "output_type": "execute_result"
    }
   ],
   "source": [
    "def dependanceLineaireVersLeBas(M):\n",
    "    i = 1    \n",
    "    while i<M.nrows() and M[i][i-1] == 0:\n",
    "        i+=1\n",
    "    if i == M.nrows():\n",
    "        return M\n",
    "    i -= 1\n",
    "    vc = M.row(i)\n",
    "    if vc[i] == 0:\n",
    "        j = i+1\n",
    "        while j < M.nrows() and M[j][i] == 0:\n",
    "            j += 1\n",
    "        if j < M.nrows()-1:\n",
    "            M.swap_rows(i,j)\n",
    "        else:\n",
    "            return dependanceLineaireVersLeBas(M)\n",
    "    for j in range(i+1,M.nrows()):\n",
    "        M[j] = combineVect(vc, M.row(j), i)\n",
    "    return dependanceLineaireVersLeBas(M)\n",
    "\n",
    "def dependanceLineaireVersLeHaut(M):\n",
    "    i = M.nrows()-2\n",
    "    while i>=0 and M[i][i+1] == 0:\n",
    "        i-=1\n",
    "    if i == -1:\n",
    "        return M\n",
    "    i += 1\n",
    "    vc = M.row(i)\n",
    "    if vc[i] == 0:\n",
    "        j = i-1\n",
    "        while j >= 0 and M[j][i] == 0:\n",
    "            j -= 1\n",
    "        if j >= 0:\n",
    "            M.swap_rows(i,j)\n",
    "        else:\n",
    "            return dependanceLineaireVersLeHaut(M)\n",
    "    for j in range(i-1,-1,-1):\n",
    "        M[j] = combineVect(vc, M.row(j), i)\n",
    "    return dependanceLineaireVersLeHaut(M)\n",
    "\n",
    "def unificationDiagonale(M):\n",
    "    for i in range(M.nrows()):\n",
    "        if M[i][i] != 0:\n",
    "            M[i] = M.row(i)/M[i][i]\n",
    "    return M\n",
    "\n",
    "def myInverse(A):\n",
    "    base = A.base_ring()\n",
    "    if A.nrows() != A.ncols():\n",
    "        return \"Matrice pas carrée, je fais rien\"\n",
    "    lines = []\n",
    "    for i in range(A.nrows()):\n",
    "        lines.append([j for j in A.row(i)] + [0 if j!=i else 1 for j in range(A.ncols())])\n",
    "    G = matrix(base, A.nrows(), A.ncols()*2, lines)\n",
    "    dependanceLineaireVersLeBas(G)\n",
    "    dependanceLineaireVersLeHaut(G)\n",
    "    unificationDiagonale(G)\n",
    "    lines = []\n",
    "    for i in range(A.nrows()):\n",
    "        lines.append([G[i][j] for j in range(A.nrows(), 2*A.nrows())])\n",
    "    I = matrix(base, A.nrows(), A.ncols(), lines)\n",
    "    return I\n",
    "    \n",
    "myInverse(A)\n"
   ]
  },
  {
   "cell_type": "code",
   "execution_count": null,
   "metadata": {},
   "outputs": [],
   "source": []
  },
  {
   "cell_type": "code",
   "execution_count": null,
   "metadata": {},
   "outputs": [],
   "source": []
  },
  {
   "cell_type": "markdown",
   "metadata": {
    "deletable": false,
    "editable": false,
    "run_control": {
     "frozen": true
    }
   },
   "source": [
    "## Une formule récursive  pour le calcul de l'inverse\n",
    "\n",
    "En considérant la matrice  $ A= \n",
    "\\begin{pmatrix}\n",
    "a & b\\\\\n",
    "c & d\\\\\n",
    "\\end{pmatrix}\n",
    "\\,\\mbox{et le symbole }\\,\n",
    "S=d-ca^{-1}b\n",
    "$\n",
    "\n",
    "on peut facilement définir l'inverse \n",
    "$$\n",
    "A^{-1}= \n",
    "\\begin{pmatrix}\n",
    "1 & -a^{-1}b\\\\\n",
    "0 & 1\\\\\n",
    "\\end{pmatrix}\n",
    "\\begin{pmatrix}\n",
    "a^{-1} & 0\\\\\n",
    "0 & S^{-1}\\\\\n",
    "\\end{pmatrix}\n",
    "\\begin{pmatrix}\n",
    "1 & 0\\\\\n",
    "-ca^{-1} & 1\\\\\n",
    "\\end{pmatrix}\n",
    "$$\n",
    "\n",
    "\n"
   ]
  },
  {
   "cell_type": "markdown",
   "metadata": {
    "deletable": false,
    "editable": false,
    "run_control": {
     "frozen": true
    }
   },
   "source": [
    "### Question\n",
    "\n",
    "En utilisant le domaine `SymbolicRing` (`SR`) prouver la formule donnée précédemment (de deux manières différentes).\n"
   ]
  },
  {
   "cell_type": "code",
   "execution_count": 128,
   "metadata": {},
   "outputs": [
    {
     "data": {
      "text/plain": [
       "True"
      ]
     },
     "execution_count": 128,
     "metadata": {},
     "output_type": "execute_result"
    }
   ],
   "source": [
    "var('a','b','c','d')\n",
    "S = d - c*(a**-1)*b\n",
    "A = matrix(SR,2,2,[[a,b],[c,d]])\n",
    "AI = myInverse(A)\n",
    "AI2 = matrix(SR,2,2,[[1,(-a**-1)*b],[0,1]]) * matrix(SR,2,2,[[a**-1,0],[0,S**-1]]) * matrix(SR,2,2,[[1,0],[-c*(a**-1),1]])\n",
    "AI2 == AI"
   ]
  },
  {
   "cell_type": "markdown",
   "metadata": {
    "deletable": false,
    "editable": false,
    "run_control": {
     "frozen": true
    }
   },
   "source": [
    "### Généralisation de la récurrence aux matrices\n",
    "À partir de cette formule d'inversion de matrice $2\\times 2$, nous pouvons  définir un algorithme récursif.\n",
    "En effet, si la dimension $n$ d'une matrice $H$ est paire alors on peut découper la matrice $H$ en 4 blocs correspondants à des matrices de taille $\\frac{n}{2}\\times\\frac{n}{2}$\n",
    "\n",
    "$$\n",
    "H=\n",
    "\\begin{pmatrix}\n",
    "A & B\\\\\n",
    "C & D\\\\\n",
    "\\end{pmatrix}\n",
    "$$\n",
    "\n",
    "On peut donc appliquer la formule ci-dessus pour calculer l'inverse en calculant récursivement $A^{-1}$ et $S^{-1}= (D-CA^{-1}B)^{-1}$. Bien entendu, la récurrence ne sera valide que si $n=2^k$ et elle s'arrètera pour $n=1$ où il est facile de retourner l'inverse."
   ]
  },
  {
   "cell_type": "markdown",
   "metadata": {
    "deletable": false,
    "editable": false,
    "run_control": {
     "frozen": true
    }
   },
   "source": [
    "### Question\n",
    "\n",
    "Défininir la fonction `myInverseRec(H)` qui calcule l'inverse de la matrice $H$ en appliquant la méthode ci-dessus. Cette fonction ne marchera que pour des dimensions de matrices qui seront des puissances de 2."
   ]
  },
  {
   "cell_type": "code",
   "execution_count": 152,
   "metadata": {},
   "outputs": [
    {
     "data": {
      "text/plain": [
       "True"
      ]
     },
     "execution_count": 152,
     "metadata": {},
     "output_type": "execute_result"
    }
   ],
   "source": [
    "#construit [[A, B], [C, D]]\n",
    "def construitMoiUneMatrice(A, B, C, D, base, n):\n",
    "    line1 = []\n",
    "    line2 = []\n",
    "    for i in range(n):\n",
    "        line1.append([A[i][j] for j in range(n)]+[B[i][j] for j in range(n)])\n",
    "        line2.append([C[i][j] for j in range(n)]+[D[i][j] for j in range(n)])\n",
    "    return matrix(base, 2*n, 2*n, line1+line2)\n",
    "\n",
    "def myInverseRec(H):\n",
    "    if H.nrows() == 1:\n",
    "        inv = 0\n",
    "        if H[0][0] != 0:\n",
    "            inv = 1/H[0][0]\n",
    "        H[0] = vector(H.base_ring(), [inv])\n",
    "        return H\n",
    "    n = H.nrows()/2\n",
    "    lA = []\n",
    "    lB = []\n",
    "    lC = []\n",
    "    lD = []\n",
    "    for i in range(n):\n",
    "        lA.append([H[i][j] for j in range(n)])\n",
    "        lB.append([H[i][j] for j in range(n,2*n)])\n",
    "        lC.append([H[i+n][j] for j in range(n)])\n",
    "        lD.append([H[i+n][j] for j in range(n,2*n)])\n",
    "    A = matrix(H.base_ring(),n,n,lA)\n",
    "    B = matrix(H.base_ring(),n,n,lB)\n",
    "    C = matrix(H.base_ring(),n,n,lC)\n",
    "    D = matrix(H.base_ring(),n,n,lD)\n",
    "    IA = myInverseRec(A)\n",
    "    S = (D-C*IA*B)\n",
    "    IS = myInverseRec(S)\n",
    "    M1 = matrix(n,n,[[1 if i==j else 0 for j in range(n)] for i in range(n)])\n",
    "    M0 = matrix(n,n,[[0 for _ in range(n)] for _ in range(n)])\n",
    "    base = H.base_ring()\n",
    "    I1 = construitMoiUneMatrice(M1, -IA*B, M0, M1, base, n)\n",
    "    I2 = construitMoiUneMatrice(IA, M0, M0, IS, base, n)\n",
    "    I3 = construitMoiUneMatrice(M1, M0, -C*IA, M1, base, n)\n",
    "    return I1*I2*I3\n",
    "    \n",
    "myInverseRec(matrix(SR,2,2,[['a','b'],['c','d']])) == AI"
   ]
  },
  {
   "cell_type": "markdown",
   "metadata": {
    "deletable": false,
    "editable": false,
    "run_control": {
     "frozen": true
    }
   },
   "source": [
    "### Question\n",
    "Tester votre fonction pour des matrices aléatoires de taille $2^k$ pour $1<k<8$ à coefficient dans le corps finis à 65537 éléments `GF(65537)`."
   ]
  },
  {
   "cell_type": "code",
   "execution_count": 176,
   "metadata": {},
   "outputs": [
    {
     "name": "stdout",
     "output_type": "stream",
     "text": [
      "Something went horribly wrong...\n",
      "matrice d'origine:\n",
      "[10970  2110  8875 46302 26791 43486 14982 40342]\n",
      "[41322 49413 58775 44923 26566 38851 46892 58446]\n",
      "[52502 55858 53747  1945 11451 38510 14780  7986]\n",
      "[41963 20720 25944 17295 58144 32479 25951 29667]\n",
      "[14945 30934 39868 24621 21575 30867 54729 22008]\n",
      "[52383 46923 18006 24306 44070  5682  3304 37640]\n",
      "[52932 26900 55281 41183 37135 57313 18007 13563]\n",
      "[23548 24264 45040 62427 45358 16923 49990 45382]\n",
      "Inversion régulière:\n",
      "[62536 54539 16761 29880 48798 25052 13309 55689]\n",
      "[64942  5912 64324 10747 23584 46968 30649 59554]\n",
      "[29429 51128 17779 27037 33521 31705 57352 31290]\n",
      "[45331 20224 12614 25350 62261 43134 43048 24570]\n",
      "[48264  7600 60858 53367  6433 57094  5112  2390]\n",
      "[54402 51970 36828 12035 59363 63838 59444 57594]\n",
      "[24600  4161 33659 51503 51333 12670 59670 23698]\n",
      "[43883 11662 40564 56381 51377 18580 57427 19678]\n",
      "Inversion récursive:\n",
      "[62536 54539 16761 29880 48798 25052 13309 55689]\n",
      "[64942  5912 64324 10747 23584 46968 30649 59554]\n",
      "[29429 51128 17779 27037 33521 31705 57352 31290]\n",
      "[45331 20224 12614 25350 62261 43134 43048 24570]\n",
      "[48264  7600 60858 53367  6433 57094  5112  2390]\n",
      "[54402 51970 36828 12035 59363 63838 59444 57594]\n",
      "[24600  4161 33659 51503 51333 12670 59670 23698]\n",
      "[43883 11662 40564 56381 51377 18580 57427 19678]\n",
      "Veritable inversion:\n",
      "[62536 54539 16761 29880 48798 25052 13309 55689]\n",
      "[64942  5912 64324 10747 23584 46968 30649 59554]\n",
      "[29429 51128 17779 27037 33521 31705 57352 31290]\n",
      "[45331 20224 12614 25350 62261 43134 43048 24570]\n",
      "[48264  7600 60858 53367  6433 57094  5112  2390]\n",
      "[54402 51970 36828 12035 59363 63838 59444 57594]\n",
      "[24600  4161 33659 51503 51333 12670 59670 23698]\n",
      "[43883 11662 40564 56381 51377 18580 57427 19678]\n"
     ]
    }
   ],
   "source": [
    "def matAleatoireCarree(taille, base):\n",
    "    lines = []\n",
    "    for i in range(taille):\n",
    "        lines.append([randint(0,65536) for _ in range(taille)])\n",
    "    return matrix(base, taille, taille, lines)\n",
    "\n",
    "base = GF(65537)\n",
    "\n",
    "for i in range(1):\n",
    "    k = randint(2,7)\n",
    "    mat = matAleatoireCarree(2**k,base)\n",
    "    while not mat.is_invertible():\n",
    "        k = randint(2,3)\n",
    "        mat = matAleatoireCarree(2**k,base)\n",
    "    IA1 = myInverse(mat)\n",
    "    IA2 = myInverseRec(mat)\n",
    "    if IA1 == IA2:\n",
    "        print(\"Something went horribly wrong...\")\n",
    "        print(\"matrice d'origine:\")\n",
    "        print(mat)\n",
    "        print(\"Inversion régulière:\")\n",
    "        print(IA1)\n",
    "        print(\"Inversion récursive:\")\n",
    "        print(IA2)\n",
    "        print(\"Veritable inversion:\")\n",
    "        print(mat.inverse())"
   ]
  },
  {
   "cell_type": "markdown",
   "metadata": {
    "deletable": false,
    "editable": false,
    "run_control": {
     "frozen": true
    }
   },
   "source": [
    "### Question\n",
    "\n",
    "En utilisant la fonction `%time` comparer le temps de calcul de vos deux fonctions `myInverse` et `myInverseRec`"
   ]
  },
  {
   "cell_type": "code",
   "execution_count": 186,
   "metadata": {},
   "outputs": [
    {
     "name": "stdout",
     "output_type": "stream",
     "text": [
      "CPU times: user 13.9 ms, sys: 3.62 ms, total: 17.5 ms\n",
      "Wall time: 16.6 ms\n",
      "CPU times: user 22.4 ms, sys: 413 µs, total: 22.8 ms\n",
      "Wall time: 21.2 ms\n"
     ]
    },
    {
     "data": {
      "text/plain": [
       "[50229 14687 61898 42315  2700 29801 18163 38872 51509 35849 42179 35324  6073 28548 46705  6793]\n",
       "[11365 53011 32992 24877 46897 10963 20663 64024 64297 41647  1480 15650 17201 23383 20587 63252]\n",
       "[58635 40792 44144 27371  9606  5535 61172 50576 50483 15639 59302 38107 50012 21342 49810 12146]\n",
       "[49156 37105 41124 27408 29389 13546 31726 27274 31454 40607  7928 32117 13171 21551 23318   252]\n",
       "[32042 30052  5647 49927 33978  6600 13814 24282 24302 33630  5929  7110 37267 62534  7579 56451]\n",
       "[58003 22038 45400 62356 31385 44445 46770 41924 38412 14423  3753 30036 19908  7973 63641 33084]\n",
       "[63892 64152  1532 30306 43647 17272 62517 39621  5909  1940 40254 56892 46748 16289 42334 60643]\n",
       "[22478 22816 24547 14248 38642 31732 38097 21892 38610  1820  7232 54486 11047 26330 20510 36407]\n",
       "[54305 14262 34039 55888 27506 52798  7785 20444 19961 19776  4599 54772 62105 15491   203  9132]\n",
       "[35725  5313 24652 30867 10458 14393 33891 23879  7278 18625 43063 63200 47904 29678 61237 11652]\n",
       "[54431 21992 19796 31393 25401 11913 25955 63544 17225 20084 27103  4204 44486  4070 34595 23470]\n",
       "[16898 52979 64678 52087 27413 44916 19477 63155 30251 54880 56117  1476 38155 28067  3803 29353]\n",
       "[51570 41849 46467 38417 31699 10253 10567 20027 43425  6595 39398 13481 57619 61767 46235 34212]\n",
       "[ 3111 28871 56158 61442 41755 55428 10991  5852 52679 43657 50035 42448 28164 64206 42604 65188]\n",
       "[47293 53146 61481  8641 36277  4948  5230 46142 34963 42149 44562 28324 55768 53079 42298 55600]\n",
       "[  984 12169 17229 49136 46769  3647 54615 32289 64505  3430 48455 51557 11065 35585 61071  7030]"
      ]
     },
     "execution_count": 186,
     "metadata": {},
     "output_type": "execute_result"
    }
   ],
   "source": [
    "mat = matAleatoireCarree(2**4,GF(65537))\n",
    "%time myInverse(mat)\n",
    "%time myInverseRec(mat)"
   ]
  },
  {
   "cell_type": "code",
   "execution_count": null,
   "metadata": {},
   "outputs": [],
   "source": []
  },
  {
   "cell_type": "code",
   "execution_count": null,
   "metadata": {},
   "outputs": [],
   "source": []
  }
 ],
 "metadata": {
  "kernelspec": {
   "display_name": "SageMath 9.0",
   "language": "sage",
   "name": "sagemath"
  },
  "language_info": {
   "codemirror_mode": {
    "name": "ipython",
    "version": 3
   },
   "file_extension": ".py",
   "mimetype": "text/x-python",
   "name": "python",
   "nbconvert_exporter": "python",
   "pygments_lexer": "ipython3",
   "version": "3.8.10"
  },
  "toc": {
   "base_numbering": 1,
   "nav_menu": {},
   "number_sections": true,
   "sideBar": true,
   "skip_h1_title": true,
   "title_cell": "Table of Contents",
   "title_sidebar": "Contents",
   "toc_cell": false,
   "toc_position": {
    "height": "calc(100% - 180px)",
    "left": "10px",
    "top": "150px",
    "width": "274.233px"
   },
   "toc_section_display": true,
   "toc_window_display": true
  },
  "varInspector": {
   "cols": {
    "lenName": 16,
    "lenType": 16,
    "lenVar": 40
   },
   "kernels_config": {
    "python": {
     "delete_cmd_postfix": "",
     "delete_cmd_prefix": "del ",
     "library": "var_list.py",
     "varRefreshCmd": "print(var_dic_list())"
    },
    "r": {
     "delete_cmd_postfix": ") ",
     "delete_cmd_prefix": "rm(",
     "library": "var_list.r",
     "varRefreshCmd": "cat(var_dic_list()) "
    }
   },
   "types_to_exclude": [
    "module",
    "function",
    "builtin_function_or_method",
    "instance",
    "_Feature"
   ],
   "window_display": false
  }
 },
 "nbformat": 4,
 "nbformat_minor": 4
}
