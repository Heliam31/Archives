{
 "cells": [
  {
   "cell_type": "code",
   "execution_count": 1,
   "metadata": {
    "tags": [
     "sujet"
    ]
   },
   "outputs": [],
   "source": [
    "%display latex"
   ]
  },
  {
   "cell_type": "markdown",
   "metadata": {
    "deletable": false,
    "editable": false,
    "run_control": {
     "frozen": true
    }
   },
   "source": [
    "# TP arithmétique et cryptographie\n",
    "\n",
    "Durant cette séance nous nous intéressons à faire des calculs dans des structures mathématiques classiques qui sont d'une grande importance dans les applications en cryptographie.\n",
    "\n",
    "## Introduction\n",
    "\n",
    "Tout d'abord nous allons revenir sur la notion de calcul, et plus particulièrement sur la notion de certains *domaines de calcul*. En effet, dans SageMath nous pouvons calculer avec des entiers ou des nombres rationnels assez facilement à partir d'expression mathématiques.\n"
   ]
  },
  {
   "cell_type": "code",
   "execution_count": 2,
   "metadata": {
    "tags": [
     "sujet"
    ]
   },
   "outputs": [
    {
     "data": {
      "text/html": [
       "<html><script type=\"math/tex; mode=display\">\\newcommand{\\Bold}[1]{\\mathbf{#1}}4</script></html>"
      ],
      "text/plain": [
       "4"
      ]
     },
     "execution_count": 2,
     "metadata": {},
     "output_type": "execute_result"
    }
   ],
   "source": [
    "2+2 # calcul avec des entiers"
   ]
  },
  {
   "cell_type": "code",
   "execution_count": 3,
   "metadata": {
    "tags": [
     "sujet"
    ]
   },
   "outputs": [
    {
     "data": {
      "text/html": [
       "<html><script type=\"math/tex; mode=display\">\\newcommand{\\Bold}[1]{\\mathbf{#1}}\\frac{29}{21}</script></html>"
      ],
      "text/plain": [
       "29/21"
      ]
     },
     "execution_count": 3,
     "metadata": {},
     "output_type": "execute_result"
    }
   ],
   "source": [
    "2/3+5/7 # calcul avec des nombres rationnels"
   ]
  },
  {
   "cell_type": "markdown",
   "metadata": {
    "deletable": false,
    "editable": false,
    "run_control": {
     "frozen": true
    }
   },
   "source": [
    "En fait, la notion de calcul sur les entiers ou les rationnels est associé à la notion de *structure mathématique* $\\mathbb Z$ et $\\mathbb{Q}$ pour lesquels les opérations telles que l'addition et la multiplication sont *bien définies*. Par *bien définie*, on entend que l'opération est calculable et que le résultat reste dans le même ensemble de valeurs que celui des entrées : pour $\\star\\in\\{+,\\times\\}$,\n",
    "- $\\forall x,y \\in \\mathbb{Z} \\longrightarrow (x\\star y)\\in\\mathbb{Z}$, et \n",
    "- $\\forall x,y \\in \\mathbb{Q} \\longrightarrow (x \\star y)\\in\\mathbb{Q}$\n",
    "\n",
    "Dans SageMath, les structures $\\mathbb Z$ et $\\mathbb Q$ sont nommées `ZZ` et `QQ`. Par exemple `QQ(3)` construit le *rationnel* $3$ alors que `ZZ(3)` construit l'entier $3$."
   ]
  },
  {
   "cell_type": "markdown",
   "metadata": {
    "deletable": false,
    "editable": false,
    "run_control": {
     "frozen": true
    }
   },
   "source": [
    "### Question\n",
    "Vérifier au travers d'exemples que les résultats des opérations `+` et `*` sur les rationnels sont bien des rationnels. *Essayer de deviner la réponse aux questions qui suivent, puis vérifier avec l'instruction `type(...)` qui fournit le type de son argument.*\n",
    "- Quels sont les types de retour de `ZZ(3)+ZZ(5)` et `QQ(3)+QQ(5)`.\n",
    "- Quelle est la valeur de $\\frac{6}{5}\\times\\frac{35}{3}$ ? Et son type de retour ?\n",
    "- Que se passe-t-il si on tape `ZZ(4) * QQ(6)` ?"
   ]
  },
  {
   "cell_type": "code",
   "execution_count": 4,
   "metadata": {},
   "outputs": [
    {
     "data": {
      "text/html": [
       "<html><script type=\"math/tex; mode=display\">\\newcommand{\\Bold}[1]{\\mathbf{#1}}\\verb|<class|\\phantom{\\verb!x!}\\verb|'sage.rings.rational.Rational'>|</script></html>"
      ],
      "text/plain": [
       "<class 'sage.rings.rational.Rational'>"
      ]
     },
     "execution_count": 4,
     "metadata": {},
     "output_type": "execute_result"
    }
   ],
   "source": [
    "type(ZZ(3)+ZZ(5))\n",
    "type(QQ(3)+QQ(5))"
   ]
  },
  {
   "cell_type": "code",
   "execution_count": 5,
   "metadata": {},
   "outputs": [
    {
     "data": {
      "text/html": [
       "<html><script type=\"math/tex; mode=display\">\\newcommand{\\Bold}[1]{\\mathbf{#1}}2</script></html>"
      ],
      "text/plain": [
       "2"
      ]
     },
     "metadata": {},
     "output_type": "display_data"
    },
    {
     "data": {
      "text/html": [
       "<html><script type=\"math/tex; mode=display\">\\newcommand{\\Bold}[1]{\\mathbf{#1}}\\verb|<class|\\phantom{\\verb!x!}\\verb|'sage.rings.rational.Rational'>|</script></html>"
      ],
      "text/plain": [
       "<class 'sage.rings.rational.Rational'>"
      ]
     },
     "execution_count": 5,
     "metadata": {},
     "output_type": "execute_result"
    }
   ],
   "source": [
    "a = 6/35 * 35/3\n",
    "show(a)\n",
    "type(a)"
   ]
  },
  {
   "cell_type": "code",
   "execution_count": 6,
   "metadata": {},
   "outputs": [
    {
     "data": {
      "text/html": [
       "<html><script type=\"math/tex; mode=display\">\\newcommand{\\Bold}[1]{\\mathbf{#1}}\\verb|<class|\\phantom{\\verb!x!}\\verb|'sage.rings.rational.Rational'>|</script></html>"
      ],
      "text/plain": [
       "<class 'sage.rings.rational.Rational'>"
      ]
     },
     "execution_count": 6,
     "metadata": {},
     "output_type": "execute_result"
    }
   ],
   "source": [
    "type(ZZ(4) * QQ(6))"
   ]
  },
  {
   "cell_type": "markdown",
   "metadata": {
    "deletable": false,
    "editable": false,
    "run_control": {
     "frozen": true
    }
   },
   "source": [
    "## Opérations modulaires\n",
    "\n",
    "<!-- On peut facilement définir la notion d'inverse pour l'addition et la multiplication à partir d'un élément neutre.\n",
    "\n",
    "- En effet, 0 étant neutre pour l'addition $(x+0= 0+x = x$),  l'inverse de l'addition est définie comme l'opération qui donne 0 par l'addition de x et de son inverse. Cela donne $ x + \\mathsf{inv}_+(x) = 0 \\longrightarrow \\mathsf{inv}_+(x)= -x$. On voit facilement que l'inverse de l'addition est bien définie pour $\\mathbb{Q}$ et $\\mathbb{Z}$: $\\forall x \\in \\mathbb{Q,Z} \\longrightarrow -x \\in \\mathbb{Q,Z}$\n",
    "\n",
    "\n",
    "- Cela marche pareil pour définir la multiplication en remarquant que 1 est le neutre pour la multiplication. Cela donne $ x * \\mathsf{inv}_*(x) = 1 \\longrightarrow \\mathsf{inv}_*(x)= 1/x$. Malheureuresement, on peut voir que cette inverse n'est pas bien définie pour tout  $x \\in \\mathbb{Q,Z}$. En effet, dans $\\mathbb{Z}$ seul 1 et -1 sont inversibles alors que pour $\\mathbb{Q}$ tout les éléments sauf zero sont inversibles.\n",
    "\n",
    "\n",
    "\n",
    "C'est à partir de cette notion d'inverse que l'on peut définir les opérations de soustraction et de division.\n",
    "- la soustraction est la composition de l'addition et de son inverse: $x-y = x + (-y)$\n",
    "- la division est la composition de la multiplication et de son inverse: $x/y = x * (1/y)$\n",
    "\n",
    "\n",
    "Pour retrouver des propriétés d'inversibilité pour les entiers similaires à celles des nombres rationnels de $ \\mathbb{Q}$ (tous les éléments hormis 0 ont un inverse.), il faut se ramener à des sous-ensemble des entiers.\n",
    "\n",
    "-->\n"
   ]
  },
  {
   "cell_type": "markdown",
   "metadata": {
    "deletable": false,
    "editable": false,
    "run_control": {
     "frozen": true
    }
   },
   "source": [
    "En cryptographie, on a besoin de travailler avec des ensembles *finis* de nombres. Pour cela, on utilise l'opération *modulo*. L'ensemble des entiers *modulo* $N$ est l'ensemble des entiers entre $0$ et $N-1$, et les opérations d'addition et de multiplication se font *modulo* $N$. <!--Le sous-ensemble des entiers à $N$ élements peut être identifié par la classe des entiers modulo $N$, câd l'ensemble des entiers compris entre $0$ et $N-1$. Pour--> Concrètement, pour calculer dans cet ensemble il suffit de faire le calcul dans $\\mathbb{Z}$ et de réduire le résultat *modulo* $N$ (prendre le reste de la division par $N$).\n",
    "\n",
    "Avec ce mode de calcul les opérations  $+$ et $\\times$ sont bien définies : pour $\\star\\in\\{+,\\times\\}$,\n",
    "$$\\forall x,y \\in\\{0,1,\\dots, N-1\\} \\longrightarrow (x\\star y) \\bmod N \\in \\{0,1,\\dots, N-1\\}$$\n",
    "\n",
    "<!--- l'inverse de l'addition étant définie par $\\mathsf{inv}_+(x) = N-x \\bmod N$, cette opération est bien définie on a que $x-y=x+N-y \\bmod N$  est bien un entier compris entre 0 et N-1.\n",
    "\n",
    "Nous reviendrons un peu plus loin sur l'inverse de la multiplication.-->\n",
    "\n",
    "Dans les questions qui suivent, on s'intéressent aux tables d'addition et de multiplication des entiers *modulo* $N$."
   ]
  },
  {
   "cell_type": "markdown",
   "metadata": {
    "deletable": false,
    "editable": false,
    "run_control": {
     "frozen": true
    }
   },
   "source": [
    "### Question  \n",
    "Donner la table d'addition <!--et de soustraction--> de l'ensemble $\\{0,1,2,3,4\\}$ des entiers *modulo* $5$ : représenter la table par une matrice `Ma5` telle que $Ma5[i,j]= i+j \\bmod 5$<!--et $Mb5[i,j]= i+5-j \\bmod 5$-->.  *L'instruction `Matrix(n,n)` permet de construire une matrice de taille $n \\times n$.*"
   ]
  },
  {
   "cell_type": "code",
   "execution_count": 7,
   "metadata": {},
   "outputs": [],
   "source": [
    "m = [[0 for ù in range(5)] for _ in range(5)]\n",
    "for i in range(5):\n",
    "    for j in range(5):\n",
    "        m[i][j] = (i+j)%5\n",
    "Ma5 = Matrix(m)"
   ]
  },
  {
   "cell_type": "markdown",
   "metadata": {
    "deletable": false,
    "editable": false,
    "run_control": {
     "frozen": true
    }
   },
   "source": [
    "Pour effectuer des additions dans l'ensemble des entiers modulo 5, on peut utiliser cette matrice. <!-- qui donnent les tables d'addition et de sopustraction des entiers modulo 5.-->\n",
    "Par exemple, taper `Ma5[2,3]` pour obtenir $2+3 \\bmod 5$. <!--  et Ms5[2,3] pour obtenir $2-3 \\bmod 5$.-->"
   ]
  },
  {
   "cell_type": "code",
   "execution_count": 8,
   "metadata": {},
   "outputs": [
    {
     "data": {
      "text/html": [
       "<html><script type=\"math/tex; mode=display\">\\newcommand{\\Bold}[1]{\\mathbf{#1}}0</script></html>"
      ],
      "text/plain": [
       "0"
      ]
     },
     "execution_count": 8,
     "metadata": {},
     "output_type": "execute_result"
    }
   ],
   "source": [
    "Ma5[2,3]"
   ]
  },
  {
   "cell_type": "markdown",
   "metadata": {
    "deletable": false,
    "editable": false,
    "run_control": {
     "frozen": true
    }
   },
   "source": [
    "### Question \n",
    "Construire la matrice `Mp5` de multiplication des entiers modulo $5$ et utiliser cette matrice pour calculer $3^{98} \\bmod 5$. *Vérifier votre résultat en comparant avec l'instruction `pow(3,n,5)`.* "
   ]
  },
  {
   "cell_type": "code",
   "execution_count": 9,
   "metadata": {},
   "outputs": [],
   "source": [
    "m = [[0 for ù in range(5)] for _ in range(5)]\n",
    "for i in range(5):\n",
    "    for j in range(5):\n",
    "        m[i][j] = (i*j)%5\n",
    "Mp5 = Matrix(m)"
   ]
  },
  {
   "cell_type": "code",
   "execution_count": 10,
   "metadata": {},
   "outputs": [
    {
     "data": {
      "text/html": [
       "<html><script type=\"math/tex; mode=display\">\\newcommand{\\Bold}[1]{\\mathbf{#1}}4</script></html>"
      ],
      "text/plain": [
       "4"
      ]
     },
     "metadata": {},
     "output_type": "display_data"
    },
    {
     "data": {
      "text/html": [
       "<html><script type=\"math/tex; mode=display\">\\newcommand{\\Bold}[1]{\\mathbf{#1}}4</script></html>"
      ],
      "text/plain": [
       "4"
      ]
     },
     "metadata": {},
     "output_type": "display_data"
    }
   ],
   "source": [
    "def powMp5(m, act, n, p):\n",
    "    if p < 3:\n",
    "        return m[act,n]\n",
    "    return powMp5(m, m[act,n], n, p-1)\n",
    "show(powMp5(Mp5,3,3,98))\n",
    "show(pow(3,98,5))"
   ]
  },
  {
   "cell_type": "markdown",
   "metadata": {
    "deletable": false,
    "editable": false,
    "run_control": {
     "frozen": true
    }
   },
   "source": [
    "### Question\n",
    "\n",
    "On a vu que le domaine des entiers de $\\mathbb{Z}$ se nomme `ZZ` dans SageMath. <!-- et x=ZZ(13) définit x comme l'entier 13 dans $\\mathbb{Z}$.--> De manière similaire, SageMath définit l'objet représentant l'ensemble des entiers *modulo* $N$ par `Integers(N)` pour un entier `N` donné. Mathématiquement, cet ensemble est noté $\\mathbb Z/N\\mathbb Z$.\n",
    "\n",
    "Par exemple, `A=Integers(50)` définit la structure mathématique correspondant aux entiers *modulo* $50$. Pour construire un élément de cette ensemble, il suffit de lui passer en paramètre un entier :\n",
    "- `A(10)` construit l'entier $10$ dans cet ensemble, càd $10 \\bmod 50 \\rightarrow 10$ ;\n",
    "- `A(57)` construit l'entier $57$ dans cet ensemble, càd $57 \\bmod 50 \\rightarrow 7$.\n",
    "\n",
    "**Dans toute la suite, on travaillera avec des éléments de `Integers(N)` pour différentes valeurs de $N$ : on ne devra donc plus utiliser le *modulo* (symbole `%`) car les opérations sont automatiquement faites *modulo* $N$ dans `Integers(N)`.\n",
    "\n",
    "**À vous de jouer :** \n",
    "- Définissez la variable `I10` définissant l'ensemble des entiers *modulo* $10$ et faite le calcul de $7\\times 5$ dans cet ensemble. \n",
    "- En utilisant la méthode `random_element()` de `I10`, calculer et afficher la somme et le produit de deux élements de `I10` choisis aléatoirement. \n",
    "- Refaites le calcul de $3^{98} \\bmod 5$ en utilisant la classe des entiers *modulo* $5$ de SageMath."
   ]
  },
  {
   "cell_type": "code",
   "execution_count": 11,
   "metadata": {},
   "outputs": [
    {
     "data": {
      "text/html": [
       "<html><script type=\"math/tex; mode=display\">\\newcommand{\\Bold}[1]{\\mathbf{#1}}5</script></html>"
      ],
      "text/plain": [
       "5"
      ]
     },
     "execution_count": 11,
     "metadata": {},
     "output_type": "execute_result"
    }
   ],
   "source": [
    "I10 = Integers(10)\n",
    "I10(7*5)"
   ]
  },
  {
   "cell_type": "code",
   "execution_count": 12,
   "metadata": {},
   "outputs": [
    {
     "data": {
      "text/html": [
       "<html><script type=\"math/tex; mode=display\">\\newcommand{\\Bold}[1]{\\mathbf{#1}}2</script></html>"
      ],
      "text/plain": [
       "2"
      ]
     },
     "metadata": {},
     "output_type": "display_data"
    },
    {
     "data": {
      "text/html": [
       "<html><script type=\"math/tex; mode=display\">\\newcommand{\\Bold}[1]{\\mathbf{#1}}6</script></html>"
      ],
      "text/plain": [
       "6"
      ]
     },
     "metadata": {},
     "output_type": "display_data"
    },
    {
     "data": {
      "text/html": [
       "<html><script type=\"math/tex; mode=display\">\\newcommand{\\Bold}[1]{\\mathbf{#1}}8</script></html>"
      ],
      "text/plain": [
       "8"
      ]
     },
     "metadata": {},
     "output_type": "display_data"
    },
    {
     "data": {
      "text/html": [
       "<html><script type=\"math/tex; mode=display\">\\newcommand{\\Bold}[1]{\\mathbf{#1}}2</script></html>"
      ],
      "text/plain": [
       "2"
      ]
     },
     "metadata": {},
     "output_type": "display_data"
    }
   ],
   "source": [
    "r1 = I10.random_element()\n",
    "r2 = I10.random_element()\n",
    "show(r1)\n",
    "show(r2)\n",
    "show(r1+r2)\n",
    "show(r1*r2)"
   ]
  },
  {
   "cell_type": "code",
   "execution_count": 13,
   "metadata": {},
   "outputs": [
    {
     "data": {
      "text/html": [
       "<html><script type=\"math/tex; mode=display\">\\newcommand{\\Bold}[1]{\\mathbf{#1}}4</script></html>"
      ],
      "text/plain": [
       "4"
      ]
     },
     "execution_count": 13,
     "metadata": {},
     "output_type": "execute_result"
    }
   ],
   "source": [
    "I5 = Integers(5)\n",
    "I5(3**98)"
   ]
  },
  {
   "cell_type": "markdown",
   "metadata": {
    "deletable": false,
    "editable": false,
    "run_control": {
     "frozen": true
    }
   },
   "source": [
    "### Question\n",
    "\n",
    "Définir deux fonctions `genMatrixAdd` et `genMatrixMul` qui prennent en paramètre un entier $N$ et qui calculent la matrice correspondant à la table d'addition et de multiplication des entiers *modulo* $N$. Remarque : on souhaite que les matrices contiennent des éléments de `Integers(N)`. *Vérifiez que vos fonctions sont correctes (vous pouvez comparez le résultat avec les matrices `Ma5` et `Mp5` définies précédemment).*"
   ]
  },
  {
   "cell_type": "code",
   "execution_count": 14,
   "metadata": {},
   "outputs": [
    {
     "data": {
      "text/html": [
       "<html><script type=\"math/tex; mode=display\">\\newcommand{\\Bold}[1]{\\mathbf{#1}}\\left(\\begin{array}{rrrrr}\n",
       "0 & 1 & 2 & 3 & 4 \\\\\n",
       "1 & 2 & 3 & 4 & 0 \\\\\n",
       "2 & 3 & 4 & 0 & 1 \\\\\n",
       "3 & 4 & 0 & 1 & 2 \\\\\n",
       "4 & 0 & 1 & 2 & 3\n",
       "\\end{array}\\right)</script></html>"
      ],
      "text/plain": [
       "[0 1 2 3 4]\n",
       "[1 2 3 4 0]\n",
       "[2 3 4 0 1]\n",
       "[3 4 0 1 2]\n",
       "[4 0 1 2 3]"
      ]
     },
     "metadata": {},
     "output_type": "display_data"
    },
    {
     "data": {
      "text/html": [
       "<html><script type=\"math/tex; mode=display\">\\newcommand{\\Bold}[1]{\\mathbf{#1}}\\left(\\begin{array}{rrrrr}\n",
       "0 & 1 & 2 & 3 & 4 \\\\\n",
       "1 & 2 & 3 & 4 & 0 \\\\\n",
       "2 & 3 & 4 & 0 & 1 \\\\\n",
       "3 & 4 & 0 & 1 & 2 \\\\\n",
       "4 & 0 & 1 & 2 & 3\n",
       "\\end{array}\\right)</script></html>"
      ],
      "text/plain": [
       "[0 1 2 3 4]\n",
       "[1 2 3 4 0]\n",
       "[2 3 4 0 1]\n",
       "[3 4 0 1 2]\n",
       "[4 0 1 2 3]"
      ]
     },
     "metadata": {},
     "output_type": "display_data"
    },
    {
     "data": {
      "text/html": [
       "<html><script type=\"math/tex; mode=display\">\\newcommand{\\Bold}[1]{\\mathbf{#1}}\\left(\\begin{array}{rrrrr}\n",
       "0 & 0 & 0 & 0 & 0 \\\\\n",
       "0 & 1 & 2 & 3 & 4 \\\\\n",
       "0 & 2 & 4 & 1 & 3 \\\\\n",
       "0 & 3 & 1 & 4 & 2 \\\\\n",
       "0 & 4 & 3 & 2 & 1\n",
       "\\end{array}\\right)</script></html>"
      ],
      "text/plain": [
       "[0 0 0 0 0]\n",
       "[0 1 2 3 4]\n",
       "[0 2 4 1 3]\n",
       "[0 3 1 4 2]\n",
       "[0 4 3 2 1]"
      ]
     },
     "metadata": {},
     "output_type": "display_data"
    },
    {
     "data": {
      "text/html": [
       "<html><script type=\"math/tex; mode=display\">\\newcommand{\\Bold}[1]{\\mathbf{#1}}\\left(\\begin{array}{rrrrr}\n",
       "0 & 0 & 0 & 0 & 0 \\\\\n",
       "0 & 1 & 2 & 3 & 4 \\\\\n",
       "0 & 2 & 4 & 1 & 3 \\\\\n",
       "0 & 3 & 1 & 4 & 2 \\\\\n",
       "0 & 4 & 3 & 2 & 1\n",
       "\\end{array}\\right)</script></html>"
      ],
      "text/plain": [
       "[0 0 0 0 0]\n",
       "[0 1 2 3 4]\n",
       "[0 2 4 1 3]\n",
       "[0 3 1 4 2]\n",
       "[0 4 3 2 1]"
      ]
     },
     "metadata": {},
     "output_type": "display_data"
    },
    {
     "data": {
      "text/html": [
       "<html><script type=\"math/tex; mode=display\">\\newcommand{\\Bold}[1]{\\mathbf{#1}}\\verb|<class|\\phantom{\\verb!x!}\\verb|'sage.rings.finite_rings.integer_mod.IntegerMod_int'>|</script></html>"
      ],
      "text/plain": [
       "<class 'sage.rings.finite_rings.integer_mod.IntegerMod_int'>"
      ]
     },
     "metadata": {},
     "output_type": "display_data"
    }
   ],
   "source": [
    "def genMatrixAdd(N):\n",
    "    IN = Integers(N)\n",
    "    m = Matrix(IN,N,N)\n",
    "    for i in range(N):\n",
    "        for j in range(N):\n",
    "            m[i,j] = IN(i+j)\n",
    "    return m\n",
    "\n",
    "def genMatrixMul(N):\n",
    "    IN = Integers(N)\n",
    "    m = Matrix(IN,N,N)\n",
    "    for i in range(N):\n",
    "        for j in range(N):\n",
    "            m[i,j] = IN(i*j)\n",
    "    return m\n",
    "\n",
    "Ma52 = genMatrixAdd(5)\n",
    "Mp52 = genMatrixMul(5)\n",
    "show(Ma5)\n",
    "show(Ma52)\n",
    "show(Mp5)\n",
    "show(Mp52)\n",
    "\n",
    "show(type(Ma52[0,0]))"
   ]
  },
  {
   "cell_type": "markdown",
   "metadata": {
    "deletable": false,
    "editable": false,
    "run_control": {
     "frozen": true
    }
   },
   "source": [
    "## Inverses\n",
    "\n",
    "On peut facilement définir la notion d'inverse pour l'addition et la multiplication à partir d'un *élément neutre*, c'est-à-dire un élément $e$ tel que $\\forall x, x\\star e = e\\star x = x$. Ainsi, $0$ est l'élément neutre de l'addition et $1$ celui de la multiplication (que ce soit dans $\\mathbb Z$, $\\mathbb Q$ ou $\\mathbb Z/N\\mathbb Z$).\n",
    "\n",
    "- L'*inverse pour l'addition* d'un élément $x$ est l'élément $\\mathsf{inv}_+(x)$ tel que $ x + \\mathsf{inv}_+(x) = 0$. On voit donc que $\\mathsf{inv}_+(x)= -x$ : l'inverse pour l'addition est donc ce qu'on nomme habituellement l'opposé d'un nombre, et est bien définie pour $\\mathbb{Q}$ et $\\mathbb{Z}$ : $\\forall x \\in \\mathbb{Q,Z} \\longrightarrow -x \\in \\mathbb{Q,Z}$\n",
    "\n",
    "- De la même façon, l'*inverse pour la multiplication* se définit à partir du neutre $1$ pour la multiplication :  $\\mathsf{inv}_*(x)$ est défini par $ x * \\mathsf{inv}_*(x) = 1$, c'est-à-dire $\\mathsf{inv}_*(x)= 1/x$. L'inverse pour la multiplication est donc ce qu'on nomme habituellement l'inverse d'un nombre. On remarque donc que tout élément non nul de $\\mathbb Q$ admet un inverse (on dit qu'un tel élément est *inversible*). Mais dans $\\mathbb Z$, seuls $1$ et $-1$ sont inversibles.\n",
    "\n",
    "Remarque : comme tout entier peut être vu comme un nombre rationnel (en symboles, $\\mathbb Z\\subseteq\\mathbb Q$), si on cherche à calculer l'inverse d'un nombre entier $n$, SageMath le considèrera comme un rationnel et renverra le rationnel $1/n$."
   ]
  },
  {
   "cell_type": "markdown",
   "metadata": {
    "deletable": false,
    "editable": false,
    "run_control": {
     "frozen": true
    }
   },
   "source": [
    "### Question\n",
    "Que se passe-t-il quand on veut inverser l'entier $0$ ?"
   ]
  },
  {
   "cell_type": "code",
   "execution_count": 15,
   "metadata": {},
   "outputs": [],
   "source": [
    "#On ne peut pas: 0 * inv(0) = 1 est impossible"
   ]
  },
  {
   "cell_type": "markdown",
   "metadata": {
    "deletable": false,
    "editable": false,
    "run_control": {
     "frozen": true
    }
   },
   "source": [
    "<!-- À partir des notions d'inverse pour l'addition et la multiplication, on peut définir les opérations de soustraction et de division :\n",
    "- la soustraction est la composition de l'addition et de son inverse: $x-y = x + (-y)$ ;\n",
    "- la division est la composition de la multiplication et de son inverse: $x/y = x \\times (1/y)$.\n",
    "\n",
    "De même que pour l'inversion, la division n'est bien définie que pour les rationnels.\n",
    "\n",
    "Pour retrouver des propriétés d'inversibilité pour les entiers similaires à celles des nombres rationnels de $ \\mathbb{Q}$ (tous les éléments sauf 0 ont un inverse), il faut se ramener à des sous-ensemble des entiers.-->\n",
    "\n",
    "On va voir que lorsqu'on travaille avec des entiers *modulo* $N$, on retrouve l'inversibilité, au moins partiellement, dont on dipose avec les rationnels.\n",
    "La notion d'inverse pour l'addition ou la multiplication peut se voir directement sur les matrices représentant les tables des opérations :\n",
    "- un élément $x$ est inversible pour l'addition si et seulement s'il y a un unique $0$ dans la ligne et la colonne d'indice $x$ ;\n",
    "- un élément $x$ est inversible pour la multiplication si et seulement s'il y  a un unique $1$ dans la ligne et la colonne d'indice $x$.\n",
    "\n",
    "### Question\n",
    "En utilisant les matrices associées à l'addition et la multiplication des entiers *modulo* $5$, donner la liste des éléments inversibles pour l'addition, et celle des éléments inversibles pour la multiplication. *Attention à bien avoir une liste d'éléments de `Integers(N)` et pas d'entiers (vérifier avec `type(...)`).*"
   ]
  },
  {
   "cell_type": "code",
   "execution_count": 16,
   "metadata": {},
   "outputs": [
    {
     "data": {
      "text/html": [
       "<html><script type=\"math/tex; mode=display\">\\newcommand{\\Bold}[1]{\\mathbf{#1}}\\left[0, 1, 2, 3, 4\\right]</script></html>"
      ],
      "text/plain": [
       "[0, 1, 2, 3, 4]"
      ]
     },
     "metadata": {},
     "output_type": "display_data"
    },
    {
     "data": {
      "text/html": [
       "<html><script type=\"math/tex; mode=display\">\\newcommand{\\Bold}[1]{\\mathbf{#1}}\\left[1, 2, 3, 4\\right]</script></html>"
      ],
      "text/plain": [
       "[1, 2, 3, 4]"
      ]
     },
     "metadata": {},
     "output_type": "display_data"
    },
    {
     "data": {
      "text/html": [
       "<html><script type=\"math/tex; mode=display\">\\newcommand{\\Bold}[1]{\\mathbf{#1}}\\verb|<class|\\phantom{\\verb!x!}\\verb|'sage.rings.finite_rings.integer_mod.IntegerMod_int'>|</script></html>"
      ],
      "text/plain": [
       "<class 'sage.rings.finite_rings.integer_mod.IntegerMod_int'>"
      ]
     },
     "metadata": {},
     "output_type": "display_data"
    }
   ],
   "source": [
    "def listInv(m, typeOp):\n",
    "    listInv = []\n",
    "    if typeOp == \"add\":\n",
    "        comp = 0\n",
    "    else:\n",
    "        comp = 1\n",
    "    for i in range(m.nrows()):\n",
    "        cpt0col = 0\n",
    "        cpt0line = 0\n",
    "        for j in range(m.nrows()):\n",
    "            if m[i,j] == comp:\n",
    "                cpt0col += 1\n",
    "            if m[j,i] == comp:\n",
    "                cpt0line += 1\n",
    "        if cpt0col == 1 and cpt0line == 1:\n",
    "            listInv.append(m[comp,i])\n",
    "    return listInv\n",
    "\n",
    "opposeList = listInv(Ma52, \"add\")\n",
    "inverseList = listInv(Mp52, \"mul\")\n",
    "show(opposeList)\n",
    "show(inverseList)\n",
    "show(type(opposeList[0]))"
   ]
  },
  {
   "cell_type": "code",
   "execution_count": 17,
   "metadata": {},
   "outputs": [
    {
     "data": {
      "text/html": [
       "<html><script type=\"math/tex; mode=display\">\\newcommand{\\Bold}[1]{\\mathbf{#1}}\\ZZ/5\\ZZ</script></html>"
      ],
      "text/plain": [
       "Ring of integers modulo 5"
      ]
     },
     "execution_count": 17,
     "metadata": {},
     "output_type": "execute_result"
    }
   ],
   "source": [
    "Mp52.base_ring()"
   ]
  },
  {
   "cell_type": "markdown",
   "metadata": {
    "deletable": false,
    "editable": false,
    "run_control": {
     "frozen": true
    }
   },
   "source": [
    "### Question\n",
    "Définissez les fonctions `inv_add` et `inv_mul` qui prennent en entrée un entier $N$ et un entier $x\\in \\{0,\\dots,N-1\\}$ et qui renvoient l'inverse de $x$ pour l'addition *modulo* $N$ ,et l'inverse de $x$ pour la multiplication *modulo* $N$. *Vos fonction devront construire les tables d'addition et de multiplication modulo $N$ et les utiliser pour le calcul. Si $x$ n'est pas inversible, la fonction renvoie `None`. Encore une fois, attention à bien renvoyer un élément de `Integers(N)` et pas un entier !*\n",
    "\n",
    "Vous testerez vos fonctions pour  les valeurs de $N=17,12$ et les valeurs de $x=3,0,4$."
   ]
  },
  {
   "cell_type": "code",
   "execution_count": 18,
   "metadata": {},
   "outputs": [
    {
     "data": {
      "text/html": [
       "<html><script type=\"math/tex; mode=display\">\\newcommand{\\Bold}[1]{\\mathbf{#1}}1</script></html>"
      ],
      "text/plain": [
       "1"
      ]
     },
     "metadata": {},
     "output_type": "display_data"
    },
    {
     "data": {
      "text/html": [
       "<html><script type=\"math/tex; mode=display\">\\newcommand{\\Bold}[1]{\\mathbf{#1}}4</script></html>"
      ],
      "text/plain": [
       "4"
      ]
     },
     "metadata": {},
     "output_type": "display_data"
    }
   ],
   "source": [
    "def inv_add(N, x):\n",
    "    m = genMatrixAdd(N)\n",
    "    listI = listInv(m, \"add\")\n",
    "    if not(x in listI):\n",
    "        return None\n",
    "    for j in range(m.nrows()):\n",
    "        if m[x,j] == 0:\n",
    "            return m[j,0]\n",
    "        \n",
    "def inv_mul(N, x):\n",
    "    m = genMatrixMul(N)\n",
    "    listI = listInv(m, \"mul\")\n",
    "    if not(x in listI):\n",
    "        return None\n",
    "    for j in range(m.nrows()):\n",
    "        if m[x,j] == 1:\n",
    "            return m[j,1]\n",
    "        \n",
    "show(inv_add(5,4))\n",
    "show(inv_mul(5,4))"
   ]
  },
  {
   "cell_type": "markdown",
   "metadata": {
    "deletable": false,
    "editable": false,
    "run_control": {
     "frozen": true
    }
   },
   "source": [
    "### Question\n",
    "Proposer une fonction d'inversion générique `inv_gen` qui prend en paramètre une matrice `M` représentant une opération modulo $N$, un élément neutre `e` et un elément `x` qu'on souhaite inverser. Comme précédemment si $x$ n'est pas inversible la fonction renverra `none`. Attention, votre matrice $M$ doit être définie sur `Integers(N)` de telle sorte que `M.base_ring()` retourne `Integers(N)`.\n",
    "\n",
    "- Vous verifierez que votre fonction générique est équivalente aux fonctions `inv_add` et `inv_mul` pour tous les entiers modulo 5"
   ]
  },
  {
   "cell_type": "code",
   "execution_count": 19,
   "metadata": {
    "scrolled": true
   },
   "outputs": [
    {
     "data": {
      "text/html": [
       "<html><script type=\"math/tex; mode=display\">\\newcommand{\\Bold}[1]{\\mathbf{#1}}2</script></html>"
      ],
      "text/plain": [
       "2"
      ]
     },
     "metadata": {},
     "output_type": "display_data"
    },
    {
     "data": {
      "text/html": [
       "<html><script type=\"math/tex; mode=display\">\\newcommand{\\Bold}[1]{\\mathbf{#1}}1</script></html>"
      ],
      "text/plain": [
       "1"
      ]
     },
     "metadata": {},
     "output_type": "display_data"
    }
   ],
   "source": [
    "def inv_gen(M,e,x):\n",
    "    cptCol = 0\n",
    "    cptLine = 0\n",
    "    save = -1\n",
    "    for i in range(M.nrows()):\n",
    "        if M[i,x] == e:\n",
    "            cptCol += 1\n",
    "            save = i\n",
    "        if M[x,i] == e:\n",
    "            cptLine += 1\n",
    "    if cptCol == 1 and cptLine == 1:\n",
    "        return M[e,save]\n",
    "    else:\n",
    "        return None\n",
    "\n",
    "show(inv_gen(Ma52,0,3))\n",
    "show(inv_gen(Mp52,1,1))"
   ]
  },
  {
   "cell_type": "markdown",
   "metadata": {
    "deletable": false,
    "editable": false,
    "run_control": {
     "frozen": true
    }
   },
   "source": [
    "### Question\n",
    "- Écrire deux fonctions `liste_inv_add(N)` et `liste_inv_mul(N)` qui calculent la liste des éléments inversibles pour l'addition et la multiplication *modulo* $N$ (vous utiliserez la fonction `inv_gen` de la question précédente, ainsi que les fonction `genMatrixAdd` et `genMatrixMul`).\n",
    "- Regarder ce qu'il se passe pour $N=5,10,13,16$."
   ]
  },
  {
   "cell_type": "code",
   "execution_count": 20,
   "metadata": {},
   "outputs": [
    {
     "data": {
      "text/html": [
       "<html><script type=\"math/tex; mode=display\">\\newcommand{\\Bold}[1]{\\mathbf{#1}}\\left[0, 4, 3, 2, 1\\right]</script></html>"
      ],
      "text/plain": [
       "[0, 4, 3, 2, 1]"
      ]
     },
     "metadata": {},
     "output_type": "display_data"
    },
    {
     "data": {
      "text/html": [
       "<html><script type=\"math/tex; mode=display\">\\newcommand{\\Bold}[1]{\\mathbf{#1}}\\left[1, 3, 2, 4\\right]</script></html>"
      ],
      "text/plain": [
       "[1, 3, 2, 4]"
      ]
     },
     "metadata": {},
     "output_type": "display_data"
    }
   ],
   "source": [
    "def liste_inv_add(N):\n",
    "    m = genMatrixAdd(N)\n",
    "    reList = []\n",
    "    for i in range(N):\n",
    "        res = inv_gen(m, 0, i)\n",
    "        if res != None and not(res in reList):\n",
    "            reList.append(res)\n",
    "    return reList\n",
    "\n",
    "def liste_inv_mul(N):\n",
    "    m = genMatrixMul(N)\n",
    "    reList = []\n",
    "    for i in range(N):\n",
    "        res = inv_gen(m, 1, i)\n",
    "        if res != None and not(res in reList):\n",
    "            reList.append(res)\n",
    "    return reList\n",
    "\n",
    "show(liste_inv_add(5))\n",
    "show(liste_inv_mul(5))"
   ]
  },
  {
   "cell_type": "code",
   "execution_count": 21,
   "metadata": {},
   "outputs": [
    {
     "data": {
      "text/html": [
       "<html><script type=\"math/tex; mode=display\">\\newcommand{\\Bold}[1]{\\mathbf{#1}}\\left[0, 9, 8, 7, 6, 5, 4, 3, 2, 1\\right]</script></html>"
      ],
      "text/plain": [
       "[0, 9, 8, 7, 6, 5, 4, 3, 2, 1]"
      ]
     },
     "metadata": {},
     "output_type": "display_data"
    },
    {
     "data": {
      "text/html": [
       "<html><script type=\"math/tex; mode=display\">\\newcommand{\\Bold}[1]{\\mathbf{#1}}\\left[1, 7, 3, 9\\right]</script></html>"
      ],
      "text/plain": [
       "[1, 7, 3, 9]"
      ]
     },
     "metadata": {},
     "output_type": "display_data"
    }
   ],
   "source": [
    "show(liste_inv_add(10))\n",
    "show(liste_inv_mul(10))"
   ]
  },
  {
   "cell_type": "code",
   "execution_count": 22,
   "metadata": {},
   "outputs": [
    {
     "data": {
      "text/html": [
       "<html><script type=\"math/tex; mode=display\">\\newcommand{\\Bold}[1]{\\mathbf{#1}}\\left[0, 12, 11, 10, 9, 8, 7, 6, 5, 4, 3, 2, 1\\right]</script></html>"
      ],
      "text/plain": [
       "[0, 12, 11, 10, 9, 8, 7, 6, 5, 4, 3, 2, 1]"
      ]
     },
     "metadata": {},
     "output_type": "display_data"
    },
    {
     "data": {
      "text/html": [
       "<html><script type=\"math/tex; mode=display\">\\newcommand{\\Bold}[1]{\\mathbf{#1}}\\left[1, 7, 9, 10, 8, 11, 2, 5, 3, 4, 6, 12\\right]</script></html>"
      ],
      "text/plain": [
       "[1, 7, 9, 10, 8, 11, 2, 5, 3, 4, 6, 12]"
      ]
     },
     "metadata": {},
     "output_type": "display_data"
    },
    {
     "data": {
      "text/html": [
       "<html><script type=\"math/tex; mode=display\">\\newcommand{\\Bold}[1]{\\mathbf{#1}}\\left[0, 15, 14, 13, 12, 11, 10, 9, 8, 7, 6, 5, 4, 3, 2, 1\\right]</script></html>"
      ],
      "text/plain": [
       "[0, 15, 14, 13, 12, 11, 10, 9, 8, 7, 6, 5, 4, 3, 2, 1]"
      ]
     },
     "metadata": {},
     "output_type": "display_data"
    },
    {
     "data": {
      "text/html": [
       "<html><script type=\"math/tex; mode=display\">\\newcommand{\\Bold}[1]{\\mathbf{#1}}\\left[1, 11, 13, 7, 9, 3, 5, 15\\right]</script></html>"
      ],
      "text/plain": [
       "[1, 11, 13, 7, 9, 3, 5, 15]"
      ]
     },
     "metadata": {},
     "output_type": "display_data"
    }
   ],
   "source": [
    "show(liste_inv_add(13))\n",
    "show(liste_inv_mul(13))\n",
    "show(liste_inv_add(16))\n",
    "show(liste_inv_mul(16))"
   ]
  },
  {
   "cell_type": "markdown",
   "metadata": {
    "deletable": false,
    "editable": false,
    "run_control": {
     "frozen": true
    }
   },
   "source": [
    "On remarque que pour toute valeur de $N$, tous les éléments sont inversibles pour l'addition, mais que ce n'est pas le cas pour la division. D'une part $0$ n'est jamais inversible, mais dans certains cas d'autres éléments ne le sont pas non plus.\n",
    "\n"
   ]
  },
  {
   "cell_type": "markdown",
   "metadata": {
    "deletable": false,
    "editable": false,
    "run_control": {
     "frozen": true
    }
   },
   "source": [
    "\n",
    "### Question \n",
    "Lister tous les entiers $N$ entre $2$ et $30$ pour lesquels tous les éléments sauf $0$ sont inversibles pour la multiplication *modulo* $N$. Que remarquez-vous ?"
   ]
  },
  {
   "cell_type": "code",
   "execution_count": 23,
   "metadata": {},
   "outputs": [
    {
     "data": {
      "text/html": [
       "<html><script type=\"math/tex; mode=display\">\\newcommand{\\Bold}[1]{\\mathbf{#1}}\\left[2, 3, 5, 7, 11, 13, 17, 19, 23, 29\\right]</script></html>"
      ],
      "text/plain": [
       "[2, 3, 5, 7, 11, 13, 17, 19, 23, 29]"
      ]
     },
     "execution_count": 23,
     "metadata": {},
     "output_type": "execute_result"
    }
   ],
   "source": [
    "def listAllInv():\n",
    "    listAll = []\n",
    "    for N in range(2,31):\n",
    "        tempList = liste_inv_mul(N)\n",
    "        allIn = True\n",
    "        for i in range(1,N):\n",
    "            if not(i in tempList):\n",
    "                allIn = False\n",
    "                break\n",
    "        if allIn:\n",
    "            listAll.append(N)\n",
    "    return listAll\n",
    "\n",
    "listAllInv()"
   ]
  },
  {
   "cell_type": "markdown",
   "metadata": {
    "deletable": false,
    "editable": false,
    "run_control": {
     "frozen": true
    }
   },
   "source": [
    "## Soustraction, division\n",
    "\n",
    "À partir des notions d'inverse pour l'addition et la multiplication, on peut définir les opérations de soustraction et de division :\n",
    "- la soustraction est la composition de l'addition et de son inverse: $x-y = x + \\mathsf{inv}_+(y)$ ;\n",
    "- la division est la composition de la multiplication et de son inverse: $x/y = x \\times \\mathsf{inv}_\\times(y)$.\n",
    "\n",
    "Un autre point de vue est de se dire que l'inverse pour l'addition est défini par la soustraction $0-y$, alors que l'inverse pour la multiplication est défini par la division $1/y$. Autrement dit, il est équivalent de considérer les opérations $\\{+,\\times,\\mathsf{inv}_+,\\mathsf{inv_\\times}\\}$ ou les opérations $\\{+,\\times,-,/\\}$.\n",
    "\n",
    "On a vu précédemment que tous les éléments non nuls sont inversibles pour la multiplication *modulo* $N$ si et seulement si $N$ est premier. \n",
    "\n",
    "### Question\n",
    "Calculer les tables de soustraction et de division modulo $5$ à partir des tables d'addition, de multiplication et de la fonction `inv_gen`. *En case $(i,j)$, la table contient le résultat de l'opération $i\\star j$ pour $\\star\\in\\{-,/\\}$. Pour la division, on pourra mettre un $0$ lorsque la division n'est pas définie (division par zéro).*"
   ]
  },
  {
   "cell_type": "code",
   "execution_count": 24,
   "metadata": {},
   "outputs": [
    {
     "data": {
      "text/html": [
       "<html><script type=\"math/tex; mode=display\">\\newcommand{\\Bold}[1]{\\mathbf{#1}}\\left(\\begin{array}{rrrrr}\n",
       "0 & 4 & 3 & 2 & 1 \\\\\n",
       "1 & 0 & 4 & 3 & 2 \\\\\n",
       "2 & 1 & 0 & 4 & 3 \\\\\n",
       "3 & 2 & 1 & 0 & 4 \\\\\n",
       "4 & 3 & 2 & 1 & 0\n",
       "\\end{array}\\right)</script></html>"
      ],
      "text/plain": [
       "[0 4 3 2 1]\n",
       "[1 0 4 3 2]\n",
       "[2 1 0 4 3]\n",
       "[3 2 1 0 4]\n",
       "[4 3 2 1 0]"
      ]
     },
     "metadata": {},
     "output_type": "display_data"
    },
    {
     "data": {
      "text/html": [
       "<html><script type=\"math/tex; mode=display\">\\newcommand{\\Bold}[1]{\\mathbf{#1}}\\left(\\begin{array}{rrrrr}\n",
       "0 & 0 & 0 & 0 & 0 \\\\\n",
       "0 & 1 & 3 & 2 & 4 \\\\\n",
       "0 & 2 & 1 & 4 & 3 \\\\\n",
       "0 & 3 & 4 & 1 & 2 \\\\\n",
       "0 & 4 & 2 & 3 & 1\n",
       "\\end{array}\\right)</script></html>"
      ],
      "text/plain": [
       "[0 0 0 0 0]\n",
       "[0 1 3 2 4]\n",
       "[0 2 1 4 3]\n",
       "[0 3 4 1 2]\n",
       "[0 4 2 3 1]"
      ]
     },
     "metadata": {},
     "output_type": "display_data"
    }
   ],
   "source": [
    "I5 = Integers(5)\n",
    "MaSous5 = Matrix(I5,5,5)\n",
    "MaDiv5 = Matrix(I5,5,5)\n",
    "for i in range(5):\n",
    "    for j in range(5):\n",
    "        MaSous5[i,j] = I5(i+inv_gen(Ma52,0,j))\n",
    "        invMul = inv_gen(Mp52,1,j)\n",
    "        if invMul == None:\n",
    "            MaDiv5[i,j] = I5(0)\n",
    "        else:\n",
    "            MaDiv5[i,j] = I5(i*inv_gen(Mp52,1,j))\n",
    "show(MaSous5)\n",
    "show(MaDiv5)"
   ]
  },
  {
   "cell_type": "markdown",
   "metadata": {
    "deletable": false,
    "editable": false,
    "run_control": {
     "frozen": true
    }
   },
   "source": [
    "### Question\n",
    "\n",
    "Définir les fonctions `genMatrixSub` et `genMatrixDiv` qui pour un entier $N$ génèrent les matrices correspondant aux tables de soustraction et de division *modulo* $N$. *Vérifier en comparant avec les matrices `Ms5` et `Md5` définies précédemment.*"
   ]
  },
  {
   "cell_type": "code",
   "execution_count": 25,
   "metadata": {},
   "outputs": [
    {
     "data": {
      "text/html": [
       "<html><script type=\"math/tex; mode=display\">\\newcommand{\\Bold}[1]{\\mathbf{#1}}\\left(\\begin{array}{rrrrr}\n",
       "0 & 4 & 3 & 2 & 1 \\\\\n",
       "1 & 0 & 4 & 3 & 2 \\\\\n",
       "2 & 1 & 0 & 4 & 3 \\\\\n",
       "3 & 2 & 1 & 0 & 4 \\\\\n",
       "4 & 3 & 2 & 1 & 0\n",
       "\\end{array}\\right)</script></html>"
      ],
      "text/plain": [
       "[0 4 3 2 1]\n",
       "[1 0 4 3 2]\n",
       "[2 1 0 4 3]\n",
       "[3 2 1 0 4]\n",
       "[4 3 2 1 0]"
      ]
     },
     "metadata": {},
     "output_type": "display_data"
    },
    {
     "data": {
      "text/html": [
       "<html><script type=\"math/tex; mode=display\">\\newcommand{\\Bold}[1]{\\mathbf{#1}}\\left(\\begin{array}{rrrrr}\n",
       "0 & 4 & 3 & 2 & 1 \\\\\n",
       "1 & 0 & 4 & 3 & 2 \\\\\n",
       "2 & 1 & 0 & 4 & 3 \\\\\n",
       "3 & 2 & 1 & 0 & 4 \\\\\n",
       "4 & 3 & 2 & 1 & 0\n",
       "\\end{array}\\right)</script></html>"
      ],
      "text/plain": [
       "[0 4 3 2 1]\n",
       "[1 0 4 3 2]\n",
       "[2 1 0 4 3]\n",
       "[3 2 1 0 4]\n",
       "[4 3 2 1 0]"
      ]
     },
     "metadata": {},
     "output_type": "display_data"
    },
    {
     "data": {
      "text/html": [
       "<html><script type=\"math/tex; mode=display\">\\newcommand{\\Bold}[1]{\\mathbf{#1}}\\left(\\begin{array}{rrrrr}\n",
       "0 & 0 & 0 & 0 & 0 \\\\\n",
       "0 & 1 & 3 & 2 & 4 \\\\\n",
       "0 & 2 & 1 & 4 & 3 \\\\\n",
       "0 & 3 & 4 & 1 & 2 \\\\\n",
       "0 & 4 & 2 & 3 & 1\n",
       "\\end{array}\\right)</script></html>"
      ],
      "text/plain": [
       "[0 0 0 0 0]\n",
       "[0 1 3 2 4]\n",
       "[0 2 1 4 3]\n",
       "[0 3 4 1 2]\n",
       "[0 4 2 3 1]"
      ]
     },
     "metadata": {},
     "output_type": "display_data"
    },
    {
     "data": {
      "text/html": [
       "<html><script type=\"math/tex; mode=display\">\\newcommand{\\Bold}[1]{\\mathbf{#1}}\\left(\\begin{array}{rrrrr}\n",
       "0 & 0 & 0 & 0 & 0 \\\\\n",
       "0 & 1 & 3 & 2 & 4 \\\\\n",
       "0 & 2 & 1 & 4 & 3 \\\\\n",
       "0 & 3 & 4 & 1 & 2 \\\\\n",
       "0 & 4 & 2 & 3 & 1\n",
       "\\end{array}\\right)</script></html>"
      ],
      "text/plain": [
       "[0 0 0 0 0]\n",
       "[0 1 3 2 4]\n",
       "[0 2 1 4 3]\n",
       "[0 3 4 1 2]\n",
       "[0 4 2 3 1]"
      ]
     },
     "metadata": {},
     "output_type": "display_data"
    }
   ],
   "source": [
    "def genMatrixSub(N):\n",
    "    IN = Integers(N)\n",
    "    m = Matrix(IN, N, N)\n",
    "    mAdd = genMatrixAdd(N)\n",
    "    for i in range(N):\n",
    "        for j in range(N):\n",
    "            m[i,j] = IN(i+inv_gen(mAdd,0,j))\n",
    "    return m\n",
    "\n",
    "def genMatrixDiv(N):\n",
    "    IN = Integers(N)\n",
    "    m = Matrix(IN, N, N)\n",
    "    mMul = genMatrixMul(N)\n",
    "    for i in range(N):\n",
    "        for j in range(N):\n",
    "            invMul = inv_gen(mMul,1,j)\n",
    "            if invMul == None:\n",
    "                m[i,j] = IN(0)\n",
    "            else:\n",
    "                m[i,j] = IN(i*invMul)\n",
    "    return m\n",
    "\n",
    "ms5 = genMatrixSub(5)\n",
    "md5 = genMatrixDiv(5)\n",
    "show(ms5)\n",
    "show(MaSous5)\n",
    "show(md5)\n",
    "show(MaDiv5)"
   ]
  },
  {
   "cell_type": "markdown",
   "metadata": {
    "deletable": false,
    "editable": false,
    "run_control": {
     "frozen": true
    }
   },
   "source": [
    "On a vu que tous les éléments sont inversibles pour l'addition *modulo* $N$. D'autre part, si $N$ est premier, tous les éléments non nuls sont inversibles pour la multiplication. Cela signifie que les quatre opérations $\\{+,\\times,-,/\\}$ sont bien définies : $x\\star y\\in\\{0,\\dotsc,N-1\\}$ pour tout $x,y\\in\\{0,\\dotsc,N-1\\}$ et $\\star\\in\\{+,\\times,-,/\\}$ (avec la condition $y\\neq 0$ si $\\star=/$). On peut donc calculer *modulo* un nombre premier comme on calcule avec les nombres rationnels. On dit que les entiers *modulo* un nombre premier forment un *corps*. \n",
    "\n",
    "Dans la suite, on va s'intéresser à ce qui se passe pour $N$ non premier. Dans ce cas, on a déjà vu que certains éléments ne sont pas inversibles pour la multiplication."
   ]
  },
  {
   "cell_type": "markdown",
   "metadata": {
    "deletable": false,
    "editable": false,
    "run_control": {
     "frozen": true
    }
   },
   "source": [
    "## Groupe multiplicatif\n",
    "\n",
    "<!--On a vu que tous les éléments sont inversibles pour l'addition *modulo* $N$. D'autre part, si $N$ est premier, tous les éléments non nuls sont inversible pour la multiplication pour alors les quatre opérations $\\{+,\\times,-,/\\}$ sont bien définies : $x\\star y\\in\\{0,\\dotsc,N-1\\}$ pour tout $x,y\\in\\{0,\\dotsc,N-1\\}$ et $\\star\\in\\{+,\\times,-,/\\}$ (avec la condition $y\\neq 0$ si $\\star=/$). Si $N$ n'est pas premier, on a vu que certains éléments non nuls ne sont pas inversibles pour la multiplication, et on ne peut donc pas définir de division sur l'ensemble des entiers *modulo* $N$.\n",
    "\n",
    "\n",
    "\n",
    "La liste de nombres précédente ne comporte que des nombres premiers. C'est une propriété mathématique importante : si\n",
    "-->\n",
    "\n",
    "Quand $N$ est premier, les entiers $\\{1,2,\\dots,N-1\\}$ forment un *groupe* pour la multiplication modulo $N$, c'est-à-dire que ce sous-ensemble $E$ vérifie les deux conditions suivantes :\n",
    "- pour tout $x,y\\in E$, $x\\times y\\in E$ (*opération interne*) ;\n",
    "- pour tout $x\\in E$, il existe un unique inverse de $x$ dans $E$ pour la multiplication (*inversibilité*).\n",
    " \n",
    "Quand $N$ n'est pas premier, certains éléments ne sont pas inversibles pour la multiplication et $\\{1,\\dotsc,N-1\\}$ n'est pas un groupe. \n",
    "\n",
    "On va voir qu'il existe toujours, même pour $N$ non premier, un *groupe* pour la multiplication *modulo* $N$, c'est-à-dire un sous-ensemble $E$ qui vérifie les deux conditions précédentes. \n",
    "\n",
    "**Remarque.** On cherche un groupe le plus grand possible. En effet, le sous-ensemble $\\{1\\}$ forme toujours un groupe pour la multiplication *modulo* $N$, car $1\\times 1 = 1$ et $1$ est son propre inverse.\n"
   ]
  },
  {
   "cell_type": "markdown",
   "metadata": {
    "deletable": false,
    "editable": false,
    "run_control": {
     "frozen": true
    }
   },
   "source": [
    "### Question\n",
    "Écrire une fonction `estInterne(M,E)` qui prend en entrée une table d'opération `M` (une matrice), un sous-ensemble $E$, et teste si l'opération représentée par la matrice `M` est interne au sous-ensemble $E$. *On peut définir la sous-table d'opération restreinte à E avec M[E,E].* \n",
    "\n",
    "- Vous testerez votre fonction avec la table de multiplication modulo 5 et l'ensemble d'entiers E={1,2,3,4}.\n",
    "- Vous verifierez votre fonction avec les tables de multiplication modulo $N$ pour $2 \\leq N\\leq 31$. Pour le sous-ensemble E, vous utiliserez la fonction `liste_inv_mul(N)`.\n",
    "- Montrez que si on remplace la table de multiplication par la table d'addition et que l'on prend le même sous-ensemble, l'opération `estIterne` renvoie toujours faux."
   ]
  },
  {
   "cell_type": "code",
   "execution_count": 57,
   "metadata": {},
   "outputs": [
    {
     "data": {
      "text/html": [
       "<html><script type=\"math/tex; mode=display\">\\newcommand{\\Bold}[1]{\\mathbf{#1}}\\mathrm{True}</script></html>"
      ],
      "text/plain": [
       "True"
      ]
     },
     "execution_count": 57,
     "metadata": {},
     "output_type": "execute_result"
    }
   ],
   "source": [
    "def estInterne(M,E):\n",
    "    for e1 in E:\n",
    "        for e2 in E:\n",
    "            if not(M[e1,e2] in E):\n",
    "                return False\n",
    "    return True\n",
    "estInterne(Mp5, [1,2,3,4])"
   ]
  },
  {
   "cell_type": "code",
   "execution_count": 58,
   "metadata": {},
   "outputs": [],
   "source": [
    "for N in range(2,32):\n",
    "    if not(estInterne(genMatrixMul(N),liste_inv_mul(N))):\n",
    "        show(N)"
   ]
  },
  {
   "cell_type": "code",
   "execution_count": 59,
   "metadata": {},
   "outputs": [],
   "source": [
    "for N in range(2,32):\n",
    "    if estInterne(genMatrixAdd(N),liste_inv_mul(N)):\n",
    "        print(N)"
   ]
  },
  {
   "cell_type": "code",
   "execution_count": null,
   "metadata": {},
   "outputs": [],
   "source": []
  },
  {
   "cell_type": "code",
   "execution_count": null,
   "metadata": {},
   "outputs": [],
   "source": []
  },
  {
   "cell_type": "markdown",
   "metadata": {
    "deletable": false,
    "editable": false,
    "run_control": {
     "frozen": true
    }
   },
   "source": [
    "### Question\n",
    "- Écrire une fonction `estGroupe(Mp, E)` qui prend en entrée une table de *multiplication* `Mp` et vérifie si le sous-ensemble $E$ forme un groupe pour la multiplication, en vérifiant les deux propriétés énoncées au-dessus.\n",
    "- Pour $N=15$, vérifier que le sous-ensemble $E=\\{1,2,4,7,8,11,13,14\\}$ forme un groupe pour la multiplication modulo $15$. Afficher les tables de multiplications et de division dans ce groupe."
   ]
  },
  {
   "cell_type": "code",
   "execution_count": 67,
   "metadata": {},
   "outputs": [],
   "source": [
    "def estGroupe(Mp, E):\n",
    "    if not(estInterne(Mp, E)):\n",
    "        return False\n",
    "    for e1 in E:\n",
    "        cptInv = 0\n",
    "        for e2 in E:\n",
    "            if e1*e2 == 1:\n",
    "                cptInv += 1\n",
    "        if cptInv != 1:\n",
    "            return False\n",
    "    return True"
   ]
  },
  {
   "cell_type": "code",
   "execution_count": 70,
   "metadata": {},
   "outputs": [
    {
     "data": {
      "text/html": [
       "<html><script type=\"math/tex; mode=display\">\\newcommand{\\Bold}[1]{\\mathbf{#1}}\\mathrm{True}</script></html>"
      ],
      "text/plain": [
       "True"
      ]
     },
     "metadata": {},
     "output_type": "display_data"
    },
    {
     "data": {
      "text/html": [
       "<html><script type=\"math/tex; mode=display\">\\newcommand{\\Bold}[1]{\\mathbf{#1}}\\left(\\begin{array}{rrrrrrrr}\n",
       "1 & 8 & 4 & 13 & 2 & 11 & 7 & 14 \\\\\n",
       "8 & 4 & 2 & 14 & 1 & 13 & 11 & 7 \\\\\n",
       "4 & 2 & 1 & 7 & 8 & 14 & 13 & 11 \\\\\n",
       "13 & 14 & 7 & 4 & 11 & 8 & 1 & 2 \\\\\n",
       "2 & 1 & 8 & 11 & 4 & 7 & 14 & 13 \\\\\n",
       "11 & 13 & 14 & 8 & 7 & 1 & 2 & 4 \\\\\n",
       "7 & 11 & 13 & 1 & 14 & 2 & 4 & 8 \\\\\n",
       "14 & 7 & 11 & 2 & 13 & 4 & 8 & 1\n",
       "\\end{array}\\right)</script></html>"
      ],
      "text/plain": [
       "[ 1  8  4 13  2 11  7 14]\n",
       "[ 8  4  2 14  1 13 11  7]\n",
       "[ 4  2  1  7  8 14 13 11]\n",
       "[13 14  7  4 11  8  1  2]\n",
       "[ 2  1  8 11  4  7 14 13]\n",
       "[11 13 14  8  7  1  2  4]\n",
       "[ 7 11 13  1 14  2  4  8]\n",
       "[14  7 11  2 13  4  8  1]"
      ]
     },
     "metadata": {},
     "output_type": "display_data"
    },
    {
     "data": {
      "text/html": [
       "<html><script type=\"math/tex; mode=display\">\\newcommand{\\Bold}[1]{\\mathbf{#1}}\\left(\\begin{array}{rrrrrrrr}\n",
       "1 & 2 & 4 & 7 & 8 & 11 & 13 & 14 \\\\\n",
       "8 & 1 & 2 & 11 & 4 & 13 & 14 & 7 \\\\\n",
       "4 & 8 & 1 & 13 & 2 & 14 & 7 & 11 \\\\\n",
       "13 & 11 & 7 & 1 & 14 & 8 & 4 & 2 \\\\\n",
       "2 & 4 & 8 & 14 & 1 & 7 & 11 & 13 \\\\\n",
       "11 & 7 & 14 & 2 & 13 & 1 & 8 & 4 \\\\\n",
       "7 & 14 & 13 & 4 & 11 & 2 & 1 & 8 \\\\\n",
       "14 & 13 & 11 & 8 & 7 & 4 & 2 & 1\n",
       "\\end{array}\\right)</script></html>"
      ],
      "text/plain": [
       "[ 1  2  4  7  8 11 13 14]\n",
       "[ 8  1  2 11  4 13 14  7]\n",
       "[ 4  8  1 13  2 14  7 11]\n",
       "[13 11  7  1 14  8  4  2]\n",
       "[ 2  4  8 14  1  7 11 13]\n",
       "[11  7 14  2 13  1  8  4]\n",
       "[ 7 14 13  4 11  2  1  8]\n",
       "[14 13 11  8  7  4  2  1]"
      ]
     },
     "metadata": {},
     "output_type": "display_data"
    }
   ],
   "source": [
    "MaMul15 = genMatrixMul(15)\n",
    "MaDiv15 = genMatrixDiv(15)\n",
    "E15 = liste_inv_mul(15)\n",
    "show(estGroupe(MaMul15, E15))\n",
    "show(MaMul15[E15,E15])\n",
    "show(MaDiv15[E15,E15])"
   ]
  },
  {
   "cell_type": "code",
   "execution_count": null,
   "metadata": {},
   "outputs": [],
   "source": []
  },
  {
   "cell_type": "markdown",
   "metadata": {
    "deletable": false,
    "editable": false,
    "run_control": {
     "frozen": true
    }
   },
   "source": [
    "### Question\n",
    "- Quelle propriété remarquez-vous sur l'ensemble $\\{1,2,4,7,8,11,13,14\\}$ par rapport à l'entier 15 ? *Indication : quels sont les entiers manquants ?*\n",
    "- Appliquer votre propriété pour trouver un sous-ensemble de $\\{1,2,3,4,5,6,7,8,9\\}$ qui forme un groupe pour la multiplication modulo 10. *Trouver la solution théoriquement, puis vérifier.*"
   ]
  },
  {
   "cell_type": "code",
   "execution_count": 79,
   "metadata": {},
   "outputs": [
    {
     "data": {
      "text/html": [
       "<html><script type=\"math/tex; mode=display\">\\newcommand{\\Bold}[1]{\\mathbf{#1}}\\verb|<class|\\phantom{\\verb!x!}\\verb|'sage.rings.finite_rings.integer_mod.IntegerMod_int'>|</script></html>"
      ],
      "text/plain": [
       "<class 'sage.rings.finite_rings.integer_mod.IntegerMod_int'>"
      ]
     },
     "metadata": {},
     "output_type": "display_data"
    },
    {
     "data": {
      "text/html": [
       "<html><script type=\"math/tex; mode=display\">\\newcommand{\\Bold}[1]{\\mathbf{#1}}\\mathrm{True}</script></html>"
      ],
      "text/plain": [
       "True"
      ]
     },
     "execution_count": 79,
     "metadata": {},
     "output_type": "execute_result"
    }
   ],
   "source": [
    "#il manque les nombres divisibles par les diviseurs 15 (hormis 1)\n",
    "#diviseurs de 10: 2 et 5, divisibles par les diviseurs hormis 1, plus petits que 10: 2, 4, 5, 6, 8\n",
    "# sous-ensemble restant: {1,3,7,9}\n",
    "show(type(liste_inv_mul(10)[0]))\n",
    "estGroupe(genMatrixMul(10), liste_inv_mul(10))"
   ]
  },
  {
   "cell_type": "markdown",
   "metadata": {
    "deletable": false,
    "editable": false,
    "run_control": {
     "frozen": true
    }
   },
   "source": [
    "### Question\n",
    "Soit $p=3$ et $q=5$, donner le code qui permet de calculer l'ensemble des entiers compris entre $1$ et $p\\times q-1$ qui ne sont ni divisibles par $p$ ni par $q$."
   ]
  },
  {
   "cell_type": "code",
   "execution_count": 80,
   "metadata": {
    "cell_style": "center"
   },
   "outputs": [
    {
     "data": {
      "text/html": [
       "<html><script type=\"math/tex; mode=display\">\\newcommand{\\Bold}[1]{\\mathbf{#1}}\\left[1, 2, 4, 7, 8, 11, 13, 14\\right]</script></html>"
      ],
      "text/plain": [
       "[1, 2, 4, 7, 8, 11, 13, 14]"
      ]
     },
     "metadata": {},
     "output_type": "display_data"
    }
   ],
   "source": [
    "listEnt = []\n",
    "p = 3\n",
    "q = 5\n",
    "for i in range(1,p*q):\n",
    "    if not(i%p == 0 or i%q == 0):\n",
    "        listEnt.append(i)\n",
    "show(listEnt)"
   ]
  },
  {
   "cell_type": "markdown",
   "metadata": {
    "deletable": false,
    "editable": false,
    "run_control": {
     "frozen": true
    }
   },
   "source": [
    "### Question\n",
    "Écrire une fonction `nondivPQ(p,q)` qui prend 2 nombres premiers $p$ et $q$ et qui retourne la liste des nombres compris entre 1 et $pq$ et qui ne sont divisibles ni par $p$ ni par $q$.\n",
    "\n",
    "Vous montrerez que `nondivPQ(p,q)` et `liste_inv_mul(p*q)` renvoient le même résultat pour $p$ et $q$ premiers. Pour cela vous vérifierez que c'est bien le cas pour tous les couples de nombres premiers $(p,q)$ parmi les 10 premiers nombres premiers (il existe une fonction sage pour générer la liste de ces nombres premiers)."
   ]
  },
  {
   "cell_type": "code",
   "execution_count": 85,
   "metadata": {},
   "outputs": [],
   "source": [
    "def nondivPQ(p, q):\n",
    "    listEnt = []\n",
    "    IN=Integers(p*q)\n",
    "    for i in range(1,p*q):\n",
    "        if not(i%p == 0 or i%q == 0):\n",
    "            listEnt.append(IN(i))\n",
    "    return listEnt"
   ]
  },
  {
   "cell_type": "code",
   "execution_count": 86,
   "metadata": {},
   "outputs": [],
   "source": [
    "P = Primes()\n",
    "listP = [P.unrank(i) for i in range(7)]\n",
    "\n",
    "for e1 in listP:\n",
    "    for e2 in listP:\n",
    "        l1 = nondivPQ(e1, e2)\n",
    "        l1.sort()\n",
    "        l2 = liste_inv_mul(e1*e2)\n",
    "        l2.sort()\n",
    "        if l1 != l2:\n",
    "            show(\"MARCHE PAS\")\n",
    "            show(e1)\n",
    "            show(e2)"
   ]
  },
  {
   "cell_type": "markdown",
   "metadata": {
    "deletable": false,
    "editable": false,
    "run_control": {
     "frozen": true
    }
   },
   "source": [
    "### Question\n",
    "Vérifier, à l'aide des fonctions `nondivPQ` et `estGroupe`, que pour tout couple $(p,q)$ de nombres premiers l'ensemble des éléments de `nondivPQ(p,q)` forme un groupe pour la multiplication modulo $N=p\\times q$.\n",
    "- vous testerez dans un premier temps votre fonction avec $p = 5$ et $q = 7$,\n",
    "- puis vous la testerez pour tout les couples de nombre premiers $(p,q)$ parmi les 10 premiers nombres premiers ."
   ]
  },
  {
   "cell_type": "code",
   "execution_count": 87,
   "metadata": {
    "scrolled": true
   },
   "outputs": [
    {
     "data": {
      "text/html": [
       "<html><script type=\"math/tex; mode=display\">\\newcommand{\\Bold}[1]{\\mathbf{#1}}\\mathrm{True}</script></html>"
      ],
      "text/plain": [
       "True"
      ]
     },
     "execution_count": 87,
     "metadata": {},
     "output_type": "execute_result"
    }
   ],
   "source": [
    "p = 5\n",
    "q = 7\n",
    "estGroupe(genMatrixMul(p*q), nondivPQ(p,q))"
   ]
  },
  {
   "cell_type": "code",
   "execution_count": 91,
   "metadata": {},
   "outputs": [
    {
     "data": {
      "text/html": [
       "<html><script type=\"math/tex; mode=display\">\\newcommand{\\Bold}[1]{\\mathbf{#1}}\\left[2, 3, 5, 7, 11, 13, 17\\right]</script></html>"
      ],
      "text/plain": [
       "[2, 3, 5, 7, 11, 13, 17]"
      ]
     },
     "metadata": {},
     "output_type": "display_data"
    }
   ],
   "source": [
    "P = Primes\n",
    "listP = [P().unrank(i) for i in range(7)]   ##ici on a clairement un souci d'opti au dessus de 7\n",
    "show(listP)\n",
    "for e1 in listP:\n",
    "    for e2 in listP:\n",
    "        if not(estGroupe(genMatrixMul(e1*e2), nondivPQ(e1,e2))):\n",
    "            show(\"MARCHE PAS\")\n",
    "            show(e1)\n",
    "            show(e2)"
   ]
  },
  {
   "cell_type": "markdown",
   "metadata": {
    "deletable": false,
    "editable": false,
    "run_control": {
     "frozen": true
    }
   },
   "source": [
    "### Question \n",
    "On va généraliser les questions précédentes à un entier $N$ quelconque, en vérifiant que le sous-ensemble $E$ des entiers qui ne sont multiples d'aucun facteur premier de $N$, forme un groupe pour la multiplication. \n",
    "\n",
    "- généraliser `nondivPQ` à un $N$ quelconque pour renvoyer l'ensemble des entiers qui ne sont multiples d'aucun facteur premier de $N$. *La fonction `N.factor()` calcule la factorisation de $N$ en facteurs premiers. Le retour de la fonction est une liste de couples représentant le facteur et son exposant dans la factorisation.*\n",
    "- proposer une fonction qui vérifie pour un entier $N$ que l'ensemble en question forme bien un groupe pour la multiplication.\n",
    "- tester pour tous les entiers  $N$ entre 1 et 100."
   ]
  },
  {
   "cell_type": "code",
   "execution_count": 93,
   "metadata": {},
   "outputs": [],
   "source": [
    "def nondivPQGen(N):\n",
    "    IN=Integers(N)\n",
    "    if N == 1:\n",
    "        listFact = [1]\n",
    "    else:\n",
    "        listFact = [i[0] for i in N.factor()]\n",
    "    listEnt = []\n",
    "    for i in range(1,N):\n",
    "        if i in listFact:\n",
    "            continue\n",
    "        mult = False\n",
    "        for j in listFact:\n",
    "            if i%j == 0:\n",
    "                mult = True\n",
    "                break\n",
    "        if not mult: \n",
    "            listEnt.append(IN(i))\n",
    "    return listEnt\n",
    "    \n",
    "def ensembleEstGroupe(N):\n",
    "    return estGroupe(genMatrixMul(N), nondivPQGen(N))\n",
    "\n",
    "for i in srange(1,101):\n",
    "    if not ensembleEstGroupe(i):\n",
    "        show(\"MARCHE PAS\")\n",
    "        show(i)"
   ]
  },
  {
   "cell_type": "code",
   "execution_count": null,
   "metadata": {},
   "outputs": [],
   "source": []
  },
  {
   "cell_type": "markdown",
   "metadata": {
    "deletable": false,
    "editable": false,
    "run_control": {
     "frozen": true
    }
   },
   "source": [
    "## Inversibilité et pgcd\n",
    "\n",
    "On vient de voir que pour tout entier $N$, il existe un sous-ensemble de $G\\subset E=\\{1,2,\\dots,N-1\\}$ qui définit un groupe pour la multiplication modulo $N$. On dira de $G$ qu'il est le sous-groupe multiplicatif des entiers modulo $N$.\n",
    "\n",
    "- Si $N$ est un nombre premier alors le sous-ensemble de $G$ est formé par tous les entiers compris entre 1 et N-1.\n",
    "- Si par contre $N=p\\times q$ avec $p$ et $q$ des nombres premiers alors le sous-ensemble $G$ est formé des entiers divisibles ni par $p$ ni par $q$, autrement dit ceux dont le pgcd avec $N$ est égal à $1$. Dans ce cas, le nombre d'entiers dans $G$ est $(p-1)\\times(q-1)$.\n",
    "\n",
    "De manière plus générale, pour tout $N$, le sous-ensemble $G$ est formé des entiers qui sont premiers avec $N$, càd tous les entiers $x\\in \\{1,\\dots,N-1\\}$ tels que $\\operatorname{pgcd}(x,N)=1$. L'indicatrice d'Euler, notée $\\varphi(N)$, donne exactement le nombre d'éléments de $G$. \n",
    "\n",
    "### Question\n",
    "Retrouver les éléments inversibles *modulo* $35$ en utilisant la propriété sur le pgcd, et vérifier que le nombre d'éléments trouvés vaut bien $\\varphi(35)$. *Le pgcd de $a$ et $b$ se calcule avec `gcd(a,b)`, et $\\varphi(N)$ avec `euler_phi(N)`.*"
   ]
  },
  {
   "cell_type": "code",
   "execution_count": 94,
   "metadata": {},
   "outputs": [
    {
     "data": {
      "text/html": [
       "<html><script type=\"math/tex; mode=display\">\\newcommand{\\Bold}[1]{\\mathbf{#1}}24</script></html>"
      ],
      "text/plain": [
       "24"
      ]
     },
     "metadata": {},
     "output_type": "display_data"
    },
    {
     "data": {
      "text/html": [
       "<html><script type=\"math/tex; mode=display\">\\newcommand{\\Bold}[1]{\\mathbf{#1}}\\left[1, 2, 3, 4, 6, 8, 9, 11, 12, 13, 16, 17, 18, 19, 22, 23, 24, 26, 27, 29, 31, 32, 33, 34\\right]</script></html>"
      ],
      "text/plain": [
       "[1,\n",
       " 2,\n",
       " 3,\n",
       " 4,\n",
       " 6,\n",
       " 8,\n",
       " 9,\n",
       " 11,\n",
       " 12,\n",
       " 13,\n",
       " 16,\n",
       " 17,\n",
       " 18,\n",
       " 19,\n",
       " 22,\n",
       " 23,\n",
       " 24,\n",
       " 26,\n",
       " 27,\n",
       " 29,\n",
       " 31,\n",
       " 32,\n",
       " 33,\n",
       " 34]"
      ]
     },
     "metadata": {},
     "output_type": "display_data"
    }
   ],
   "source": [
    "N1 = 35\n",
    "show(euler_phi(N1))\n",
    "premAvecN = [i for i in range(1,N1) if gcd(i,N1) == 1]\n",
    "show(premAvecN)"
   ]
  },
  {
   "cell_type": "markdown",
   "metadata": {
    "deletable": false,
    "editable": false,
    "run_control": {
     "frozen": true
    }
   },
   "source": [
    "### Question\n",
    "Pour différentes valeur de $N$, calculer $z^{\\varphi(N)} \\bmod N$ pour tous les éléments inversibles de $\\{1,\\dotsc,N\\}$. Que remarquez-vous ?  "
   ]
  },
  {
   "cell_type": "code",
   "execution_count": 95,
   "metadata": {},
   "outputs": [
    {
     "data": {
      "text/html": [
       "<html><script type=\"math/tex; mode=display\">\\newcommand{\\Bold}[1]{\\mathbf{#1}}\\left[1, 11, 16, 17, 8, 19, 2, 13, 4, 5, 10, 20\\right]</script></html>"
      ],
      "text/plain": [
       "[1, 11, 16, 17, 8, 19, 2, 13, 4, 5, 10, 20]"
      ]
     },
     "metadata": {},
     "output_type": "display_data"
    },
    {
     "data": {
      "text/html": [
       "<html><script type=\"math/tex; mode=display\">\\newcommand{\\Bold}[1]{\\mathbf{#1}}12</script></html>"
      ],
      "text/plain": [
       "12"
      ]
     },
     "metadata": {},
     "output_type": "display_data"
    },
    {
     "data": {
      "text/html": [
       "<html><script type=\"math/tex; mode=display\">\\newcommand{\\Bold}[1]{\\mathbf{#1}}1</script></html>"
      ],
      "text/plain": [
       "1"
      ]
     },
     "metadata": {},
     "output_type": "display_data"
    },
    {
     "data": {
      "text/html": [
       "<html><script type=\"math/tex; mode=display\">\\newcommand{\\Bold}[1]{\\mathbf{#1}}1</script></html>"
      ],
      "text/plain": [
       "1"
      ]
     },
     "metadata": {},
     "output_type": "display_data"
    },
    {
     "data": {
      "text/html": [
       "<html><script type=\"math/tex; mode=display\">\\newcommand{\\Bold}[1]{\\mathbf{#1}}1</script></html>"
      ],
      "text/plain": [
       "1"
      ]
     },
     "metadata": {},
     "output_type": "display_data"
    },
    {
     "data": {
      "text/html": [
       "<html><script type=\"math/tex; mode=display\">\\newcommand{\\Bold}[1]{\\mathbf{#1}}1</script></html>"
      ],
      "text/plain": [
       "1"
      ]
     },
     "metadata": {},
     "output_type": "display_data"
    },
    {
     "data": {
      "text/html": [
       "<html><script type=\"math/tex; mode=display\">\\newcommand{\\Bold}[1]{\\mathbf{#1}}1</script></html>"
      ],
      "text/plain": [
       "1"
      ]
     },
     "metadata": {},
     "output_type": "display_data"
    },
    {
     "data": {
      "text/html": [
       "<html><script type=\"math/tex; mode=display\">\\newcommand{\\Bold}[1]{\\mathbf{#1}}1</script></html>"
      ],
      "text/plain": [
       "1"
      ]
     },
     "metadata": {},
     "output_type": "display_data"
    },
    {
     "data": {
      "text/html": [
       "<html><script type=\"math/tex; mode=display\">\\newcommand{\\Bold}[1]{\\mathbf{#1}}1</script></html>"
      ],
      "text/plain": [
       "1"
      ]
     },
     "metadata": {},
     "output_type": "display_data"
    },
    {
     "data": {
      "text/html": [
       "<html><script type=\"math/tex; mode=display\">\\newcommand{\\Bold}[1]{\\mathbf{#1}}1</script></html>"
      ],
      "text/plain": [
       "1"
      ]
     },
     "metadata": {},
     "output_type": "display_data"
    },
    {
     "data": {
      "text/html": [
       "<html><script type=\"math/tex; mode=display\">\\newcommand{\\Bold}[1]{\\mathbf{#1}}1</script></html>"
      ],
      "text/plain": [
       "1"
      ]
     },
     "metadata": {},
     "output_type": "display_data"
    },
    {
     "data": {
      "text/html": [
       "<html><script type=\"math/tex; mode=display\">\\newcommand{\\Bold}[1]{\\mathbf{#1}}1</script></html>"
      ],
      "text/plain": [
       "1"
      ]
     },
     "metadata": {},
     "output_type": "display_data"
    },
    {
     "data": {
      "text/html": [
       "<html><script type=\"math/tex; mode=display\">\\newcommand{\\Bold}[1]{\\mathbf{#1}}1</script></html>"
      ],
      "text/plain": [
       "1"
      ]
     },
     "metadata": {},
     "output_type": "display_data"
    },
    {
     "data": {
      "text/html": [
       "<html><script type=\"math/tex; mode=display\">\\newcommand{\\Bold}[1]{\\mathbf{#1}}1</script></html>"
      ],
      "text/plain": [
       "1"
      ]
     },
     "metadata": {},
     "output_type": "display_data"
    }
   ],
   "source": [
    "N2 = 21\n",
    "inverses = liste_inv_mul(N2)\n",
    "show(inverses)\n",
    "euler = euler_phi(N2)\n",
    "show(euler)\n",
    "for z in inverses:\n",
    "    show(z**euler)\n",
    "    \n",
    "##qqsoit N, z**euler vaut 1"
   ]
  },
  {
   "cell_type": "markdown",
   "metadata": {
    "deletable": false,
    "editable": false,
    "run_control": {
     "frozen": true
    }
   },
   "source": [
    "On remarque que pour tout $z$ dans le groupe multiplicatif $G$ modulo $N$, $z^{\\varphi(n)} = 1$. On définit l'*ordre* d'un entier $z\\in G$, noté $\\operatorname{ord}(z)$, comme étant le plus petit entier $k>0$ tel que $z^k=1 \\bmod N$. On a donc $\\operatorname{ord}(z)\\le\\varphi(N)$.\n",
    "\n",
    "### Question\n",
    "- En utilisant directement la structure `Integers(N)` pour faire les calculs modulo $N$, écrire une fonction `ord_mul_modN(x, N)` qui calcule l'ordre de $x$ *modulo* $N$, quand $x$ est inversible *modulo* $N$.\n",
    "- Donner la liste des couples $(x,\\operatorname{ord}(x))$ pour tous les entiers $x$ qui sont inversibles pour la multiplication *modulo* $N$, pour $N=5,15,17$.\n",
    "\n",
    "*Vérifier que vos résultats sont corrects en utilisant la fonction `pow(x,k,N)` qui calcule $x^k \\bmod N$.*"
   ]
  },
  {
   "cell_type": "code",
   "execution_count": 96,
   "metadata": {},
   "outputs": [],
   "source": [
    "def ord_mul_modN(x, N):\n",
    "    IN = Integers(N)\n",
    "    if x in liste_inv_mul(N):\n",
    "        for k in range(1,euler_phi(N)+1):\n",
    "            if IN(x**k) == 1:\n",
    "                return k\n",
    "    return None\n"
   ]
  },
  {
   "cell_type": "code",
   "execution_count": 100,
   "metadata": {},
   "outputs": [],
   "source": [
    "listOrd = []\n",
    "for N in [5,15,17]:\n",
    "    for x in liste_inv_mul(N):\n",
    "        ordre = ord_mul_modN(x, N)\n",
    "        if ordre is not None:\n",
    "            listOrd.append((x, ordre, N))\n",
    "for tup in listOrd:\n",
    "    if pow(tup[0],tup[1],tup[2]) != 1:\n",
    "        show(\"MARCHE PAS\")\n",
    "        show(tup)\n",
    "        show(pow(tup[0],tup[1],tup[2]))"
   ]
  },
  {
   "cell_type": "markdown",
   "metadata": {
    "deletable": false,
    "editable": false,
    "run_control": {
     "frozen": true
    }
   },
   "source": [
    "### Question\n",
    "Définir une fonction `liste_ord_mul` qui étant donné un entier N renvoie la liste des ordres possibles de tous les éléments inversibles pour la multiplication modulo $N$. <!--Vous pourrez utilisez la méthode **multiplicative_order()** qui pour un élement x de Integer(N) donne l'ordre mutliplicatif de x modulo N.-->\n",
    "*Tester pour tous les entiers $N$ entre $2$ et $40$.*"
   ]
  },
  {
   "cell_type": "code",
   "execution_count": 101,
   "metadata": {},
   "outputs": [],
   "source": [
    "def liste_ord_mul(N):\n",
    "    listOrd = []\n",
    "    for x in liste_inv_mul(N):\n",
    "        ordre = ord_mul_modN(x, N)\n",
    "        if ordre is not None:\n",
    "            listOrd.append(ordre)\n",
    "    return listOrd"
   ]
  },
  {
   "cell_type": "code",
   "execution_count": 102,
   "metadata": {},
   "outputs": [
    {
     "data": {
      "text/html": [
       "<html><script type=\"math/tex; mode=display\">\\newcommand{\\Bold}[1]{\\mathbf{#1}}\\left[1\\right]</script></html>"
      ],
      "text/plain": [
       "[1]"
      ]
     },
     "metadata": {},
     "output_type": "display_data"
    },
    {
     "data": {
      "text/html": [
       "<html><script type=\"math/tex; mode=display\">\\newcommand{\\Bold}[1]{\\mathbf{#1}}\\left[1, 2\\right]</script></html>"
      ],
      "text/plain": [
       "[1, 2]"
      ]
     },
     "metadata": {},
     "output_type": "display_data"
    },
    {
     "data": {
      "text/html": [
       "<html><script type=\"math/tex; mode=display\">\\newcommand{\\Bold}[1]{\\mathbf{#1}}\\left[1, 2\\right]</script></html>"
      ],
      "text/plain": [
       "[1, 2]"
      ]
     },
     "metadata": {},
     "output_type": "display_data"
    },
    {
     "data": {
      "text/html": [
       "<html><script type=\"math/tex; mode=display\">\\newcommand{\\Bold}[1]{\\mathbf{#1}}\\left[1, 4, 4, 2\\right]</script></html>"
      ],
      "text/plain": [
       "[1, 4, 4, 2]"
      ]
     },
     "metadata": {},
     "output_type": "display_data"
    },
    {
     "data": {
      "text/html": [
       "<html><script type=\"math/tex; mode=display\">\\newcommand{\\Bold}[1]{\\mathbf{#1}}\\left[1, 2\\right]</script></html>"
      ],
      "text/plain": [
       "[1, 2]"
      ]
     },
     "metadata": {},
     "output_type": "display_data"
    },
    {
     "data": {
      "text/html": [
       "<html><script type=\"math/tex; mode=display\">\\newcommand{\\Bold}[1]{\\mathbf{#1}}\\left[1, 3, 6, 3, 6, 2\\right]</script></html>"
      ],
      "text/plain": [
       "[1, 3, 6, 3, 6, 2]"
      ]
     },
     "metadata": {},
     "output_type": "display_data"
    },
    {
     "data": {
      "text/html": [
       "<html><script type=\"math/tex; mode=display\">\\newcommand{\\Bold}[1]{\\mathbf{#1}}\\left[1, 2, 2, 2\\right]</script></html>"
      ],
      "text/plain": [
       "[1, 2, 2, 2]"
      ]
     },
     "metadata": {},
     "output_type": "display_data"
    },
    {
     "data": {
      "text/html": [
       "<html><script type=\"math/tex; mode=display\">\\newcommand{\\Bold}[1]{\\mathbf{#1}}\\left[1, 6, 3, 6, 3, 2\\right]</script></html>"
      ],
      "text/plain": [
       "[1, 6, 3, 6, 3, 2]"
      ]
     },
     "metadata": {},
     "output_type": "display_data"
    },
    {
     "data": {
      "text/html": [
       "<html><script type=\"math/tex; mode=display\">\\newcommand{\\Bold}[1]{\\mathbf{#1}}\\left[1, 4, 4, 2\\right]</script></html>"
      ],
      "text/plain": [
       "[1, 4, 4, 2]"
      ]
     },
     "metadata": {},
     "output_type": "display_data"
    },
    {
     "data": {
      "text/html": [
       "<html><script type=\"math/tex; mode=display\">\\newcommand{\\Bold}[1]{\\mathbf{#1}}\\left[1, 10, 5, 5, 5, 10, 10, 10, 5, 2\\right]</script></html>"
      ],
      "text/plain": [
       "[1, 10, 5, 5, 5, 10, 10, 10, 5, 2]"
      ]
     },
     "metadata": {},
     "output_type": "display_data"
    },
    {
     "data": {
      "text/html": [
       "<html><script type=\"math/tex; mode=display\">\\newcommand{\\Bold}[1]{\\mathbf{#1}}\\left[1, 2, 2, 2\\right]</script></html>"
      ],
      "text/plain": [
       "[1, 2, 2, 2]"
      ]
     },
     "metadata": {},
     "output_type": "display_data"
    },
    {
     "data": {
      "text/html": [
       "<html><script type=\"math/tex; mode=display\">\\newcommand{\\Bold}[1]{\\mathbf{#1}}\\left[1, 12, 3, 6, 4, 12, 12, 4, 3, 6, 12, 2\\right]</script></html>"
      ],
      "text/plain": [
       "[1, 12, 3, 6, 4, 12, 12, 4, 3, 6, 12, 2]"
      ]
     },
     "metadata": {},
     "output_type": "display_data"
    },
    {
     "data": {
      "text/html": [
       "<html><script type=\"math/tex; mode=display\">\\newcommand{\\Bold}[1]{\\mathbf{#1}}\\left[1, 6, 6, 3, 3, 2\\right]</script></html>"
      ],
      "text/plain": [
       "[1, 6, 6, 3, 3, 2]"
      ]
     },
     "metadata": {},
     "output_type": "display_data"
    },
    {
     "data": {
      "text/html": [
       "<html><script type=\"math/tex; mode=display\">\\newcommand{\\Bold}[1]{\\mathbf{#1}}\\left[1, 4, 2, 4, 4, 2, 4, 2\\right]</script></html>"
      ],
      "text/plain": [
       "[1, 4, 2, 4, 4, 2, 4, 2]"
      ]
     },
     "metadata": {},
     "output_type": "display_data"
    },
    {
     "data": {
      "text/html": [
       "<html><script type=\"math/tex; mode=display\">\\newcommand{\\Bold}[1]{\\mathbf{#1}}\\left[1, 4, 4, 2, 2, 4, 4, 2\\right]</script></html>"
      ],
      "text/plain": [
       "[1, 4, 4, 2, 2, 4, 4, 2]"
      ]
     },
     "metadata": {},
     "output_type": "display_data"
    },
    {
     "data": {
      "text/html": [
       "<html><script type=\"math/tex; mode=display\">\\newcommand{\\Bold}[1]{\\mathbf{#1}}\\left[1, 8, 16, 4, 16, 16, 16, 8, 8, 16, 16, 16, 4, 16, 8, 2\\right]</script></html>"
      ],
      "text/plain": [
       "[1, 8, 16, 4, 16, 16, 16, 8, 8, 16, 16, 16, 4, 16, 8, 2]"
      ]
     },
     "metadata": {},
     "output_type": "display_data"
    },
    {
     "data": {
      "text/html": [
       "<html><script type=\"math/tex; mode=display\">\\newcommand{\\Bold}[1]{\\mathbf{#1}}\\left[1, 6, 3, 6, 3, 2\\right]</script></html>"
      ],
      "text/plain": [
       "[1, 6, 3, 6, 3, 2]"
      ]
     },
     "metadata": {},
     "output_type": "display_data"
    },
    {
     "data": {
      "text/html": [
       "<html><script type=\"math/tex; mode=display\">\\newcommand{\\Bold}[1]{\\mathbf{#1}}\\left[1, 18, 18, 9, 9, 9, 3, 6, 9, 18, 3, 6, 18, 18, 18, 9, 9, 2\\right]</script></html>"
      ],
      "text/plain": [
       "[1, 18, 18, 9, 9, 9, 3, 6, 9, 18, 3, 6, 18, 18, 18, 9, 9, 2]"
      ]
     },
     "metadata": {},
     "output_type": "display_data"
    },
    {
     "data": {
      "text/html": [
       "<html><script type=\"math/tex; mode=display\">\\newcommand{\\Bold}[1]{\\mathbf{#1}}\\left[1, 4, 4, 2, 2, 4, 4, 2\\right]</script></html>"
      ],
      "text/plain": [
       "[1, 4, 4, 2, 2, 4, 4, 2]"
      ]
     },
     "metadata": {},
     "output_type": "display_data"
    },
    {
     "data": {
      "text/html": [
       "<html><script type=\"math/tex; mode=display\">\\newcommand{\\Bold}[1]{\\mathbf{#1}}\\left[1, 6, 3, 6, 2, 6, 6, 2, 3, 6, 6, 2\\right]</script></html>"
      ],
      "text/plain": [
       "[1, 6, 3, 6, 2, 6, 6, 2, 3, 6, 6, 2]"
      ]
     },
     "metadata": {},
     "output_type": "display_data"
    },
    {
     "data": {
      "text/html": [
       "<html><script type=\"math/tex; mode=display\">\\newcommand{\\Bold}[1]{\\mathbf{#1}}\\left[1, 5, 5, 10, 5, 10, 5, 10, 10, 2\\right]</script></html>"
      ],
      "text/plain": [
       "[1, 5, 5, 10, 5, 10, 5, 10, 10, 2]"
      ]
     },
     "metadata": {},
     "output_type": "display_data"
    },
    {
     "data": {
      "text/html": [
       "<html><script type=\"math/tex; mode=display\">\\newcommand{\\Bold}[1]{\\mathbf{#1}}\\left[1, 11, 11, 11, 22, 11, 22, 11, 11, 22, 22, 11, 11, 22, 22, 11, 22, 11, 22, 22, 22, 2\\right]</script></html>"
      ],
      "text/plain": [
       "[1,\n",
       " 11,\n",
       " 11,\n",
       " 11,\n",
       " 22,\n",
       " 11,\n",
       " 22,\n",
       " 11,\n",
       " 11,\n",
       " 22,\n",
       " 22,\n",
       " 11,\n",
       " 11,\n",
       " 22,\n",
       " 22,\n",
       " 11,\n",
       " 22,\n",
       " 11,\n",
       " 22,\n",
       " 22,\n",
       " 22,\n",
       " 2]"
      ]
     },
     "metadata": {},
     "output_type": "display_data"
    },
    {
     "data": {
      "text/html": [
       "<html><script type=\"math/tex; mode=display\">\\newcommand{\\Bold}[1]{\\mathbf{#1}}\\left[1, 2, 2, 2, 2, 2, 2, 2\\right]</script></html>"
      ],
      "text/plain": [
       "[1, 2, 2, 2, 2, 2, 2, 2]"
      ]
     },
     "metadata": {},
     "output_type": "display_data"
    },
    {
     "data": {
      "text/html": [
       "<html><script type=\"math/tex; mode=display\">\\newcommand{\\Bold}[1]{\\mathbf{#1}}\\left[1, 20, 20, 10, 5, 4, 20, 10, 5, 20, 20, 10, 5, 20, 4, 10, 5, 20, 20, 2\\right]</script></html>"
      ],
      "text/plain": [
       "[1, 20, 20, 10, 5, 4, 20, 10, 5, 20, 20, 10, 5, 20, 4, 10, 5, 20, 20, 2]"
      ]
     },
     "metadata": {},
     "output_type": "display_data"
    },
    {
     "data": {
      "text/html": [
       "<html><script type=\"math/tex; mode=display\">\\newcommand{\\Bold}[1]{\\mathbf{#1}}\\left[1, 3, 4, 12, 3, 12, 12, 6, 12, 4, 6, 2\\right]</script></html>"
      ],
      "text/plain": [
       "[1, 3, 4, 12, 3, 12, 12, 6, 12, 4, 6, 2]"
      ]
     },
     "metadata": {},
     "output_type": "display_data"
    },
    {
     "data": {
      "text/html": [
       "<html><script type=\"math/tex; mode=display\">\\newcommand{\\Bold}[1]{\\mathbf{#1}}\\left[1, 18, 9, 18, 9, 6, 3, 18, 9, 18, 9, 6, 3, 18, 9, 18, 9, 2\\right]</script></html>"
      ],
      "text/plain": [
       "[1, 18, 9, 18, 9, 6, 3, 18, 9, 18, 9, 6, 3, 18, 9, 18, 9, 2]"
      ]
     },
     "metadata": {},
     "output_type": "display_data"
    },
    {
     "data": {
      "text/html": [
       "<html><script type=\"math/tex; mode=display\">\\newcommand{\\Bold}[1]{\\mathbf{#1}}\\left[1, 6, 6, 3, 6, 2, 2, 6, 6, 6, 3, 2\\right]</script></html>"
      ],
      "text/plain": [
       "[1, 6, 6, 3, 6, 2, 2, 6, 6, 6, 3, 2]"
      ]
     },
     "metadata": {},
     "output_type": "display_data"
    },
    {
     "data": {
      "text/html": [
       "<html><script type=\"math/tex; mode=display\">\\newcommand{\\Bold}[1]{\\mathbf{#1}}\\left[1, 28, 28, 14, 14, 14, 7, 28, 14, 28, 28, 4, 14, 28, 28, 7, 4, 28, 28, 7, 28, 14, 7, 7, 7, 28, 28, 2\\right]</script></html>"
      ],
      "text/plain": [
       "[1,\n",
       " 28,\n",
       " 28,\n",
       " 14,\n",
       " 14,\n",
       " 14,\n",
       " 7,\n",
       " 28,\n",
       " 14,\n",
       " 28,\n",
       " 28,\n",
       " 4,\n",
       " 14,\n",
       " 28,\n",
       " 28,\n",
       " 7,\n",
       " 4,\n",
       " 28,\n",
       " 28,\n",
       " 7,\n",
       " 28,\n",
       " 14,\n",
       " 7,\n",
       " 7,\n",
       " 7,\n",
       " 28,\n",
       " 28,\n",
       " 2]"
      ]
     },
     "metadata": {},
     "output_type": "display_data"
    },
    {
     "data": {
      "text/html": [
       "<html><script type=\"math/tex; mode=display\">\\newcommand{\\Bold}[1]{\\mathbf{#1}}\\left[1, 4, 2, 4, 4, 2, 4, 2\\right]</script></html>"
      ],
      "text/plain": [
       "[1, 4, 2, 4, 4, 2, 4, 2]"
      ]
     },
     "metadata": {},
     "output_type": "display_data"
    },
    {
     "data": {
      "text/html": [
       "<html><script type=\"math/tex; mode=display\">\\newcommand{\\Bold}[1]{\\mathbf{#1}}\\left[1, 5, 30, 5, 3, 6, 15, 5, 15, 15, 30, 30, 30, 15, 10, 5, 30, 15, 15, 15, 30, 30, 10, 30, 3, 6, 10, 15, 10, 2\\right]</script></html>"
      ],
      "text/plain": [
       "[1,\n",
       " 5,\n",
       " 30,\n",
       " 5,\n",
       " 3,\n",
       " 6,\n",
       " 15,\n",
       " 5,\n",
       " 15,\n",
       " 15,\n",
       " 30,\n",
       " 30,\n",
       " 30,\n",
       " 15,\n",
       " 10,\n",
       " 5,\n",
       " 30,\n",
       " 15,\n",
       " 15,\n",
       " 15,\n",
       " 30,\n",
       " 30,\n",
       " 10,\n",
       " 30,\n",
       " 3,\n",
       " 6,\n",
       " 10,\n",
       " 15,\n",
       " 10,\n",
       " 2]"
      ]
     },
     "metadata": {},
     "output_type": "display_data"
    },
    {
     "data": {
      "text/html": [
       "<html><script type=\"math/tex; mode=display\">\\newcommand{\\Bold}[1]{\\mathbf{#1}}\\left[1, 8, 8, 4, 4, 8, 8, 2, 2, 8, 8, 4, 4, 8, 8, 2\\right]</script></html>"
      ],
      "text/plain": [
       "[1, 8, 8, 4, 4, 8, 8, 2, 2, 8, 8, 4, 4, 8, 8, 2]"
      ]
     },
     "metadata": {},
     "output_type": "display_data"
    },
    {
     "data": {
      "text/html": [
       "<html><script type=\"math/tex; mode=display\">\\newcommand{\\Bold}[1]{\\mathbf{#1}}\\left[1, 10, 5, 10, 10, 10, 2, 10, 10, 5, 10, 10, 10, 2, 5, 10, 10, 10, 5, 2\\right]</script></html>"
      ],
      "text/plain": [
       "[1, 10, 5, 10, 10, 10, 2, 10, 10, 5, 10, 10, 10, 2, 5, 10, 10, 10, 5, 2]"
      ]
     },
     "metadata": {},
     "output_type": "display_data"
    },
    {
     "data": {
      "text/html": [
       "<html><script type=\"math/tex; mode=display\">\\newcommand{\\Bold}[1]{\\mathbf{#1}}\\left[1, 16, 16, 16, 8, 16, 4, 8, 8, 4, 16, 8, 16, 16, 16, 2\\right]</script></html>"
      ],
      "text/plain": [
       "[1, 16, 16, 16, 8, 16, 4, 8, 8, 4, 16, 8, 16, 16, 16, 2]"
      ]
     },
     "metadata": {},
     "output_type": "display_data"
    },
    {
     "data": {
      "text/html": [
       "<html><script type=\"math/tex; mode=display\">\\newcommand{\\Bold}[1]{\\mathbf{#1}}\\left[1, 12, 12, 6, 2, 4, 6, 3, 12, 4, 3, 12, 12, 6, 4, 12, 6, 6, 4, 2, 6, 12, 12, 2\\right]</script></html>"
      ],
      "text/plain": [
       "[1,\n",
       " 12,\n",
       " 12,\n",
       " 6,\n",
       " 2,\n",
       " 4,\n",
       " 6,\n",
       " 3,\n",
       " 12,\n",
       " 4,\n",
       " 3,\n",
       " 12,\n",
       " 12,\n",
       " 6,\n",
       " 4,\n",
       " 12,\n",
       " 6,\n",
       " 6,\n",
       " 4,\n",
       " 2,\n",
       " 6,\n",
       " 12,\n",
       " 12,\n",
       " 2]"
      ]
     },
     "metadata": {},
     "output_type": "display_data"
    },
    {
     "data": {
      "text/html": [
       "<html><script type=\"math/tex; mode=display\">\\newcommand{\\Bold}[1]{\\mathbf{#1}}\\left[1, 6, 6, 6, 3, 2, 2, 6, 3, 6, 6, 2\\right]</script></html>"
      ],
      "text/plain": [
       "[1, 6, 6, 6, 3, 2, 2, 6, 3, 6, 6, 2]"
      ]
     },
     "metadata": {},
     "output_type": "display_data"
    },
    {
     "data": {
      "text/html": [
       "<html><script type=\"math/tex; mode=display\">\\newcommand{\\Bold}[1]{\\mathbf{#1}}\\left[1, 36, 18, 18, 36, 4, 9, 12, 9, 3, 6, 9, 36, 12, 36, 9, 36, 36, 36, 36, 18, 36, 12, 36, 18, 3, 6, 18, 12, 18, 4, 36, 9, 9, 36, 2\\right]</script></html>"
      ],
      "text/plain": [
       "[1,\n",
       " 36,\n",
       " 18,\n",
       " 18,\n",
       " 36,\n",
       " 4,\n",
       " 9,\n",
       " 12,\n",
       " 9,\n",
       " 3,\n",
       " 6,\n",
       " 9,\n",
       " 36,\n",
       " 12,\n",
       " 36,\n",
       " 9,\n",
       " 36,\n",
       " 36,\n",
       " 36,\n",
       " 36,\n",
       " 18,\n",
       " 36,\n",
       " 12,\n",
       " 36,\n",
       " 18,\n",
       " 3,\n",
       " 6,\n",
       " 18,\n",
       " 12,\n",
       " 18,\n",
       " 4,\n",
       " 36,\n",
       " 9,\n",
       " 9,\n",
       " 36,\n",
       " 2]"
      ]
     },
     "metadata": {},
     "output_type": "display_data"
    },
    {
     "data": {
      "text/html": [
       "<html><script type=\"math/tex; mode=display\">\\newcommand{\\Bold}[1]{\\mathbf{#1}}\\left[1, 18, 9, 3, 9, 3, 18, 18, 9, 18, 9, 9, 6, 18, 6, 18, 9, 2\\right]</script></html>"
      ],
      "text/plain": [
       "[1, 18, 9, 3, 9, 3, 18, 18, 9, 18, 9, 9, 6, 18, 6, 18, 9, 2]"
      ]
     },
     "metadata": {},
     "output_type": "display_data"
    },
    {
     "data": {
      "text/html": [
       "<html><script type=\"math/tex; mode=display\">\\newcommand{\\Bold}[1]{\\mathbf{#1}}\\left[1, 12, 6, 4, 12, 4, 6, 12, 2, 3, 6, 12, 12, 3, 6, 2, 12, 6, 4, 12, 4, 6, 12, 2\\right]</script></html>"
      ],
      "text/plain": [
       "[1,\n",
       " 12,\n",
       " 6,\n",
       " 4,\n",
       " 12,\n",
       " 4,\n",
       " 6,\n",
       " 12,\n",
       " 2,\n",
       " 3,\n",
       " 6,\n",
       " 12,\n",
       " 12,\n",
       " 3,\n",
       " 6,\n",
       " 2,\n",
       " 12,\n",
       " 6,\n",
       " 4,\n",
       " 12,\n",
       " 4,\n",
       " 6,\n",
       " 12,\n",
       " 2]"
      ]
     },
     "metadata": {},
     "output_type": "display_data"
    },
    {
     "data": {
      "text/html": [
       "<html><script type=\"math/tex; mode=display\">\\newcommand{\\Bold}[1]{\\mathbf{#1}}\\left[1, 4, 4, 2, 2, 4, 4, 2, 2, 4, 4, 2, 2, 4, 4, 2\\right]</script></html>"
      ],
      "text/plain": [
       "[1, 4, 4, 2, 2, 4, 4, 2, 2, 4, 4, 2, 2, 4, 4, 2]"
      ]
     },
     "metadata": {},
     "output_type": "display_data"
    }
   ],
   "source": [
    "for N in srange(2,41):\n",
    "    show(liste_ord_mul(N))"
   ]
  },
  {
   "cell_type": "markdown",
   "metadata": {
    "deletable": false,
    "editable": false,
    "run_control": {
     "frozen": true
    }
   },
   "source": [
    "### Question\n",
    "Vérifier que pour tous les nombres premiers $< 40$, les ordres des éléments inversibles pour la multiplication modulo $N$ divisent tous $N-1$. *Vous pourrez utiliser la fonction Sage `prime_range(N)` qui donne la liste des premiers inférieur à N.*"
   ]
  },
  {
   "cell_type": "code",
   "execution_count": 103,
   "metadata": {},
   "outputs": [],
   "source": [
    "listP = prime_range(40)\n",
    "for p in listP:\n",
    "    for ordre in liste_ord_mul(p):\n",
    "        if (p-1)%ordre != 0:\n",
    "            show(\"MARCHE PAS\")\n",
    "            show(p)\n",
    "            show(ordre)"
   ]
  },
  {
   "cell_type": "code",
   "execution_count": null,
   "metadata": {
    "scrolled": true
   },
   "outputs": [],
   "source": []
  },
  {
   "cell_type": "markdown",
   "metadata": {
    "deletable": false,
    "editable": false,
    "run_control": {
     "frozen": true
    }
   },
   "source": [
    "### Question\n",
    "De manière similaire, montrer (pour $p,q<40$) que si $N=p\\times q$ avec $p$ et $q$ des nombres premiers différent alors les ordres des éléments inversibles pour la multiplication modulo $N$ divisent tous $(p-1)\\times(q-1)$. "
   ]
  },
  {
   "cell_type": "code",
   "execution_count": 125,
   "metadata": {
    "scrolled": true
   },
   "outputs": [
    {
     "data": {
      "text/html": [
       "<html><script type=\"math/tex; mode=display\">\\newcommand{\\Bold}[1]{\\mathbf{#1}}\\left[2, 3, 5, 7, 11, 13\\right]</script></html>"
      ],
      "text/plain": [
       "[2, 3, 5, 7, 11, 13]"
      ]
     },
     "metadata": {},
     "output_type": "display_data"
    }
   ],
   "source": [
    "listP = prime_range(15)\n",
    "show(prime_range(15))\n",
    "for e1 in listP:\n",
    "    for e2 in listP:\n",
    "        if e1 != e2:\n",
    "            for ordre in liste_ord_mul(e1*e2):\n",
    "                if (e1-1)*(e2-1)%ordre != 0:\n",
    "                    show(\"MARCHE PAS\")\n",
    "                    show(\"e1:\", e1, \" e2:\", e2)\n",
    "                    show(ordre)"
   ]
  },
  {
   "cell_type": "code",
   "execution_count": null,
   "metadata": {},
   "outputs": [],
   "source": []
  },
  {
   "cell_type": "markdown",
   "metadata": {
    "deletable": false,
    "editable": false,
    "run_control": {
     "frozen": true
    }
   },
   "source": [
    "### Question\n",
    "En réalité, la propriété observée est vraie pour tout $N$ : les ordres des éléments inversibles pour la multiplication *modulo* $N$ divisent tous $\\varphi(N)$. Vérifier la propriété pour pour tout $N \\le 40$."
   ]
  },
  {
   "cell_type": "code",
   "execution_count": 116,
   "metadata": {},
   "outputs": [],
   "source": [
    "for N in range(2,41):\n",
    "    euler = euler_phi(N)\n",
    "    for ordre in liste_ord_mul(N):\n",
    "        if euler%ordre != 0:\n",
    "            show(\"MARCHE PAS\")\n",
    "            show(N)\n",
    "            show(euler)\n",
    "            show(ordre)"
   ]
  },
  {
   "cell_type": "markdown",
   "metadata": {
    "deletable": false,
    "editable": false,
    "run_control": {
     "frozen": true
    }
   },
   "source": [
    "## Cryptosystème RSA"
   ]
  },
  {
   "cell_type": "markdown",
   "metadata": {
    "deletable": false,
    "editable": false,
    "run_control": {
     "frozen": true
    }
   },
   "source": [
    "Le système de chiffrement RSA est l'un des systèmes cryptographique les plus utilisées dans votre vie de tous les jours (par exemple il est utilisé quand vous payez en carte bleue). Ce protocole s'appuie sur des calculs avec des entiers modulo $N$ et il s'appuie sur la structure de sous-groupe multiplicatif que nous avons entre-apercu.\n",
    "\n",
    "L'idée est de prendre un entier $N=p \\times q$ ou $p$ et $q$ sont deux nombres premiers.\n",
    "Comme vous avez vu que l'ordre des éléments inversibles pour la multiplication modulo $N$ est toujours divisible par $(p-1)\\times (q-1)$ on a la propriété suivante:\n",
    "\n",
    "$\\forall x \\in \\{1,\\dots,N-1\\}$ tel que $pgcd(x,N)=1$ alors $x^{(p-1)\\times (q-1)} \\bmod N= 1$\n",
    "\n",
    "### Question\n",
    "Vérifier cette propriété pour $N=55$. *Vérifier également que la propriété est fausse si on ne suppose pas $\\operatorname{pgcd}(x,N)=1$.*"
   ]
  },
  {
   "cell_type": "code",
   "execution_count": 131,
   "metadata": {},
   "outputs": [],
   "source": [
    "N = 55\n",
    "for x in range(1,N):\n",
    "    if gcd(x,N) == 1:\n",
    "        if pow(x,40,N)!=1:\n",
    "            show(\"MARCHE PAS\")\n",
    "            show(gcd(x,N))\n",
    "            show(pow(x,40,N))"
   ]
  },
  {
   "cell_type": "code",
   "execution_count": null,
   "metadata": {
    "scrolled": true
   },
   "outputs": [],
   "source": []
  },
  {
   "cell_type": "markdown",
   "metadata": {
    "deletable": false,
    "editable": false,
    "run_control": {
     "frozen": true
    }
   },
   "source": [
    "L'idée du chiffrement RSA est d'utiliser le calcul des entiers modulo $N$ avec un entier $N=p \\times q$ où $p,q$ sont premiers. On définit une paire de clé $(e,d)$ avec $e,d$ deux entiers non-nuls plus petit que $N$, et on dit que la paire $(N,e)$ est la clé publique et que la paire $(N,d)$ est la clé secrète. \n",
    "\n",
    "Lorsque quelqu'un veut envoyer un message $m$ chiffré à Alice, il lui suffit d'utiliser la clé publique $(N,e)$ d'Alice (qui est connue de tous). Par simplicité, on considèrera que le message $m$ est un entier dans $\\{1,\\dots,N-1)$ tel que $pgcd(m,N)=1$. Le chiffrement de $m$ par la clé publique d'Alice consiste à calculer $C_m = m^e \\bmod N$.\n",
    "\n",
    "Pour déchiffrer le message, il faut soit:\n",
    "- calculer $m$ ou $d$ en fonction de $C_m,e$ et $N$, ce qui est en fait un problème difficile (complexité sous-exponentielle)\n",
    "- soit connaitre la clé privé $(N,d)$ que seul Alice connait. En effet, pour Alice il suffit de calculer\n",
    "$m = C_m^d \\bmod N$ (complexité quasi-linéaire)\n",
    "\n",
    "\n",
    "### Question\n",
    "\n",
    "Soit $N=5\\times 11$, $m=31$, $e=3$ et $d=42$, montrer que le déchiffrement de RSA avec la clé privée $d$ fonctionne bien."
   ]
  },
  {
   "cell_type": "code",
   "execution_count": 133,
   "metadata": {},
   "outputs": [
    {
     "data": {
      "text/html": [
       "<html><script type=\"math/tex; mode=display\">\\newcommand{\\Bold}[1]{\\mathbf{#1}}\\verb|origin:| 31</script></html>"
      ],
      "text/plain": [
       "'origin:' 31"
      ]
     },
     "metadata": {},
     "output_type": "display_data"
    },
    {
     "data": {
      "text/html": [
       "<html><script type=\"math/tex; mode=display\">\\newcommand{\\Bold}[1]{\\mathbf{#1}}\\verb|chiffre:| 36</script></html>"
      ],
      "text/plain": [
       "'chiffre:' 36"
      ]
     },
     "metadata": {},
     "output_type": "display_data"
    },
    {
     "data": {
      "text/html": [
       "<html><script type=\"math/tex; mode=display\">\\newcommand{\\Bold}[1]{\\mathbf{#1}}\\verb|dechiffre:| 31</script></html>"
      ],
      "text/plain": [
       "'dechiffre:' 31"
      ]
     },
     "metadata": {},
     "output_type": "display_data"
    }
   ],
   "source": [
    "N=5*11\n",
    "IN=Integers(N)\n",
    "m=IN(31)\n",
    "e=IN(3)\n",
    "d=IN(42)\n",
    "cle=(e,d)\n",
    "chiffre=m**e\n",
    "dechiffre=chiffre**d\n",
    "\n",
    "show(\"origin:\",m)\n",
    "show(\"chiffre:\",chiffre)\n",
    "show(\"dechiffre:\",dechiffre)"
   ]
  },
  {
   "cell_type": "code",
   "execution_count": null,
   "metadata": {},
   "outputs": [],
   "source": []
  },
  {
   "cell_type": "markdown",
   "metadata": {
    "deletable": false,
    "editable": false,
    "run_control": {
     "frozen": true
    }
   },
   "source": [
    "Toute la magie de ce protocole de cryptage réside dans le calcul de la paire d'entiers $(e,d)$. En effet, $e$ doit être choisi de telle sorte que $pgcd(e,(p-1)\\times(q-1))=1$. Cette condition implique que $e$ est inversible modulo $(p-1)\\times(q-1)$. Il suffit de poser $d=1/e \\bmod (p-1)\\times(q-1)$ pour faire marcher le protocole. \n",
    "\n",
    "En effet, par définition de $e$ et $d$ on a que $d*e = 1 \\bmod (p-1)\\times(q-1)$. Par conséquent, on a que $de= 1 + k \\times (p-1)\\times(q-1)$ avec $k$ un entiers.\n",
    "\n",
    "\n",
    "Maintenant, si on considère le sous-groupe $G$ des inversibles pour la multiplication modulo $N$, on a vu que pour tout élément $x\\in G$ l'ordre de $x$ divise $(p-1)\\times(q-1)$. Cela implique donc que $x^{(p-1)\\times(q-1)}=1 \\bmod N$.\n",
    "\n",
    "En reprenant le protocole RSA, on a que le déchiffrement calcule\n",
    "$C_m^e \\bmod N = {(m^d)}^e \\bmod N = m^{de} \\bmod N= m^{1 + k \\times (p-1)\\times(q-1)} \\bmod N = m \\times m^{k \\times (p-1)\\times(q-1)}= m \\times {(m^{(p-1)\\times(q-1)})}^k = m \\times 1^k \\bmod N=m$\n"
   ]
  },
  {
   "cell_type": "markdown",
   "metadata": {
    "deletable": false,
    "editable": false,
    "run_control": {
     "frozen": true
    }
   },
   "source": [
    "### Question\n",
    "En considérant $N=17*11=187$, $m=101$, calculer $10$ paires d'entier $(e,d)$ au hasard tel que le protocole RSA fonctionne. À chaque fois vous afficherez $e$ et $d$ ainsi que le message chiffré et son déchiffrement."
   ]
  },
  {
   "cell_type": "code",
   "execution_count": 177,
   "metadata": {
    "scrolled": false
   },
   "outputs": [],
   "source": [
    "from random import randint\n",
    "def generation():\n",
    "    p=17\n",
    "    q=11\n",
    "    N=p*q\n",
    "    IN=Integers(N)\n",
    "    m=IN(101)\n",
    "    #inv_mul(N,x) -> renvoie l'inverse pas la multiplication de x mod N\n",
    "    paires=[]\n",
    "    I2=Integers((p-1)*(q-1))\n",
    "    while len(paires)<10:\n",
    "        d=randint(2,N)\n",
    "        e=I2(1/d) if gcd(d,euler_phi(N))==1 else None\n",
    "        if e != None and I2(d*e)==1:\n",
    "            if (d,e) not in paires and (e,d) not in paires and e!=1 and d!=1:\n",
    "                paires.append((d,e))\n",
    "    #show(paires[0][0])\n",
    "    interet=[]\n",
    "    for d,e in paires:\n",
    "        c=IN(m)**e\n",
    "        D=IN(c)**d\n",
    "        #show(\"d:\",d, \"  e:\",e)\n",
    "        #show(\"origin:\", m,\" /chiffre:\", c, \" /dechiffre:\",D)\n",
    "        if c==m:\n",
    "            interet.append((d,e))\n",
    "    return interet"
   ]
  },
  {
   "cell_type": "code",
   "execution_count": 184,
   "metadata": {},
   "outputs": [
    {
     "data": {
      "text/html": [
       "<html><script type=\"math/tex; mode=display\">\\newcommand{\\Bold}[1]{\\mathbf{#1}}\\left[\\left(11, 131\\right), \\left(21, 61\\right), \\left(171, 131\\right), \\left(61, 21\\right), \\left(151, 71\\right), \\left(31, 31\\right), \\left(101, 141\\right), \\left(131, 11\\right), \\left(41, 121\\right), \\left(121, 41\\right), \\left(91, 51\\right), \\left(111, 111\\right), \\left(51, 91\\right), \\left(71, 151\\right), \\left(81, 81\\right), \\left(181, 61\\right), \\left(141, 101\\right)\\right]</script></html>"
      ],
      "text/plain": [
       "[(11, 131),\n",
       " (21, 61),\n",
       " (171, 131),\n",
       " (61, 21),\n",
       " (151, 71),\n",
       " (31, 31),\n",
       " (101, 141),\n",
       " (131, 11),\n",
       " (41, 121),\n",
       " (121, 41),\n",
       " (91, 51),\n",
       " (111, 111),\n",
       " (51, 91),\n",
       " (71, 151),\n",
       " (81, 81),\n",
       " (181, 61),\n",
       " (141, 101)]"
      ]
     },
     "execution_count": 184,
     "metadata": {},
     "output_type": "execute_result"
    }
   ],
   "source": [
    "interet=[]\n",
    "for i in range(10000):\n",
    "    interet+=generation()\n",
    "interet=list(dict.fromkeys(interet))\n",
    "show(interet)\n",
    "11 41 61 71 \n",
    "21 51 91\n"
   ]
  },
  {
   "cell_type": "code",
   "execution_count": 217,
   "metadata": {
    "scrolled": true
   },
   "outputs": [],
   "source": [
    "def aFaire(m):\n",
    "    IN=Integers(187)\n",
    "    l=[]\n",
    "    for i in range(1,188):\n",
    "        if IN(m**i) == m:\n",
    "            l.append(i)\n",
    "    return l"
   ]
  },
  {
   "cell_type": "code",
   "execution_count": 194,
   "metadata": {},
   "outputs": [
    {
     "data": {
      "text/html": [
       "<html><script type=\"math/tex; mode=display\">\\newcommand{\\Bold}[1]{\\mathbf{#1}}103</script></html>"
      ],
      "text/plain": [
       "103"
      ]
     },
     "execution_count": 194,
     "metadata": {},
     "output_type": "execute_result"
    }
   ],
   "source": [
    "IN(m**2)"
   ]
  },
  {
   "cell_type": "code",
   "execution_count": 221,
   "metadata": {},
   "outputs": [
    {
     "data": {
      "text/html": [
       "<html><script type=\"math/tex; mode=display\">\\newcommand{\\Bold}[1]{\\mathbf{#1}}\\left[\\left(1, 1\\right), \\left(2, 40\\right), \\left(3, 80\\right), \\left(4, 20\\right), \\left(5, 80\\right), \\left(6, 80\\right), \\left(7, 80\\right), \\left(8, 40\\right), \\left(9, 40\\right), \\left(10, 16\\right), \\left(11, 16\\right), \\left(12, 16\\right), \\left(13, 20\\right), \\left(14, 80\\right), \\left(15, 40\\right), \\left(16, 10\\right), \\left(17, 10\\right), \\left(18, 10\\right), \\left(19, 40\\right), \\left(20, 80\\right), \\left(21, 4\\right), \\left(22, 16\\right), \\left(23, 16\\right), \\left(24, 80\\right), \\left(25, 40\\right), \\left(26, 40\\right), \\left(27, 80\\right), \\left(28, 80\\right), \\left(29, 80\\right), \\left(30, 20\\right), \\left(31, 80\\right), \\left(32, 8\\right), \\left(33, 2\\right), \\left(34, 1\\right), \\left(35, 10\\right), \\left(36, 40\\right), \\left(37, 80\\right), \\left(38, 20\\right), \\left(39, 80\\right), \\left(40, 80\\right), \\left(41, 80\\right), \\left(42, 40\\right), \\left(43, 8\\right), \\left(44, 16\\right), \\left(45, 16\\right), \\left(46, 80\\right), \\left(47, 20\\right), \\left(48, 80\\right), \\left(49, 40\\right), \\left(50, 10\\right), \\left(51, 10\\right), \\left(52, 10\\right), \\left(53, 40\\right), \\left(54, 16\\right), \\left(55, 4\\right), \\left(56, 16\\right), \\left(57, 80\\right), \\left(58, 80\\right), \\left(59, 40\\right), \\left(60, 40\\right), \\left(61, 80\\right), \\left(62, 80\\right), \\left(63, 80\\right), \\left(64, 20\\right), \\left(65, 16\\right), \\left(66, 8\\right), \\left(67, 2\\right), \\left(68, 10\\right), \\left(69, 5\\right), \\left(70, 40\\right), \\left(71, 80\\right), \\left(72, 20\\right), \\left(73, 80\\right), \\left(74, 80\\right), \\left(75, 80\\right), \\left(76, 8\\right), \\left(77, 8\\right), \\left(78, 16\\right), \\left(79, 80\\right), \\left(80, 80\\right), \\left(81, 20\\right), \\left(82, 80\\right), \\left(83, 40\\right), \\left(84, 10\\right), \\left(85, 10\\right), \\left(86, 5\\right), \\left(87, 8\\right), \\left(88, 16\\right), \\left(89, 4\\right), \\left(90, 80\\right), \\left(91, 80\\right), \\left(92, 80\\right), \\left(93, 40\\right), \\left(94, 40\\right), \\left(95, 80\\right), \\left(96, 80\\right), \\left(97, 80\\right), \\left(98, 4\\right), \\left(99, 16\\right), \\left(100, 8\\right), \\left(101, 10\\right), \\left(102, 5\\right), \\left(103, 5\\right), \\left(104, 40\\right), \\left(105, 80\\right), \\left(106, 20\\right), \\left(107, 80\\right), \\left(108, 80\\right), \\left(109, 16\\right), \\left(110, 8\\right), \\left(111, 8\\right), \\left(112, 80\\right), \\left(113, 80\\right), \\left(114, 80\\right), \\left(115, 20\\right), \\left(116, 80\\right), \\left(117, 40\\right), \\left(118, 10\\right), \\left(119, 5\\right), \\left(120, 2\\right), \\left(121, 8\\right), \\left(122, 16\\right), \\left(123, 20\\right), \\left(124, 80\\right), \\left(125, 80\\right), \\left(126, 80\\right), \\left(127, 40\\right), \\left(128, 40\\right), \\left(129, 80\\right), \\left(130, 80\\right), \\left(131, 16\\right), \\left(132, 4\\right), \\left(133, 16\\right), \\left(134, 40\\right), \\left(135, 10\\right), \\left(136, 5\\right), \\left(137, 5\\right), \\left(138, 40\\right), \\left(139, 80\\right), \\left(140, 20\\right), \\left(141, 80\\right), \\left(142, 16\\right), \\left(143, 16\\right), \\left(144, 8\\right), \\left(145, 40\\right), \\left(146, 80\\right), \\left(147, 80\\right), \\left(148, 80\\right), \\left(149, 20\\right), \\left(150, 80\\right), \\left(151, 40\\right), \\left(152, 10\\right), \\left(153, 2\\right), \\left(154, 1\\right), \\left(155, 8\\right), \\left(156, 80\\right), \\left(157, 20\\right), \\left(158, 80\\right), \\left(159, 80\\right), \\left(160, 80\\right), \\left(161, 40\\right), \\left(162, 40\\right), \\left(163, 80\\right), \\left(164, 16\\right), \\left(165, 16\\right), \\left(166, 4\\right), \\left(167, 80\\right), \\left(168, 40\\right), \\left(169, 10\\right), \\left(170, 5\\right), \\left(171, 10\\right), \\left(172, 40\\right), \\left(173, 80\\right), \\left(174, 20\\right), \\left(175, 16\\right), \\left(176, 16\\right), \\left(177, 16\\right), \\left(178, 40\\right), \\left(179, 40\\right), \\left(180, 80\\right), \\left(181, 80\\right), \\left(182, 80\\right), \\left(183, 20\\right), \\left(184, 80\\right), \\left(185, 40\\right), \\left(186, 2\\right)\\right]</script></html>"
      ],
      "text/plain": [
       "[(1, 1),\n",
       " (2, 40),\n",
       " (3, 80),\n",
       " (4, 20),\n",
       " (5, 80),\n",
       " (6, 80),\n",
       " (7, 80),\n",
       " (8, 40),\n",
       " (9, 40),\n",
       " (10, 16),\n",
       " (11, 16),\n",
       " (12, 16),\n",
       " (13, 20),\n",
       " (14, 80),\n",
       " (15, 40),\n",
       " (16, 10),\n",
       " (17, 10),\n",
       " (18, 10),\n",
       " (19, 40),\n",
       " (20, 80),\n",
       " (21, 4),\n",
       " (22, 16),\n",
       " (23, 16),\n",
       " (24, 80),\n",
       " (25, 40),\n",
       " (26, 40),\n",
       " (27, 80),\n",
       " (28, 80),\n",
       " (29, 80),\n",
       " (30, 20),\n",
       " (31, 80),\n",
       " (32, 8),\n",
       " (33, 2),\n",
       " (34, 1),\n",
       " (35, 10),\n",
       " (36, 40),\n",
       " (37, 80),\n",
       " (38, 20),\n",
       " (39, 80),\n",
       " (40, 80),\n",
       " (41, 80),\n",
       " (42, 40),\n",
       " (43, 8),\n",
       " (44, 16),\n",
       " (45, 16),\n",
       " (46, 80),\n",
       " (47, 20),\n",
       " (48, 80),\n",
       " (49, 40),\n",
       " (50, 10),\n",
       " (51, 10),\n",
       " (52, 10),\n",
       " (53, 40),\n",
       " (54, 16),\n",
       " (55, 4),\n",
       " (56, 16),\n",
       " (57, 80),\n",
       " (58, 80),\n",
       " (59, 40),\n",
       " (60, 40),\n",
       " (61, 80),\n",
       " (62, 80),\n",
       " (63, 80),\n",
       " (64, 20),\n",
       " (65, 16),\n",
       " (66, 8),\n",
       " (67, 2),\n",
       " (68, 10),\n",
       " (69, 5),\n",
       " (70, 40),\n",
       " (71, 80),\n",
       " (72, 20),\n",
       " (73, 80),\n",
       " (74, 80),\n",
       " (75, 80),\n",
       " (76, 8),\n",
       " (77, 8),\n",
       " (78, 16),\n",
       " (79, 80),\n",
       " (80, 80),\n",
       " (81, 20),\n",
       " (82, 80),\n",
       " (83, 40),\n",
       " (84, 10),\n",
       " (85, 10),\n",
       " (86, 5),\n",
       " (87, 8),\n",
       " (88, 16),\n",
       " (89, 4),\n",
       " (90, 80),\n",
       " (91, 80),\n",
       " (92, 80),\n",
       " (93, 40),\n",
       " (94, 40),\n",
       " (95, 80),\n",
       " (96, 80),\n",
       " (97, 80),\n",
       " (98, 4),\n",
       " (99, 16),\n",
       " (100, 8),\n",
       " (101, 10),\n",
       " (102, 5),\n",
       " (103, 5),\n",
       " (104, 40),\n",
       " (105, 80),\n",
       " (106, 20),\n",
       " (107, 80),\n",
       " (108, 80),\n",
       " (109, 16),\n",
       " (110, 8),\n",
       " (111, 8),\n",
       " (112, 80),\n",
       " (113, 80),\n",
       " (114, 80),\n",
       " (115, 20),\n",
       " (116, 80),\n",
       " (117, 40),\n",
       " (118, 10),\n",
       " (119, 5),\n",
       " (120, 2),\n",
       " (121, 8),\n",
       " (122, 16),\n",
       " (123, 20),\n",
       " (124, 80),\n",
       " (125, 80),\n",
       " (126, 80),\n",
       " (127, 40),\n",
       " (128, 40),\n",
       " (129, 80),\n",
       " (130, 80),\n",
       " (131, 16),\n",
       " (132, 4),\n",
       " (133, 16),\n",
       " (134, 40),\n",
       " (135, 10),\n",
       " (136, 5),\n",
       " (137, 5),\n",
       " (138, 40),\n",
       " (139, 80),\n",
       " (140, 20),\n",
       " (141, 80),\n",
       " (142, 16),\n",
       " (143, 16),\n",
       " (144, 8),\n",
       " (145, 40),\n",
       " (146, 80),\n",
       " (147, 80),\n",
       " (148, 80),\n",
       " (149, 20),\n",
       " (150, 80),\n",
       " (151, 40),\n",
       " (152, 10),\n",
       " (153, 2),\n",
       " (154, 1),\n",
       " (155, 8),\n",
       " (156, 80),\n",
       " (157, 20),\n",
       " (158, 80),\n",
       " (159, 80),\n",
       " (160, 80),\n",
       " (161, 40),\n",
       " (162, 40),\n",
       " (163, 80),\n",
       " (164, 16),\n",
       " (165, 16),\n",
       " (166, 4),\n",
       " (167, 80),\n",
       " (168, 40),\n",
       " (169, 10),\n",
       " (170, 5),\n",
       " (171, 10),\n",
       " (172, 40),\n",
       " (173, 80),\n",
       " (174, 20),\n",
       " (175, 16),\n",
       " (176, 16),\n",
       " (177, 16),\n",
       " (178, 40),\n",
       " (179, 40),\n",
       " (180, 80),\n",
       " (181, 80),\n",
       " (182, 80),\n",
       " (183, 20),\n",
       " (184, 80),\n",
       " (185, 40),\n",
       " (186, 2)]"
      ]
     },
     "metadata": {},
     "output_type": "display_data"
    }
   ],
   "source": [
    "l = []\n",
    "for i in range(1,187):\n",
    "    l.append((i,aFaire(i)[1]-aFaire(i)[0]))\n",
    "\n",
    "show(l)\n"
   ]
  },
  {
   "cell_type": "code",
   "execution_count": 222,
   "metadata": {},
   "outputs": [
    {
     "data": {
      "image/png": "[encoded data removed]",
      "text/plain": [
       "Graphics object consisting of 1 graphics primitive"
      ]
     },
     "execution_count": 222,
     "metadata": {},
     "output_type": "execute_result"
    }
   ],
   "source": [
    "list_plot(l)"
   ]
  },
  {
   "cell_type": "code",
   "execution_count": 227,
   "metadata": {},
   "outputs": [
    {
     "data": {
      "image/png": "[encoded data removed]",
      "text/plain": [
       "Graphics object consisting of 1 graphics primitive"
      ]
     },
     "execution_count": 227,
     "metadata": {},
     "output_type": "execute_result"
    }
   ],
   "source": [
    "l2=[]\n",
    "for x,y in l:\n",
    "    l2.append((x,log(y,2)))\n",
    "list_plot(l2)"
   ]
  },
  {
   "cell_type": "code",
   "execution_count": null,
   "metadata": {},
   "outputs": [],
   "source": []
  }
 ],
 "metadata": {
  "celltoolbar": "Tags",
  "kernelspec": {
   "display_name": "SageMath 9.0",
   "language": "sage",
   "name": "sagemath"
  },
  "language_info": {
   "codemirror_mode": {
    "name": "ipython",
    "version": 3
   },
   "file_extension": ".py",
   "mimetype": "text/x-python",
   "name": "python",
   "nbconvert_exporter": "python",
   "pygments_lexer": "ipython3",
   "version": "3.8.10"
  },
  "toc": {
   "base_numbering": 1,
   "nav_menu": {},
   "number_sections": true,
   "sideBar": true,
   "skip_h1_title": true,
   "title_cell": "Table of Contents",
   "title_sidebar": "Contents",
   "toc_cell": false,
   "toc_position": {
    "height": "566.767px",
    "left": "0px",
    "right": "900px",
    "top": "110.233px",
    "width": "212px"
   },
   "toc_section_display": "block",
   "toc_window_display": true
  },
  "varInspector": {
   "cols": {
    "lenName": 16,
    "lenType": 16,
    "lenVar": 40
   },
   "kernels_config": {
    "python": {
     "delete_cmd_postfix": "",
     "delete_cmd_prefix": "del ",
     "library": "var_list.py",
     "varRefreshCmd": "print(var_dic_list())"
    },
    "r": {
     "delete_cmd_postfix": ") ",
     "delete_cmd_prefix": "rm(",
     "library": "var_list.r",
     "varRefreshCmd": "cat(var_dic_list()) "
    }
   },
   "types_to_exclude": [
    "module",
    "function",
    "builtin_function_or_method",
    "instance",
    "_Feature"
   ],
   "window_display": false
  }
 },
 "nbformat": 4,
 "nbformat_minor": 4
}
